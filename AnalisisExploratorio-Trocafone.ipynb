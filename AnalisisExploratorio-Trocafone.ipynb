{
 "cells": [
  {
   "cell_type": "code",
   "execution_count": 1,
   "metadata": {},
   "outputs": [],
   "source": [
    "import pandas as pd\n",
    "import numpy as np\n",
    "import matplotlib.pyplot as plt\n",
    "import datetime as dt\n",
    "%matplotlib inline\n",
    "import seaborn as sn"
   ]
  },
  {
   "cell_type": "code",
   "execution_count": 2,
   "metadata": {},
   "outputs": [],
   "source": [
    "#Funcion que pasa a formato datetime las fechas que recibimos.\n",
    "def datetime(date,format_string):\n",
    "    return pd.to_datetime(date,format= format_string,errors='coerce')\n"
   ]
  },
  {
   "cell_type": "code",
   "execution_count": 3,
   "metadata": {},
   "outputs": [
    {
     "name": "stderr",
     "output_type": "stream",
     "text": [
      "/anaconda/lib/python3.6/site-packages/IPython/core/interactiveshell.py:2717: DtypeWarning: Columns (5) have mixed types. Specify dtype option on import or set low_memory=False.\n",
      "  interactivity=interactivity, compiler=compiler, result=result)\n"
     ]
    }
   ],
   "source": [
    "eventsData = pd.read_csv(\"EventsConMenosNans.csv\")"
   ]
  },
  {
   "cell_type": "code",
   "execution_count": 4,
   "metadata": {},
   "outputs": [
    {
     "data": {
      "text/html": [
       "<div>\n",
       "<table border=\"1\" class=\"dataframe\">\n",
       "  <thead>\n",
       "    <tr style=\"text-align: right;\">\n",
       "      <th></th>\n",
       "      <th>Unnamed: 0</th>\n",
       "      <th>timestamp</th>\n",
       "      <th>event</th>\n",
       "      <th>person</th>\n",
       "      <th>url</th>\n",
       "      <th>sku</th>\n",
       "      <th>model</th>\n",
       "      <th>condition</th>\n",
       "      <th>storage</th>\n",
       "      <th>color</th>\n",
       "      <th>...</th>\n",
       "      <th>search_engine</th>\n",
       "      <th>channel</th>\n",
       "      <th>new_vs_returning</th>\n",
       "      <th>city</th>\n",
       "      <th>region</th>\n",
       "      <th>country</th>\n",
       "      <th>device_type</th>\n",
       "      <th>screen_resolution</th>\n",
       "      <th>operating_system_version</th>\n",
       "      <th>browser_version</th>\n",
       "    </tr>\n",
       "  </thead>\n",
       "  <tbody>\n",
       "    <tr>\n",
       "      <th>0</th>\n",
       "      <td>0</td>\n",
       "      <td>2018-05-31 23:38:05</td>\n",
       "      <td>ad campaign hit</td>\n",
       "      <td>0004b0a2</td>\n",
       "      <td>/comprar/iphone/iphone-5s</td>\n",
       "      <td>NaN</td>\n",
       "      <td>iphone 5s</td>\n",
       "      <td>NaN</td>\n",
       "      <td>NaN</td>\n",
       "      <td>NaN</td>\n",
       "      <td>...</td>\n",
       "      <td>NaN</td>\n",
       "      <td>NaN</td>\n",
       "      <td>NaN</td>\n",
       "      <td>Camaragibe</td>\n",
       "      <td>Pernambuco</td>\n",
       "      <td>Brazil</td>\n",
       "      <td>NaN</td>\n",
       "      <td>NaN</td>\n",
       "      <td>NaN</td>\n",
       "      <td>NaN</td>\n",
       "    </tr>\n",
       "    <tr>\n",
       "      <th>1</th>\n",
       "      <td>1</td>\n",
       "      <td>2018-05-31 23:38:05</td>\n",
       "      <td>visited site</td>\n",
       "      <td>0004b0a2</td>\n",
       "      <td>NaN</td>\n",
       "      <td>NaN</td>\n",
       "      <td>NaN</td>\n",
       "      <td>NaN</td>\n",
       "      <td>NaN</td>\n",
       "      <td>NaN</td>\n",
       "      <td>...</td>\n",
       "      <td>NaN</td>\n",
       "      <td>Paid</td>\n",
       "      <td>New</td>\n",
       "      <td>Camaragibe</td>\n",
       "      <td>Pernambuco</td>\n",
       "      <td>Brazil</td>\n",
       "      <td>Smartphone</td>\n",
       "      <td>360x640</td>\n",
       "      <td>Android 6</td>\n",
       "      <td>Chrome Mobile 39</td>\n",
       "    </tr>\n",
       "    <tr>\n",
       "      <th>2</th>\n",
       "      <td>2</td>\n",
       "      <td>2018-05-31 23:38:09</td>\n",
       "      <td>viewed product</td>\n",
       "      <td>0004b0a2</td>\n",
       "      <td>NaN</td>\n",
       "      <td>2694</td>\n",
       "      <td>iphone 5s</td>\n",
       "      <td>Bom</td>\n",
       "      <td>32GB</td>\n",
       "      <td>Cinza espacial</td>\n",
       "      <td>...</td>\n",
       "      <td>NaN</td>\n",
       "      <td>NaN</td>\n",
       "      <td>NaN</td>\n",
       "      <td>Camaragibe</td>\n",
       "      <td>Pernambuco</td>\n",
       "      <td>Brazil</td>\n",
       "      <td>NaN</td>\n",
       "      <td>NaN</td>\n",
       "      <td>NaN</td>\n",
       "      <td>NaN</td>\n",
       "    </tr>\n",
       "    <tr>\n",
       "      <th>3</th>\n",
       "      <td>3</td>\n",
       "      <td>2018-05-31 23:38:40</td>\n",
       "      <td>checkout</td>\n",
       "      <td>0004b0a2</td>\n",
       "      <td>NaN</td>\n",
       "      <td>2694</td>\n",
       "      <td>iphone 5s</td>\n",
       "      <td>Bom</td>\n",
       "      <td>32GB</td>\n",
       "      <td>Cinza espacial</td>\n",
       "      <td>...</td>\n",
       "      <td>NaN</td>\n",
       "      <td>NaN</td>\n",
       "      <td>NaN</td>\n",
       "      <td>Camaragibe</td>\n",
       "      <td>Pernambuco</td>\n",
       "      <td>Brazil</td>\n",
       "      <td>NaN</td>\n",
       "      <td>NaN</td>\n",
       "      <td>NaN</td>\n",
       "      <td>NaN</td>\n",
       "    </tr>\n",
       "    <tr>\n",
       "      <th>4</th>\n",
       "      <td>4</td>\n",
       "      <td>2018-05-29 13:29:25</td>\n",
       "      <td>viewed product</td>\n",
       "      <td>0006a21a</td>\n",
       "      <td>NaN</td>\n",
       "      <td>15338</td>\n",
       "      <td>samsung galaxy s8</td>\n",
       "      <td>Bom</td>\n",
       "      <td>64GB</td>\n",
       "      <td>Dourado</td>\n",
       "      <td>...</td>\n",
       "      <td>NaN</td>\n",
       "      <td>NaN</td>\n",
       "      <td>NaN</td>\n",
       "      <td>Rio de Janeiro</td>\n",
       "      <td>Rio de Janeiro</td>\n",
       "      <td>Brazil</td>\n",
       "      <td>NaN</td>\n",
       "      <td>NaN</td>\n",
       "      <td>NaN</td>\n",
       "      <td>NaN</td>\n",
       "    </tr>\n",
       "  </tbody>\n",
       "</table>\n",
       "<p>5 rows × 24 columns</p>\n",
       "</div>"
      ],
      "text/plain": [
       "   Unnamed: 0            timestamp            event    person  \\\n",
       "0           0  2018-05-31 23:38:05  ad campaign hit  0004b0a2   \n",
       "1           1  2018-05-31 23:38:05     visited site  0004b0a2   \n",
       "2           2  2018-05-31 23:38:09   viewed product  0004b0a2   \n",
       "3           3  2018-05-31 23:38:40         checkout  0004b0a2   \n",
       "4           4  2018-05-29 13:29:25   viewed product  0006a21a   \n",
       "\n",
       "                         url    sku              model condition storage  \\\n",
       "0  /comprar/iphone/iphone-5s    NaN          iphone 5s       NaN     NaN   \n",
       "1                        NaN    NaN                NaN       NaN     NaN   \n",
       "2                        NaN   2694          iphone 5s       Bom    32GB   \n",
       "3                        NaN   2694          iphone 5s       Bom    32GB   \n",
       "4                        NaN  15338  samsung galaxy s8       Bom    64GB   \n",
       "\n",
       "            color        ...        search_engine channel new_vs_returning  \\\n",
       "0             NaN        ...                  NaN     NaN              NaN   \n",
       "1             NaN        ...                  NaN    Paid              New   \n",
       "2  Cinza espacial        ...                  NaN     NaN              NaN   \n",
       "3  Cinza espacial        ...                  NaN     NaN              NaN   \n",
       "4         Dourado        ...                  NaN     NaN              NaN   \n",
       "\n",
       "             city          region country device_type screen_resolution  \\\n",
       "0      Camaragibe      Pernambuco  Brazil         NaN               NaN   \n",
       "1      Camaragibe      Pernambuco  Brazil  Smartphone           360x640   \n",
       "2      Camaragibe      Pernambuco  Brazil         NaN               NaN   \n",
       "3      Camaragibe      Pernambuco  Brazil         NaN               NaN   \n",
       "4  Rio de Janeiro  Rio de Janeiro  Brazil         NaN               NaN   \n",
       "\n",
       "  operating_system_version   browser_version  \n",
       "0                      NaN               NaN  \n",
       "1                Android 6  Chrome Mobile 39  \n",
       "2                      NaN               NaN  \n",
       "3                      NaN               NaN  \n",
       "4                      NaN               NaN  \n",
       "\n",
       "[5 rows x 24 columns]"
      ]
     },
     "execution_count": 4,
     "metadata": {},
     "output_type": "execute_result"
    }
   ],
   "source": [
    "eventsData.head()"
   ]
  },
  {
   "cell_type": "code",
   "execution_count": 5,
   "metadata": {},
   "outputs": [
    {
     "data": {
      "text/plain": [
       "Unnamed: 0                  1011288\n",
       "timestamp                   1011288\n",
       "event                       1011288\n",
       "person                      1011288\n",
       "url                           82756\n",
       "sku                          563838\n",
       "model                        618574\n",
       "condition                    563836\n",
       "storage                      563836\n",
       "color                        563836\n",
       "skus                         221699\n",
       "search_term                   48967\n",
       "staticpage                     3598\n",
       "campaign_source               82796\n",
       "search_engine                 50957\n",
       "channel                       87378\n",
       "new_vs_returning              87378\n",
       "city                        1008799\n",
       "region                      1008799\n",
       "country                     1008799\n",
       "device_type                   87378\n",
       "screen_resolution             87378\n",
       "operating_system_version      87378\n",
       "browser_version               87378\n",
       "dtype: int64"
      ]
     },
     "execution_count": 5,
     "metadata": {},
     "output_type": "execute_result"
    }
   ],
   "source": [
    "eventsData.count()"
   ]
  },
  {
   "cell_type": "code",
   "execution_count": 6,
   "metadata": {},
   "outputs": [
    {
     "data": {
      "text/plain": [
       "Unnamed: 0                   int64\n",
       "timestamp                   object\n",
       "event                       object\n",
       "person                      object\n",
       "url                         object\n",
       "sku                         object\n",
       "model                       object\n",
       "condition                   object\n",
       "storage                     object\n",
       "color                       object\n",
       "skus                        object\n",
       "search_term                 object\n",
       "staticpage                  object\n",
       "campaign_source             object\n",
       "search_engine               object\n",
       "channel                     object\n",
       "new_vs_returning            object\n",
       "city                        object\n",
       "region                      object\n",
       "country                     object\n",
       "device_type                 object\n",
       "screen_resolution           object\n",
       "operating_system_version    object\n",
       "browser_version             object\n",
       "dtype: object"
      ]
     },
     "execution_count": 6,
     "metadata": {},
     "output_type": "execute_result"
    }
   ],
   "source": [
    "eventsData.dtypes"
   ]
  },
  {
   "cell_type": "code",
   "execution_count": 4,
   "metadata": {},
   "outputs": [],
   "source": [
    "eventsData[\"timestamp\"] = datetime(eventsData[\"timestamp\"],\"%Y-%m-%dT%H:%M:%S\")"
   ]
  },
  {
   "cell_type": "markdown",
   "metadata": {},
   "source": [
    "Analisis exploratorio"
   ]
  },
  {
   "cell_type": "markdown",
   "metadata": {},
   "source": [
    "Analisis de eventos"
   ]
  },
  {
   "cell_type": "code",
   "execution_count": 8,
   "metadata": {},
   "outputs": [],
   "source": [
    "topEvents = eventsData[\"event\"].value_counts()"
   ]
  },
  {
   "cell_type": "code",
   "execution_count": 9,
   "metadata": {},
   "outputs": [
    {
     "data": {
      "image/png": "[encoded data removed]",
      "text/plain": [
       "<matplotlib.figure.Figure at 0x11d883a20>"
      ]
     },
     "metadata": {},
     "output_type": "display_data"
    }
   ],
   "source": [
    "\n",
    "f = plt.figure()\n",
    "\n",
    "plt.title ('Top eventos',color='black')\n",
    "\n",
    "ax = topEvents.plot(kind='bar', figsize=(10,6) ,alpha=0.75, ax=f.gca(), color='red' )\n",
    "\n",
    "\n",
    "ax.set_xlabel('Tipo de evento')\n",
    "ax.set_ylabel(\"Cantidad de ocurrencia\")\n",
    "#plt.show()\n",
    "\n",
    "plt.savefig('Topeventos',bbox_inches='tight')"
   ]
  },
  {
   "cell_type": "code",
   "execution_count": 10,
   "metadata": {},
   "outputs": [
    {
     "data": {
      "image/png": "[encoded data removed]",
      "text/plain": [
       "<matplotlib.figure.Figure at 0x11c911c88>"
      ]
     },
     "metadata": {},
     "output_type": "display_data"
    }
   ],
   "source": [
    "\n",
    "f = plt.figure()\n",
    "\n",
    "plt.title ('Top eventos',color='black')\n",
    "\n",
    "ax = topEvents.plot(kind='bar', figsize=(10,6), logy = True ,alpha=0.75, ax=f.gca(), color='red' )\n",
    "\n",
    "\n",
    "ax.set_xlabel('Tipo de evento')\n",
    "ax.set_ylabel(\"Cantidad de ocurrencia\")\n",
    "#plt.show()\n",
    "\n",
    "plt.savefig('Topeventoslog',bbox_inches='tight')\n",
    "\n"
   ]
  },
  {
   "cell_type": "markdown",
   "metadata": {},
   "source": [
    "Analisis de conversiones por sku"
   ]
  },
  {
   "cell_type": "code",
   "execution_count": 11,
   "metadata": {},
   "outputs": [],
   "source": [
    "eventsSku = eventsData[[\"sku\",\"event\"]]"
   ]
  },
  {
   "cell_type": "code",
   "execution_count": 12,
   "metadata": {},
   "outputs": [
    {
     "data": {
      "text/plain": [
       "viewed product       528931\n",
       "brand listing         98635\n",
       "visited site          87378\n",
       "ad campaign hit       82827\n",
       "generic listing       67534\n",
       "searched products     56073\n",
       "search engine hit     50957\n",
       "checkout              33735\n",
       "staticpage             3598\n",
       "conversion             1172\n",
       "lead                    448\n",
       "Name: event, dtype: int64"
      ]
     },
     "execution_count": 12,
     "metadata": {},
     "output_type": "execute_result"
    }
   ],
   "source": [
    "eventsSku[\"event\"].value_counts()"
   ]
  },
  {
   "cell_type": "code",
   "execution_count": 13,
   "metadata": {},
   "outputs": [],
   "source": [
    "eventsSku = eventsSku[eventsSku[\"event\"] == \"conversion\"]"
   ]
  },
  {
   "cell_type": "code",
   "execution_count": 14,
   "metadata": {},
   "outputs": [
    {
     "data": {
      "text/plain": [
       "False    1172\n",
       "Name: sku, dtype: int64"
      ]
     },
     "execution_count": 14,
     "metadata": {},
     "output_type": "execute_result"
    }
   ],
   "source": [
    "eventsSku[\"sku\"].isnull().value_counts()"
   ]
  },
  {
   "cell_type": "code",
   "execution_count": 15,
   "metadata": {},
   "outputs": [
    {
     "data": {
      "text/plain": [
       "1172"
      ]
     },
     "execution_count": 15,
     "metadata": {},
     "output_type": "execute_result"
    }
   ],
   "source": [
    "eventsSku[\"sku\"].count()"
   ]
  },
  {
   "cell_type": "code",
   "execution_count": 16,
   "metadata": {},
   "outputs": [],
   "source": [
    "top5sku = eventsSku[\"sku\"].value_counts()"
   ]
  },
  {
   "cell_type": "code",
   "execution_count": 17,
   "metadata": {},
   "outputs": [
    {
     "data": {
      "text/plain": [
       "6371.0    29\n",
       "6370.0    18\n",
       "7631.0    17\n",
       "2692.0    16\n",
       "3371.0    14\n",
       "Name: sku, dtype: int64"
      ]
     },
     "execution_count": 17,
     "metadata": {},
     "output_type": "execute_result"
    }
   ],
   "source": [
    "top5sku[0:5]"
   ]
  },
  {
   "cell_type": "code",
   "execution_count": 18,
   "metadata": {},
   "outputs": [
    {
     "data": {
      "image/png": "[encoded data removed]",
      "text/plain": [
       "<matplotlib.figure.Figure at 0x11dc83630>"
      ]
     },
     "metadata": {},
     "output_type": "display_data"
    }
   ],
   "source": [
    "\n",
    "f = plt.figure()\n",
    "\n",
    "plt.title ('Top 5 Skus',color='black')\n",
    "\n",
    "ax = top5sku[0:5].plot(kind='bar', figsize=(10,6) ,alpha=0.75, ax=f.gca(), color='green' )\n",
    "\n",
    "\n",
    "ax.set_xlabel('Sku')\n",
    "ax.set_ylabel(\"Cantidad de conversiones\")\n",
    "#plt.show()\n",
    "\n",
    "plt.savefig('Top5skuns.png',bbox_inches='tight')\n",
    "\n"
   ]
  },
  {
   "cell_type": "markdown",
   "metadata": {},
   "source": [
    "Analisis de actividad de usuarios"
   ]
  },
  {
   "cell_type": "code",
   "execution_count": 19,
   "metadata": {},
   "outputs": [],
   "source": [
    "usersData = eventsData[[\"person\",\"event\"]]"
   ]
  },
  {
   "cell_type": "code",
   "execution_count": 20,
   "metadata": {},
   "outputs": [
    {
     "data": {
      "text/html": [
       "<div>\n",
       "<table border=\"1\" class=\"dataframe\">\n",
       "  <thead>\n",
       "    <tr style=\"text-align: right;\">\n",
       "      <th></th>\n",
       "      <th>person</th>\n",
       "      <th>event</th>\n",
       "    </tr>\n",
       "  </thead>\n",
       "  <tbody>\n",
       "    <tr>\n",
       "      <th>0</th>\n",
       "      <td>0004b0a2</td>\n",
       "      <td>ad campaign hit</td>\n",
       "    </tr>\n",
       "    <tr>\n",
       "      <th>1</th>\n",
       "      <td>0004b0a2</td>\n",
       "      <td>visited site</td>\n",
       "    </tr>\n",
       "    <tr>\n",
       "      <th>2</th>\n",
       "      <td>0004b0a2</td>\n",
       "      <td>viewed product</td>\n",
       "    </tr>\n",
       "    <tr>\n",
       "      <th>3</th>\n",
       "      <td>0004b0a2</td>\n",
       "      <td>checkout</td>\n",
       "    </tr>\n",
       "    <tr>\n",
       "      <th>4</th>\n",
       "      <td>0006a21a</td>\n",
       "      <td>viewed product</td>\n",
       "    </tr>\n",
       "  </tbody>\n",
       "</table>\n",
       "</div>"
      ],
      "text/plain": [
       "     person            event\n",
       "0  0004b0a2  ad campaign hit\n",
       "1  0004b0a2     visited site\n",
       "2  0004b0a2   viewed product\n",
       "3  0004b0a2         checkout\n",
       "4  0006a21a   viewed product"
      ]
     },
     "execution_count": 20,
     "metadata": {},
     "output_type": "execute_result"
    }
   ],
   "source": [
    "usersData.head()"
   ]
  },
  {
   "cell_type": "code",
   "execution_count": 21,
   "metadata": {},
   "outputs": [],
   "source": [
    "top7users = usersData[\"person\"].value_counts()"
   ]
  },
  {
   "cell_type": "code",
   "execution_count": 22,
   "metadata": {},
   "outputs": [],
   "source": [
    "top7users = top7users[0:7]"
   ]
  },
  {
   "cell_type": "code",
   "execution_count": 23,
   "metadata": {},
   "outputs": [
    {
     "data": {
      "text/plain": [
       "71492f2b    2771\n",
       "6b07be7b    2770\n",
       "285101a1    2140\n",
       "3e34b3cf    1877\n",
       "2d5a84c1    1800\n",
       "5f25cb5d    1797\n",
       "5af7e2bc    1773\n",
       "Name: person, dtype: int64"
      ]
     },
     "execution_count": 23,
     "metadata": {},
     "output_type": "execute_result"
    }
   ],
   "source": [
    "top7users"
   ]
  },
  {
   "cell_type": "code",
   "execution_count": 24,
   "metadata": {},
   "outputs": [
    {
     "data": {
      "text/plain": [
       "Index(['71492f2b', '6b07be7b', '285101a1', '3e34b3cf', '2d5a84c1', '5f25cb5d',\n",
       "       '5af7e2bc'],\n",
       "      dtype='object')"
      ]
     },
     "execution_count": 24,
     "metadata": {},
     "output_type": "execute_result"
    }
   ],
   "source": [
    "top7users.keys()"
   ]
  },
  {
   "cell_type": "code",
   "execution_count": 25,
   "metadata": {},
   "outputs": [
    {
     "data": {
      "text/html": [
       "<div>\n",
       "<table border=\"1\" class=\"dataframe\">\n",
       "  <thead>\n",
       "    <tr style=\"text-align: right;\">\n",
       "      <th></th>\n",
       "      <th>person</th>\n",
       "      <th>event</th>\n",
       "    </tr>\n",
       "  </thead>\n",
       "  <tbody>\n",
       "    <tr>\n",
       "      <th>0</th>\n",
       "      <td>0004b0a2</td>\n",
       "      <td>ad campaign hit</td>\n",
       "    </tr>\n",
       "    <tr>\n",
       "      <th>1</th>\n",
       "      <td>0004b0a2</td>\n",
       "      <td>visited site</td>\n",
       "    </tr>\n",
       "    <tr>\n",
       "      <th>2</th>\n",
       "      <td>0004b0a2</td>\n",
       "      <td>viewed product</td>\n",
       "    </tr>\n",
       "    <tr>\n",
       "      <th>3</th>\n",
       "      <td>0004b0a2</td>\n",
       "      <td>checkout</td>\n",
       "    </tr>\n",
       "    <tr>\n",
       "      <th>4</th>\n",
       "      <td>0006a21a</td>\n",
       "      <td>viewed product</td>\n",
       "    </tr>\n",
       "  </tbody>\n",
       "</table>\n",
       "</div>"
      ],
      "text/plain": [
       "     person            event\n",
       "0  0004b0a2  ad campaign hit\n",
       "1  0004b0a2     visited site\n",
       "2  0004b0a2   viewed product\n",
       "3  0004b0a2         checkout\n",
       "4  0006a21a   viewed product"
      ]
     },
     "execution_count": 25,
     "metadata": {},
     "output_type": "execute_result"
    }
   ],
   "source": [
    "\n",
    "usersData.head()"
   ]
  },
  {
   "cell_type": "code",
   "execution_count": 26,
   "metadata": {},
   "outputs": [],
   "source": [
    "personData = usersData[usersData[\"person\"].isin(top7users.keys())]\n"
   ]
  },
  {
   "cell_type": "code",
   "execution_count": 27,
   "metadata": {},
   "outputs": [
    {
     "data": {
      "text/plain": [
       "Index(['71492f2b', '6b07be7b', '285101a1', '3e34b3cf', '2d5a84c1', '5f25cb5d',\n",
       "       '5af7e2bc'],\n",
       "      dtype='object')"
      ]
     },
     "execution_count": 27,
     "metadata": {},
     "output_type": "execute_result"
    }
   ],
   "source": [
    "top7users.keys()"
   ]
  },
  {
   "cell_type": "code",
   "execution_count": 28,
   "metadata": {},
   "outputs": [
    {
     "data": {
      "text/plain": [
       "Index(['71492f2b', '6b07be7b', '285101a1', '3e34b3cf', '2d5a84c1', '5f25cb5d',\n",
       "       '5af7e2bc'],\n",
       "      dtype='object')"
      ]
     },
     "execution_count": 28,
     "metadata": {},
     "output_type": "execute_result"
    }
   ],
   "source": [
    "personData[\"person\"].value_counts().keys()"
   ]
  },
  {
   "cell_type": "code",
   "execution_count": 29,
   "metadata": {},
   "outputs": [],
   "source": [
    "dataplot = personData#.drop(\"tasa\",axis=1)"
   ]
  },
  {
   "cell_type": "code",
   "execution_count": 30,
   "metadata": {},
   "outputs": [
    {
     "data": {
      "text/plain": [
       "viewed product       0.534566\n",
       "brand listing        0.257302\n",
       "generic listing      0.078376\n",
       "visited site         0.068060\n",
       "ad campaign hit      0.035638\n",
       "searched products    0.014135\n",
       "search engine hit    0.004220\n",
       "staticpage           0.003885\n",
       "checkout             0.002880\n",
       "conversion           0.000737\n",
       "lead                 0.000201\n",
       "Name: event, dtype: float64"
      ]
     },
     "execution_count": 30,
     "metadata": {},
     "output_type": "execute_result"
    }
   ],
   "source": [
    "dataplot[\"event\"].value_counts(normalize = True)"
   ]
  },
  {
   "cell_type": "code",
   "execution_count": 31,
   "metadata": {},
   "outputs": [
    {
     "name": "stderr",
     "output_type": "stream",
     "text": [
      "/anaconda/lib/python3.6/site-packages/ipykernel/__main__.py:1: SettingWithCopyWarning: \n",
      "A value is trying to be set on a copy of a slice from a DataFrame.\n",
      "Try using .loc[row_indexer,col_indexer] = value instead\n",
      "\n",
      "See the caveats in the documentation: http://pandas.pydata.org/pandas-docs/stable/indexing.html#indexing-view-versus-copy\n",
      "  if __name__ == '__main__':\n"
     ]
    }
   ],
   "source": [
    "dataplot[\"event\"] = dataplot[\"event\"].map({\"viewed product\": \"viewed product\", \"brand listing\": \"brand listing\", \"generic listing\":\"generic listing\", \"visited site\":\"visited site\", \"ad campaign hit\":\"ad campaign hit\", \"searched products\" : \"others\", \"search engine hit\":\"others\",\"staticpage\":\"others\", \"checkout\": \"others\",\"conversion\":\"others\",\"lead\":\"others\"})"
   ]
  },
  {
   "cell_type": "code",
   "execution_count": 32,
   "metadata": {},
   "outputs": [
    {
     "data": {
      "text/plain": [
       "viewed product     7980\n",
       "brand listing      3841\n",
       "generic listing    1170\n",
       "visited site       1016\n",
       "ad campaign hit     532\n",
       "others              389\n",
       "Name: event, dtype: int64"
      ]
     },
     "execution_count": 32,
     "metadata": {},
     "output_type": "execute_result"
    }
   ],
   "source": [
    "dataplot[\"event\"].value_counts()"
   ]
  },
  {
   "cell_type": "code",
   "execution_count": 33,
   "metadata": {},
   "outputs": [
    {
     "data": {
      "text/plain": [
       "<matplotlib.figure.Figure at 0x11db36470>"
      ]
     },
     "metadata": {},
     "output_type": "display_data"
    },
    {
     "data": {
      "image/png": "[encoded data removed]",
      "text/plain": [
       "<matplotlib.figure.Figure at 0x11db33860>"
      ]
     },
     "metadata": {},
     "output_type": "display_data"
    }
   ],
   "source": [
    "\n",
    "f = plt.figure()\n",
    "df2 = dataplot.groupby(['person', 'event'],sort = True)['person'].count().unstack('event').fillna(0)\n",
    "ax =df2.plot(kind='bar', stacked=True, figsize=(15,10))\n",
    "plt.title('top 7 usuarios con mas eventos')\n",
    "ax.set_xlabel('Person id')\n",
    "\n",
    "ax.set_ylabel(\"Cantidad de eventos\")\n",
    "#plt.show()\n",
    "plt.savefig('usuarios_top.png',bbox_inches='tight')"
   ]
  },
  {
   "cell_type": "markdown",
   "metadata": {},
   "source": [
    "Analisis de modelos "
   ]
  },
  {
   "cell_type": "code",
   "execution_count": 34,
   "metadata": {},
   "outputs": [],
   "source": [
    "modelsselled = eventsData[eventsData[\"event\"] == \"conversion\"][\"model\"].value_counts()"
   ]
  },
  {
   "cell_type": "code",
   "execution_count": 35,
   "metadata": {},
   "outputs": [
    {
     "data": {
      "text/plain": [
       "samsung galaxy j5                    88\n",
       "iphone 5s                            84\n",
       "iphone 6                             71\n",
       "samsung galaxy s6 flat               39\n",
       "iphone 6s                            37\n",
       "iphone 5c                            33\n",
       "motorola moto g3 4g                  30\n",
       "motorola moto g4 plus                30\n",
       "samsung galaxy j7                    28\n",
       "samsung galaxy a5                    27\n",
       "samsung galaxy gran prime duos tv    24\n",
       "samsung galaxy j7 prime              20\n",
       "samsung galaxy note 4                19\n",
       "samsung galaxy s7                    18\n",
       "samsung galaxy s5                    18\n",
       "samsung galaxy gran prime 3g duos    18\n",
       "samsung galaxy s3 mini               17\n",
       "iphone 5                             17\n",
       "iphone se                            17\n",
       "motorola moto g2 3g dual             17\n",
       "samsung galaxy s7 edge               17\n",
       "iphone 7                             16\n",
       "samsung galaxy s5 mini duos          16\n",
       "samsung galaxy win duos              16\n",
       "samsung galaxy s6 edge               16\n",
       "samsung galaxy s8                    15\n",
       "iphone 6s plus                       14\n",
       "samsung galaxy j2 prime tv           13\n",
       "samsung galaxy a5 2016               13\n",
       "samsung galaxy core 2 duos           13\n",
       "                                     ..\n",
       "lg l prime d337                       3\n",
       "samsung galaxy y duos                 3\n",
       "samsung galaxy gran neo duos          3\n",
       "samsung galaxy s4 i9515               3\n",
       "samsung galaxy core plus duos tv      3\n",
       "lg g4 h815p                           2\n",
       "motorola moto z                       2\n",
       "samsung galaxy on 7                   2\n",
       "motorola moto g3 hdtv                 2\n",
       "samsung galaxy win 2 duos tv          2\n",
       "samsung galaxy note 3                 2\n",
       "lg k10 novo                           2\n",
       "motorola moto x style                 2\n",
       "motorola moto x force                 1\n",
       "samsung galaxy a9 pro 2016            1\n",
       "samsung gear s2                       1\n",
       "samsung galaxy a3 2016                1\n",
       "samsung galaxy j5 pro                 1\n",
       "sony xperia z2                        1\n",
       "asus zenfone 5                        1\n",
       "sony xperia m4 aqua                   1\n",
       "asus zenfone 3 max 16 gb              1\n",
       "iphone 8                              1\n",
       "motorola moto g5s plus                1\n",
       "samsung galaxy e5 4g duos             1\n",
       "samsung galaxy mega duos              1\n",
       "samsung galaxy s6 edge plus           1\n",
       "samsung galaxy j7 neo                 1\n",
       "motorola moto z2 play                 1\n",
       "lg g4 h818p                           1\n",
       "Name: model, dtype: int64"
      ]
     },
     "execution_count": 35,
     "metadata": {},
     "output_type": "execute_result"
    }
   ],
   "source": [
    "modelsselled"
   ]
  },
  {
   "cell_type": "code",
   "execution_count": 36,
   "metadata": {},
   "outputs": [],
   "source": [
    "modelsselled = modelsselled.to_frame()"
   ]
  },
  {
   "cell_type": "code",
   "execution_count": 37,
   "metadata": {},
   "outputs": [],
   "source": [
    "modelsselled = modelsselled.reset_index()"
   ]
  },
  {
   "cell_type": "code",
   "execution_count": 38,
   "metadata": {},
   "outputs": [
    {
     "data": {
      "text/html": [
       "<div>\n",
       "<table border=\"1\" class=\"dataframe\">\n",
       "  <thead>\n",
       "    <tr style=\"text-align: right;\">\n",
       "      <th></th>\n",
       "      <th>index</th>\n",
       "      <th>model</th>\n",
       "    </tr>\n",
       "  </thead>\n",
       "  <tbody>\n",
       "    <tr>\n",
       "      <th>0</th>\n",
       "      <td>samsung galaxy j5</td>\n",
       "      <td>88</td>\n",
       "    </tr>\n",
       "    <tr>\n",
       "      <th>1</th>\n",
       "      <td>iphone 5s</td>\n",
       "      <td>84</td>\n",
       "    </tr>\n",
       "    <tr>\n",
       "      <th>2</th>\n",
       "      <td>iphone 6</td>\n",
       "      <td>71</td>\n",
       "    </tr>\n",
       "    <tr>\n",
       "      <th>3</th>\n",
       "      <td>samsung galaxy s6 flat</td>\n",
       "      <td>39</td>\n",
       "    </tr>\n",
       "    <tr>\n",
       "      <th>4</th>\n",
       "      <td>iphone 6s</td>\n",
       "      <td>37</td>\n",
       "    </tr>\n",
       "  </tbody>\n",
       "</table>\n",
       "</div>"
      ],
      "text/plain": [
       "                    index  model\n",
       "0       samsung galaxy j5     88\n",
       "1               iphone 5s     84\n",
       "2                iphone 6     71\n",
       "3  samsung galaxy s6 flat     39\n",
       "4               iphone 6s     37"
      ]
     },
     "execution_count": 38,
     "metadata": {},
     "output_type": "execute_result"
    }
   ],
   "source": [
    "modelsselled.head()"
   ]
  },
  {
   "cell_type": "code",
   "execution_count": 39,
   "metadata": {},
   "outputs": [],
   "source": [
    "modelsselled = modelsselled.rename(index=str, columns={\"model\": \"count\", \"index\": \"version\"})"
   ]
  },
  {
   "cell_type": "code",
   "execution_count": 40,
   "metadata": {},
   "outputs": [
    {
     "data": {
      "text/html": [
       "<div>\n",
       "<table border=\"1\" class=\"dataframe\">\n",
       "  <thead>\n",
       "    <tr style=\"text-align: right;\">\n",
       "      <th></th>\n",
       "      <th>version</th>\n",
       "      <th>count</th>\n",
       "    </tr>\n",
       "  </thead>\n",
       "  <tbody>\n",
       "    <tr>\n",
       "      <th>0</th>\n",
       "      <td>samsung galaxy j5</td>\n",
       "      <td>88</td>\n",
       "    </tr>\n",
       "    <tr>\n",
       "      <th>1</th>\n",
       "      <td>iphone 5s</td>\n",
       "      <td>84</td>\n",
       "    </tr>\n",
       "    <tr>\n",
       "      <th>2</th>\n",
       "      <td>iphone 6</td>\n",
       "      <td>71</td>\n",
       "    </tr>\n",
       "    <tr>\n",
       "      <th>3</th>\n",
       "      <td>samsung galaxy s6 flat</td>\n",
       "      <td>39</td>\n",
       "    </tr>\n",
       "    <tr>\n",
       "      <th>4</th>\n",
       "      <td>iphone 6s</td>\n",
       "      <td>37</td>\n",
       "    </tr>\n",
       "  </tbody>\n",
       "</table>\n",
       "</div>"
      ],
      "text/plain": [
       "                  version  count\n",
       "0       samsung galaxy j5     88\n",
       "1               iphone 5s     84\n",
       "2                iphone 6     71\n",
       "3  samsung galaxy s6 flat     39\n",
       "4               iphone 6s     37"
      ]
     },
     "execution_count": 40,
     "metadata": {},
     "output_type": "execute_result"
    }
   ],
   "source": [
    "modelsselled.head()"
   ]
  },
  {
   "cell_type": "code",
   "execution_count": 41,
   "metadata": {},
   "outputs": [],
   "source": [
    "modelsselled[\"marca\"] = modelsselled[\"version\"].map(lambda x: x.split(\" \")[0])\n",
    "modelsselled[\"model\"] = modelsselled[\"version\"].map(lambda x: \" \".join(x.split(\" \")[1:3]))\n",
    "modelsselled = modelsselled.drop(\"version\",axis=1)"
   ]
  },
  {
   "cell_type": "code",
   "execution_count": 42,
   "metadata": {},
   "outputs": [
    {
     "data": {
      "text/html": [
       "<div>\n",
       "<table border=\"1\" class=\"dataframe\">\n",
       "  <thead>\n",
       "    <tr style=\"text-align: right;\">\n",
       "      <th></th>\n",
       "      <th>count</th>\n",
       "      <th>marca</th>\n",
       "      <th>model</th>\n",
       "    </tr>\n",
       "  </thead>\n",
       "  <tbody>\n",
       "    <tr>\n",
       "      <th>0</th>\n",
       "      <td>88</td>\n",
       "      <td>samsung</td>\n",
       "      <td>galaxy j5</td>\n",
       "    </tr>\n",
       "    <tr>\n",
       "      <th>1</th>\n",
       "      <td>84</td>\n",
       "      <td>iphone</td>\n",
       "      <td>5s</td>\n",
       "    </tr>\n",
       "    <tr>\n",
       "      <th>2</th>\n",
       "      <td>71</td>\n",
       "      <td>iphone</td>\n",
       "      <td>6</td>\n",
       "    </tr>\n",
       "    <tr>\n",
       "      <th>3</th>\n",
       "      <td>39</td>\n",
       "      <td>samsung</td>\n",
       "      <td>galaxy s6</td>\n",
       "    </tr>\n",
       "    <tr>\n",
       "      <th>4</th>\n",
       "      <td>37</td>\n",
       "      <td>iphone</td>\n",
       "      <td>6s</td>\n",
       "    </tr>\n",
       "  </tbody>\n",
       "</table>\n",
       "</div>"
      ],
      "text/plain": [
       "   count    marca      model\n",
       "0     88  samsung  galaxy j5\n",
       "1     84   iphone         5s\n",
       "2     71   iphone          6\n",
       "3     39  samsung  galaxy s6\n",
       "4     37   iphone         6s"
      ]
     },
     "execution_count": 42,
     "metadata": {},
     "output_type": "execute_result"
    }
   ],
   "source": [
    "modelsselled.head()"
   ]
  },
  {
   "cell_type": "code",
   "execution_count": 43,
   "metadata": {},
   "outputs": [
    {
     "data": {
      "text/plain": [
       "marca\n",
       "apple       323\n",
       "asus          2\n",
       "lenovo       14\n",
       "lg           20\n",
       "motorola    149\n",
       "samsung     641\n",
       "sony         23\n",
       "Name: count, dtype: int64"
      ]
     },
     "execution_count": 43,
     "metadata": {},
     "output_type": "execute_result"
    }
   ],
   "source": [
    "modelsselled[\"marca\"] = modelsselled[\"marca\"].map(lambda x: \"apple\" if (x == \"iphone\") else x)\n",
    "modelversionsell1 = modelsselled.groupby([\"marca\"])[\"count\"].sum()\n",
    "modelversionsell1"
   ]
  },
  {
   "cell_type": "code",
   "execution_count": 45,
   "metadata": {},
   "outputs": [
    {
     "data": {
      "image/png": "[encoded data removed]",
      "text/plain": [
       "<matplotlib.figure.Figure at 0x11db16fd0>"
      ]
     },
     "metadata": {},
     "output_type": "display_data"
    }
   ],
   "source": [
    "\n",
    "f = plt.figure()\n",
    "df2 = modelversionsell1\n",
    "ax =df2.sort_values()[::-1].plot(kind='bar', stacked=True, logy = True, color = \"maroon\")\n",
    "plt.title('Ventas por marca', fontsize=20)\n",
    "ax.set_xlabel('Marca',fontsize = 20)\n",
    "plt.xticks(size = 15)\n",
    "\n",
    "ax.set_ylabel(\"Cantidad de ventas\",fontsize = 20)\n",
    "#plt.show()\n",
    "\n",
    "\n",
    "plt.savefig('Ventas por marca',bbox_inches='tight')"
   ]
  },
  {
   "cell_type": "markdown",
   "metadata": {},
   "source": [
    "Analizando Apple"
   ]
  },
  {
   "cell_type": "code",
   "execution_count": 46,
   "metadata": {},
   "outputs": [],
   "source": [
    "modelsselled2 = modelsselled.groupby([\"marca\",\"model\"])[\"count\"].sum()"
   ]
  },
  {
   "cell_type": "code",
   "execution_count": 47,
   "metadata": {},
   "outputs": [],
   "source": [
    "modelsselled2 = modelsselled2.to_frame().reset_index()"
   ]
  },
  {
   "cell_type": "code",
   "execution_count": 48,
   "metadata": {},
   "outputs": [
    {
     "data": {
      "text/html": [
       "<div>\n",
       "<table border=\"1\" class=\"dataframe\">\n",
       "  <thead>\n",
       "    <tr style=\"text-align: right;\">\n",
       "      <th></th>\n",
       "      <th>marca</th>\n",
       "      <th>model</th>\n",
       "      <th>count</th>\n",
       "    </tr>\n",
       "  </thead>\n",
       "  <tbody>\n",
       "    <tr>\n",
       "      <th>0</th>\n",
       "      <td>apple</td>\n",
       "      <td>4g</td>\n",
       "      <td>9</td>\n",
       "    </tr>\n",
       "    <tr>\n",
       "      <th>1</th>\n",
       "      <td>apple</td>\n",
       "      <td>4s</td>\n",
       "      <td>10</td>\n",
       "    </tr>\n",
       "    <tr>\n",
       "      <th>2</th>\n",
       "      <td>apple</td>\n",
       "      <td>5</td>\n",
       "      <td>17</td>\n",
       "    </tr>\n",
       "    <tr>\n",
       "      <th>3</th>\n",
       "      <td>apple</td>\n",
       "      <td>5c</td>\n",
       "      <td>33</td>\n",
       "    </tr>\n",
       "    <tr>\n",
       "      <th>4</th>\n",
       "      <td>apple</td>\n",
       "      <td>5s</td>\n",
       "      <td>84</td>\n",
       "    </tr>\n",
       "  </tbody>\n",
       "</table>\n",
       "</div>"
      ],
      "text/plain": [
       "   marca model  count\n",
       "0  apple    4g      9\n",
       "1  apple    4s     10\n",
       "2  apple     5     17\n",
       "3  apple    5c     33\n",
       "4  apple    5s     84"
      ]
     },
     "execution_count": 48,
     "metadata": {},
     "output_type": "execute_result"
    }
   ],
   "source": [
    "modelsselled2.head()"
   ]
  },
  {
   "cell_type": "code",
   "execution_count": 49,
   "metadata": {},
   "outputs": [
    {
     "data": {
      "text/html": [
       "<div>\n",
       "<table border=\"1\" class=\"dataframe\">\n",
       "  <thead>\n",
       "    <tr style=\"text-align: right;\">\n",
       "      <th></th>\n",
       "      <th>marca</th>\n",
       "      <th>model</th>\n",
       "      <th>count</th>\n",
       "    </tr>\n",
       "  </thead>\n",
       "  <tbody>\n",
       "    <tr>\n",
       "      <th>0</th>\n",
       "      <td>apple</td>\n",
       "      <td>4g</td>\n",
       "      <td>9</td>\n",
       "    </tr>\n",
       "    <tr>\n",
       "      <th>1</th>\n",
       "      <td>apple</td>\n",
       "      <td>4s</td>\n",
       "      <td>10</td>\n",
       "    </tr>\n",
       "    <tr>\n",
       "      <th>2</th>\n",
       "      <td>apple</td>\n",
       "      <td>5</td>\n",
       "      <td>17</td>\n",
       "    </tr>\n",
       "    <tr>\n",
       "      <th>3</th>\n",
       "      <td>apple</td>\n",
       "      <td>5c</td>\n",
       "      <td>33</td>\n",
       "    </tr>\n",
       "    <tr>\n",
       "      <th>4</th>\n",
       "      <td>apple</td>\n",
       "      <td>5s</td>\n",
       "      <td>84</td>\n",
       "    </tr>\n",
       "  </tbody>\n",
       "</table>\n",
       "</div>"
      ],
      "text/plain": [
       "   marca model  count\n",
       "0  apple    4g      9\n",
       "1  apple    4s     10\n",
       "2  apple     5     17\n",
       "3  apple    5c     33\n",
       "4  apple    5s     84"
      ]
     },
     "execution_count": 49,
     "metadata": {},
     "output_type": "execute_result"
    }
   ],
   "source": [
    "Iphones = modelsselled2[modelsselled2[\"marca\"] == \"apple\"]\n",
    "Iphones.head()"
   ]
  },
  {
   "cell_type": "code",
   "execution_count": 50,
   "metadata": {},
   "outputs": [
    {
     "data": {
      "text/plain": [
       "6          1\n",
       "4s         1\n",
       "se         1\n",
       "5          1\n",
       "8          1\n",
       "7 plus     1\n",
       "6 plus     1\n",
       "6s         1\n",
       "5s         1\n",
       "7          1\n",
       "6s plus    1\n",
       "4g         1\n",
       "5c         1\n",
       "Name: model, dtype: int64"
      ]
     },
     "execution_count": 50,
     "metadata": {},
     "output_type": "execute_result"
    }
   ],
   "source": [
    "Iphones[\"model\"].value_counts()"
   ]
  },
  {
   "cell_type": "code",
   "execution_count": 51,
   "metadata": {},
   "outputs": [
    {
     "name": "stderr",
     "output_type": "stream",
     "text": [
      "/anaconda/lib/python3.6/site-packages/ipykernel/__main__.py:2: SettingWithCopyWarning: \n",
      "A value is trying to be set on a copy of a slice from a DataFrame.\n",
      "Try using .loc[row_indexer,col_indexer] = value instead\n",
      "\n",
      "See the caveats in the documentation: http://pandas.pydata.org/pandas-docs/stable/indexing.html#indexing-view-versus-copy\n",
      "  from ipykernel import kernelapp as app\n"
     ]
    }
   ],
   "source": [
    "\n",
    "Iphones[\"model\"] = Iphones[\"model\"].map(lambda x: x[0:1] if(x != \"se\") else x)\n"
   ]
  },
  {
   "cell_type": "code",
   "execution_count": 53,
   "metadata": {},
   "outputs": [
    {
     "data": {
      "image/png": "[encoded data removed]",
      "text/plain": [
       "<matplotlib.figure.Figure at 0x11dad9160>"
      ]
     },
     "metadata": {},
     "output_type": "display_data"
    }
   ],
   "source": [
    "f = plt.figure()\n",
    "\n",
    "ax =Iphones.groupby([\"model\"])[\"count\"].sum().sort_values().plot(kind='barh', stacked=True, figsize=(15,10), color = \"coral\")\n",
    "plt.title('Ventas por modelo de Iphone', fontsize=20)\n",
    "ax.set_ylabel('Modelo')\n",
    "#ax.set_facecolor('xkcd:white')\n",
    "ax.set_xlabel(\"Cantidad de ventas\")\n",
    "plt.yticks(size = 15)\n",
    "plt.xticks(size = 15)\n",
    "#plt.show()\n",
    "plt.savefig('Ventas por modelo de iphone',bbox_inches='tight')"
   ]
  },
  {
   "cell_type": "markdown",
   "metadata": {},
   "source": [
    "Analizando Samsung"
   ]
  },
  {
   "cell_type": "code",
   "execution_count": 54,
   "metadata": {},
   "outputs": [
    {
     "name": "stderr",
     "output_type": "stream",
     "text": [
      "/anaconda/lib/python3.6/site-packages/ipykernel/__main__.py:2: SettingWithCopyWarning: \n",
      "A value is trying to be set on a copy of a slice from a DataFrame.\n",
      "Try using .loc[row_indexer,col_indexer] = value instead\n",
      "\n",
      "See the caveats in the documentation: http://pandas.pydata.org/pandas-docs/stable/indexing.html#indexing-view-versus-copy\n",
      "  from ipykernel import kernelapp as app\n"
     ]
    }
   ],
   "source": [
    "Samsung = modelsselled2[modelsselled2[\"marca\"] == \"samsung\"]\n",
    "Samsung[\"model\"] = Samsung[\"model\"].map(lambda x: x[:len(x)-1] if (x[len(x)-1:].isdigit()) else x)"
   ]
  },
  {
   "cell_type": "code",
   "execution_count": 55,
   "metadata": {},
   "outputs": [
    {
     "data": {
      "text/plain": [
       "galaxy s        6\n",
       "galaxy j        5\n",
       "galaxy a        4\n",
       "galaxy e        2\n",
       "galaxy on       1\n",
       "galaxy y        1\n",
       "galaxy note     1\n",
       "galaxy core     1\n",
       "galaxy mega     1\n",
       "gear s          1\n",
       "galaxy gran     1\n",
       "galaxy grand    1\n",
       "galaxy win      1\n",
       "Name: model, dtype: int64"
      ]
     },
     "execution_count": 55,
     "metadata": {},
     "output_type": "execute_result"
    }
   ],
   "source": [
    "Samsung[\"model\"].value_counts()"
   ]
  },
  {
   "cell_type": "code",
   "execution_count": 56,
   "metadata": {},
   "outputs": [
    {
     "name": "stderr",
     "output_type": "stream",
     "text": [
      "/anaconda/lib/python3.6/site-packages/ipykernel/__main__.py:1: SettingWithCopyWarning: \n",
      "A value is trying to be set on a copy of a slice from a DataFrame.\n",
      "Try using .loc[row_indexer,col_indexer] = value instead\n",
      "\n",
      "See the caveats in the documentation: http://pandas.pydata.org/pandas-docs/stable/indexing.html#indexing-view-versus-copy\n",
      "  if __name__ == '__main__':\n"
     ]
    }
   ],
   "source": [
    "Samsung[\"model\"] = Samsung[\"model\"].map(lambda x: \"Others\" if (x in [\"galaxy grand\",\"galaxy e\",\"galaxy mega\",\"galaxy on\",\"galaxy y\",\"gear s\"]) else x)\n",
    "SamsungVersion = Samsung.groupby(\"model\")[\"count\"].sum()"
   ]
  },
  {
   "cell_type": "code",
   "execution_count": 57,
   "metadata": {},
   "outputs": [
    {
     "data": {
      "image/png": "[encoded data removed]",
      "text/plain": [
       "<matplotlib.figure.Figure at 0x11d01db70>"
      ]
     },
     "metadata": {},
     "output_type": "display_data"
    }
   ],
   "source": [
    "f = plt.figure()\n",
    "\n",
    "ax =SamsungVersion.sort_values().plot(kind='barh', stacked=True, figsize=(15,10), color = \"coral\")\n",
    "plt.title('Ventas por modelo de Samsung',fontsize=20)\n",
    "ax.set_ylabel('Modelo')\n",
    "plt.xticks(size = 15)\n",
    "plt.yticks(size = 15)\n",
    "ax.set_xlabel(\"Cantidad de ventas\")\n",
    "#plt.show()\n",
    "plt.savefig('ventas por modelo de samsung',bbox_inches='tight')"
   ]
  },
  {
   "cell_type": "markdown",
   "metadata": {},
   "source": [
    "Analizando Motorola"
   ]
  },
  {
   "cell_type": "code",
   "execution_count": 58,
   "metadata": {},
   "outputs": [],
   "source": [
    "Motorola = modelsselled2[modelsselled2[\"marca\"] == \"motorola\"]"
   ]
  },
  {
   "cell_type": "code",
   "execution_count": 59,
   "metadata": {},
   "outputs": [
    {
     "data": {
      "text/html": [
       "<div>\n",
       "<table border=\"1\" class=\"dataframe\">\n",
       "  <thead>\n",
       "    <tr style=\"text-align: right;\">\n",
       "      <th></th>\n",
       "      <th>marca</th>\n",
       "      <th>model</th>\n",
       "      <th>count</th>\n",
       "    </tr>\n",
       "  </thead>\n",
       "  <tbody>\n",
       "    <tr>\n",
       "      <th>24</th>\n",
       "      <td>motorola</td>\n",
       "      <td>moto e2</td>\n",
       "      <td>8</td>\n",
       "    </tr>\n",
       "    <tr>\n",
       "      <th>25</th>\n",
       "      <td>motorola</td>\n",
       "      <td>moto g2</td>\n",
       "      <td>22</td>\n",
       "    </tr>\n",
       "    <tr>\n",
       "      <th>26</th>\n",
       "      <td>motorola</td>\n",
       "      <td>moto g3</td>\n",
       "      <td>32</td>\n",
       "    </tr>\n",
       "    <tr>\n",
       "      <th>27</th>\n",
       "      <td>motorola</td>\n",
       "      <td>moto g4</td>\n",
       "      <td>46</td>\n",
       "    </tr>\n",
       "    <tr>\n",
       "      <th>28</th>\n",
       "      <td>motorola</td>\n",
       "      <td>moto g5</td>\n",
       "      <td>10</td>\n",
       "    </tr>\n",
       "  </tbody>\n",
       "</table>\n",
       "</div>"
      ],
      "text/plain": [
       "       marca    model  count\n",
       "24  motorola  moto e2      8\n",
       "25  motorola  moto g2     22\n",
       "26  motorola  moto g3     32\n",
       "27  motorola  moto g4     46\n",
       "28  motorola  moto g5     10"
      ]
     },
     "execution_count": 59,
     "metadata": {},
     "output_type": "execute_result"
    }
   ],
   "source": [
    "Motorola.head()"
   ]
  },
  {
   "cell_type": "code",
   "execution_count": 60,
   "metadata": {},
   "outputs": [
    {
     "data": {
      "text/html": [
       "<div>\n",
       "<table border=\"1\" class=\"dataframe\">\n",
       "  <thead>\n",
       "    <tr style=\"text-align: right;\">\n",
       "      <th></th>\n",
       "      <th>marca</th>\n",
       "      <th>model</th>\n",
       "      <th>count</th>\n",
       "    </tr>\n",
       "  </thead>\n",
       "  <tbody>\n",
       "    <tr>\n",
       "      <th>24</th>\n",
       "      <td>motorola</td>\n",
       "      <td>moto e2</td>\n",
       "      <td>8</td>\n",
       "    </tr>\n",
       "    <tr>\n",
       "      <th>25</th>\n",
       "      <td>motorola</td>\n",
       "      <td>moto g2</td>\n",
       "      <td>22</td>\n",
       "    </tr>\n",
       "    <tr>\n",
       "      <th>26</th>\n",
       "      <td>motorola</td>\n",
       "      <td>moto g3</td>\n",
       "      <td>32</td>\n",
       "    </tr>\n",
       "    <tr>\n",
       "      <th>27</th>\n",
       "      <td>motorola</td>\n",
       "      <td>moto g4</td>\n",
       "      <td>46</td>\n",
       "    </tr>\n",
       "    <tr>\n",
       "      <th>28</th>\n",
       "      <td>motorola</td>\n",
       "      <td>moto g5</td>\n",
       "      <td>10</td>\n",
       "    </tr>\n",
       "    <tr>\n",
       "      <th>29</th>\n",
       "      <td>motorola</td>\n",
       "      <td>moto g5s</td>\n",
       "      <td>1</td>\n",
       "    </tr>\n",
       "    <tr>\n",
       "      <th>30</th>\n",
       "      <td>motorola</td>\n",
       "      <td>moto maxx</td>\n",
       "      <td>4</td>\n",
       "    </tr>\n",
       "    <tr>\n",
       "      <th>31</th>\n",
       "      <td>motorola</td>\n",
       "      <td>moto x</td>\n",
       "      <td>15</td>\n",
       "    </tr>\n",
       "    <tr>\n",
       "      <th>32</th>\n",
       "      <td>motorola</td>\n",
       "      <td>moto x2</td>\n",
       "      <td>5</td>\n",
       "    </tr>\n",
       "    <tr>\n",
       "      <th>33</th>\n",
       "      <td>motorola</td>\n",
       "      <td>moto z</td>\n",
       "      <td>5</td>\n",
       "    </tr>\n",
       "    <tr>\n",
       "      <th>34</th>\n",
       "      <td>motorola</td>\n",
       "      <td>moto z2</td>\n",
       "      <td>1</td>\n",
       "    </tr>\n",
       "  </tbody>\n",
       "</table>\n",
       "</div>"
      ],
      "text/plain": [
       "       marca      model  count\n",
       "24  motorola    moto e2      8\n",
       "25  motorola    moto g2     22\n",
       "26  motorola    moto g3     32\n",
       "27  motorola    moto g4     46\n",
       "28  motorola    moto g5     10\n",
       "29  motorola   moto g5s      1\n",
       "30  motorola  moto maxx      4\n",
       "31  motorola     moto x     15\n",
       "32  motorola    moto x2      5\n",
       "33  motorola     moto z      5\n",
       "34  motorola    moto z2      1"
      ]
     },
     "execution_count": 60,
     "metadata": {},
     "output_type": "execute_result"
    }
   ],
   "source": [
    "Motorola\n"
   ]
  },
  {
   "cell_type": "code",
   "execution_count": 61,
   "metadata": {},
   "outputs": [
    {
     "name": "stderr",
     "output_type": "stream",
     "text": [
      "/anaconda/lib/python3.6/site-packages/ipykernel/__main__.py:1: SettingWithCopyWarning: \n",
      "A value is trying to be set on a copy of a slice from a DataFrame.\n",
      "Try using .loc[row_indexer,col_indexer] = value instead\n",
      "\n",
      "See the caveats in the documentation: http://pandas.pydata.org/pandas-docs/stable/indexing.html#indexing-view-versus-copy\n",
      "  if __name__ == '__main__':\n"
     ]
    },
    {
     "data": {
      "text/html": [
       "<div>\n",
       "<table border=\"1\" class=\"dataframe\">\n",
       "  <thead>\n",
       "    <tr style=\"text-align: right;\">\n",
       "      <th></th>\n",
       "      <th>marca</th>\n",
       "      <th>model</th>\n",
       "      <th>count</th>\n",
       "    </tr>\n",
       "  </thead>\n",
       "  <tbody>\n",
       "    <tr>\n",
       "      <th>24</th>\n",
       "      <td>motorola</td>\n",
       "      <td>e</td>\n",
       "      <td>8</td>\n",
       "    </tr>\n",
       "    <tr>\n",
       "      <th>25</th>\n",
       "      <td>motorola</td>\n",
       "      <td>g</td>\n",
       "      <td>22</td>\n",
       "    </tr>\n",
       "    <tr>\n",
       "      <th>26</th>\n",
       "      <td>motorola</td>\n",
       "      <td>g</td>\n",
       "      <td>32</td>\n",
       "    </tr>\n",
       "    <tr>\n",
       "      <th>27</th>\n",
       "      <td>motorola</td>\n",
       "      <td>g</td>\n",
       "      <td>46</td>\n",
       "    </tr>\n",
       "    <tr>\n",
       "      <th>28</th>\n",
       "      <td>motorola</td>\n",
       "      <td>g</td>\n",
       "      <td>10</td>\n",
       "    </tr>\n",
       "    <tr>\n",
       "      <th>29</th>\n",
       "      <td>motorola</td>\n",
       "      <td>g</td>\n",
       "      <td>1</td>\n",
       "    </tr>\n",
       "    <tr>\n",
       "      <th>30</th>\n",
       "      <td>motorola</td>\n",
       "      <td>maxx</td>\n",
       "      <td>4</td>\n",
       "    </tr>\n",
       "    <tr>\n",
       "      <th>31</th>\n",
       "      <td>motorola</td>\n",
       "      <td>x</td>\n",
       "      <td>15</td>\n",
       "    </tr>\n",
       "    <tr>\n",
       "      <th>32</th>\n",
       "      <td>motorola</td>\n",
       "      <td>x</td>\n",
       "      <td>5</td>\n",
       "    </tr>\n",
       "    <tr>\n",
       "      <th>33</th>\n",
       "      <td>motorola</td>\n",
       "      <td>z</td>\n",
       "      <td>5</td>\n",
       "    </tr>\n",
       "    <tr>\n",
       "      <th>34</th>\n",
       "      <td>motorola</td>\n",
       "      <td>z</td>\n",
       "      <td>1</td>\n",
       "    </tr>\n",
       "  </tbody>\n",
       "</table>\n",
       "</div>"
      ],
      "text/plain": [
       "       marca model  count\n",
       "24  motorola     e      8\n",
       "25  motorola     g     22\n",
       "26  motorola     g     32\n",
       "27  motorola     g     46\n",
       "28  motorola     g     10\n",
       "29  motorola     g      1\n",
       "30  motorola  maxx      4\n",
       "31  motorola     x     15\n",
       "32  motorola     x      5\n",
       "33  motorola     z      5\n",
       "34  motorola     z      1"
      ]
     },
     "execution_count": 61,
     "metadata": {},
     "output_type": "execute_result"
    }
   ],
   "source": [
    "Motorola[\"model\"] = Motorola[\"model\"].map(lambda x: x.split(\" \")[1][0:1] if (x.split(\" \")[1] != \"maxx\") else x.split(\" \")[1])\n",
    "Motorola"
   ]
  },
  {
   "cell_type": "code",
   "execution_count": 62,
   "metadata": {},
   "outputs": [],
   "source": [
    "MotorolaVersion = Motorola.groupby(\"model\")[\"count\"].sum()"
   ]
  },
  {
   "cell_type": "code",
   "execution_count": 63,
   "metadata": {},
   "outputs": [
    {
     "data": {
      "image/png": "[encoded data removed]",
      "text/plain": [
       "<matplotlib.figure.Figure at 0x11c96f668>"
      ]
     },
     "metadata": {},
     "output_type": "display_data"
    }
   ],
   "source": [
    "f = plt.figure()\n",
    "\n",
    "ax =MotorolaVersion.sort_values().plot(kind='barh', stacked=True, figsize=(15,10), color = \"coral\")\n",
    "plt.title('Ventas por modelo de Motorola',fontsize=20)\n",
    "ax.set_ylabel('Modelo')\n",
    "plt.xticks(size = 15)\n",
    "plt.yticks(size = 15)\n",
    "ax.set_xlabel(\"Cantidad de ventas\")\n",
    "#plt.show()\n",
    "plt.savefig('ventas por modelo de motorola',bbox_inches='tight')"
   ]
  },
  {
   "cell_type": "code",
   "execution_count": 64,
   "metadata": {},
   "outputs": [
    {
     "data": {
      "text/plain": [
       "0   2018-05-31 23:38:05\n",
       "1   2018-05-31 23:38:05\n",
       "2   2018-05-31 23:38:09\n",
       "3   2018-05-31 23:38:40\n",
       "4   2018-05-29 13:29:25\n",
       "Name: timestamp, dtype: datetime64[ns]"
      ]
     },
     "execution_count": 64,
     "metadata": {},
     "output_type": "execute_result"
    }
   ],
   "source": [
    "eventsData[\"timestamp\"].head()"
   ]
  },
  {
   "cell_type": "code",
   "execution_count": 65,
   "metadata": {},
   "outputs": [],
   "source": [
    "years = eventsData[\"timestamp\"].map(lambda x: x.year)"
   ]
  },
  {
   "cell_type": "code",
   "execution_count": 66,
   "metadata": {},
   "outputs": [
    {
     "data": {
      "text/plain": [
       "2018    1011288\n",
       "Name: timestamp, dtype: int64"
      ]
     },
     "execution_count": 66,
     "metadata": {},
     "output_type": "execute_result"
    }
   ],
   "source": [
    "years.value_counts()"
   ]
  },
  {
   "cell_type": "code",
   "execution_count": 67,
   "metadata": {},
   "outputs": [],
   "source": [
    "month = eventsData[\"timestamp\"].map(lambda x: x.month)"
   ]
  },
  {
   "cell_type": "code",
   "execution_count": 68,
   "metadata": {},
   "outputs": [
    {
     "data": {
      "text/plain": [
       "5    474949\n",
       "6    281882\n",
       "4    130008\n",
       "3     77293\n",
       "2     27886\n",
       "1     19270\n",
       "Name: timestamp, dtype: int64"
      ]
     },
     "execution_count": 68,
     "metadata": {},
     "output_type": "execute_result"
    }
   ],
   "source": [
    "month.value_counts()\n"
   ]
  },
  {
   "cell_type": "code",
   "execution_count": 5,
   "metadata": {},
   "outputs": [],
   "source": [
    "monthmodelssell = eventsData[[\"timestamp\",\"model\",\"event\"]]"
   ]
  },
  {
   "cell_type": "code",
   "execution_count": 6,
   "metadata": {},
   "outputs": [
    {
     "data": {
      "text/html": [
       "<div>\n",
       "<table border=\"1\" class=\"dataframe\">\n",
       "  <thead>\n",
       "    <tr style=\"text-align: right;\">\n",
       "      <th></th>\n",
       "      <th>timestamp</th>\n",
       "      <th>model</th>\n",
       "      <th>event</th>\n",
       "    </tr>\n",
       "  </thead>\n",
       "  <tbody>\n",
       "    <tr>\n",
       "      <th>0</th>\n",
       "      <td>2018-05-31 23:38:05</td>\n",
       "      <td>iphone 5s</td>\n",
       "      <td>ad campaign hit</td>\n",
       "    </tr>\n",
       "    <tr>\n",
       "      <th>1</th>\n",
       "      <td>2018-05-31 23:38:05</td>\n",
       "      <td>NaN</td>\n",
       "      <td>visited site</td>\n",
       "    </tr>\n",
       "    <tr>\n",
       "      <th>2</th>\n",
       "      <td>2018-05-31 23:38:09</td>\n",
       "      <td>iphone 5s</td>\n",
       "      <td>viewed product</td>\n",
       "    </tr>\n",
       "    <tr>\n",
       "      <th>3</th>\n",
       "      <td>2018-05-31 23:38:40</td>\n",
       "      <td>iphone 5s</td>\n",
       "      <td>checkout</td>\n",
       "    </tr>\n",
       "    <tr>\n",
       "      <th>4</th>\n",
       "      <td>2018-05-29 13:29:25</td>\n",
       "      <td>samsung galaxy s8</td>\n",
       "      <td>viewed product</td>\n",
       "    </tr>\n",
       "  </tbody>\n",
       "</table>\n",
       "</div>"
      ],
      "text/plain": [
       "            timestamp              model            event\n",
       "0 2018-05-31 23:38:05          iphone 5s  ad campaign hit\n",
       "1 2018-05-31 23:38:05                NaN     visited site\n",
       "2 2018-05-31 23:38:09          iphone 5s   viewed product\n",
       "3 2018-05-31 23:38:40          iphone 5s         checkout\n",
       "4 2018-05-29 13:29:25  samsung galaxy s8   viewed product"
      ]
     },
     "execution_count": 6,
     "metadata": {},
     "output_type": "execute_result"
    }
   ],
   "source": [
    "monthmodelssell.head()"
   ]
  },
  {
   "cell_type": "code",
   "execution_count": 7,
   "metadata": {},
   "outputs": [
    {
     "data": {
      "text/plain": [
       "False    618574\n",
       "True     392714\n",
       "Name: model, dtype: int64"
      ]
     },
     "execution_count": 7,
     "metadata": {},
     "output_type": "execute_result"
    }
   ],
   "source": [
    "monthmodelssell[\"model\"].isnull().value_counts()"
   ]
  },
  {
   "cell_type": "code",
   "execution_count": 8,
   "metadata": {},
   "outputs": [
    {
     "name": "stderr",
     "output_type": "stream",
     "text": [
      "/anaconda/lib/python3.6/site-packages/ipykernel/__main__.py:1: SettingWithCopyWarning: \n",
      "A value is trying to be set on a copy of a slice from a DataFrame.\n",
      "Try using .loc[row_indexer,col_indexer] = value instead\n",
      "\n",
      "See the caveats in the documentation: http://pandas.pydata.org/pandas-docs/stable/indexing.html#indexing-view-versus-copy\n",
      "  if __name__ == '__main__':\n"
     ]
    }
   ],
   "source": [
    "monthmodelssell[\"month\"] = monthmodelssell[\"timestamp\"].map(lambda x: x.strftime('%B'))"
   ]
  },
  {
   "cell_type": "code",
   "execution_count": 9,
   "metadata": {},
   "outputs": [
    {
     "name": "stderr",
     "output_type": "stream",
     "text": [
      "/anaconda/lib/python3.6/site-packages/ipykernel/__main__.py:1: SettingWithCopyWarning: \n",
      "A value is trying to be set on a copy of a slice from a DataFrame.\n",
      "Try using .loc[row_indexer,col_indexer] = value instead\n",
      "\n",
      "See the caveats in the documentation: http://pandas.pydata.org/pandas-docs/stable/indexing.html#indexing-view-versus-copy\n",
      "  if __name__ == '__main__':\n"
     ]
    }
   ],
   "source": [
    "monthmodelssell[\"month\"] = pd.Categorical(monthmodelssell[\"month\"], categories=['January','February','March','April','May','June'], ordered=True)"
   ]
  },
  {
   "cell_type": "code",
   "execution_count": 10,
   "metadata": {},
   "outputs": [
    {
     "data": {
      "text/plain": [
       "May         474949\n",
       "June        281882\n",
       "April       130008\n",
       "March        77293\n",
       "February     27886\n",
       "January      19270\n",
       "Name: month, dtype: int64"
      ]
     },
     "execution_count": 10,
     "metadata": {},
     "output_type": "execute_result"
    }
   ],
   "source": [
    "monthmodelssell[\"month\"].value_counts()"
   ]
  },
  {
   "cell_type": "code",
   "execution_count": 11,
   "metadata": {},
   "outputs": [
    {
     "data": {
      "image/png": "[encoded data removed]",
      "text/plain": [
       "<matplotlib.figure.Figure at 0x1253e6ba8>"
      ]
     },
     "metadata": {},
     "output_type": "display_data"
    }
   ],
   "source": [
    "\n",
    "f = plt.figure()\n",
    "\n",
    "plt.title ('Cantidad de eventos por mes',color='black')\n",
    "\n",
    "ax = monthmodelssell[\"month\"].value_counts().drop(labels = [\"June\"]).sort_index().plot(kind='bar', figsize=(10,6) ,alpha=0.75, ax=f.gca(), color='green' )\n",
    "\n",
    "plt.xticks(size = 15)\n",
    "plt.yticks(size = 15)\n",
    "ax.set_xlabel('Mes')\n",
    "ax.set_ylabel(\"Cantidad de eventos\")\n",
    "#plt.show()\n",
    "plt.savefig('Cantidad de eventos por mes',bbox_inches='tight')"
   ]
  },
  {
   "cell_type": "code",
   "execution_count": 18,
   "metadata": {},
   "outputs": [],
   "source": [
    "monthconversionformodel = monthmodelssell[monthmodelssell[\"event\"] == \"conversion\"]"
   ]
  },
  {
   "cell_type": "code",
   "execution_count": 19,
   "metadata": {},
   "outputs": [
    {
     "data": {
      "text/html": [
       "<div>\n",
       "<table border=\"1\" class=\"dataframe\">\n",
       "  <thead>\n",
       "    <tr style=\"text-align: right;\">\n",
       "      <th></th>\n",
       "      <th>timestamp</th>\n",
       "      <th>model</th>\n",
       "      <th>event</th>\n",
       "      <th>month</th>\n",
       "    </tr>\n",
       "  </thead>\n",
       "  <tbody>\n",
       "    <tr>\n",
       "      <th>220</th>\n",
       "      <td>2018-03-20 17:46:12</td>\n",
       "      <td>motorola moto x2</td>\n",
       "      <td>conversion</td>\n",
       "      <td>March</td>\n",
       "    </tr>\n",
       "    <tr>\n",
       "      <th>2282</th>\n",
       "      <td>2018-04-26 22:28:53</td>\n",
       "      <td>samsung galaxy core plus duos tv</td>\n",
       "      <td>conversion</td>\n",
       "      <td>April</td>\n",
       "    </tr>\n",
       "    <tr>\n",
       "      <th>2547</th>\n",
       "      <td>2018-06-10 14:37:50</td>\n",
       "      <td>samsung galaxy s6 flat</td>\n",
       "      <td>conversion</td>\n",
       "      <td>June</td>\n",
       "    </tr>\n",
       "    <tr>\n",
       "      <th>4245</th>\n",
       "      <td>2018-03-16 13:50:25</td>\n",
       "      <td>iphone 5s</td>\n",
       "      <td>conversion</td>\n",
       "      <td>March</td>\n",
       "    </tr>\n",
       "    <tr>\n",
       "      <th>6985</th>\n",
       "      <td>2018-02-09 22:07:07</td>\n",
       "      <td>samsung galaxy j5</td>\n",
       "      <td>conversion</td>\n",
       "      <td>February</td>\n",
       "    </tr>\n",
       "  </tbody>\n",
       "</table>\n",
       "</div>"
      ],
      "text/plain": [
       "               timestamp                             model       event  \\\n",
       "220  2018-03-20 17:46:12                  motorola moto x2  conversion   \n",
       "2282 2018-04-26 22:28:53  samsung galaxy core plus duos tv  conversion   \n",
       "2547 2018-06-10 14:37:50            samsung galaxy s6 flat  conversion   \n",
       "4245 2018-03-16 13:50:25                         iphone 5s  conversion   \n",
       "6985 2018-02-09 22:07:07                 samsung galaxy j5  conversion   \n",
       "\n",
       "         month  \n",
       "220      March  \n",
       "2282     April  \n",
       "2547      June  \n",
       "4245     March  \n",
       "6985  February  "
      ]
     },
     "execution_count": 19,
     "metadata": {},
     "output_type": "execute_result"
    }
   ],
   "source": [
    "monthconversionformodel.head()"
   ]
  },
  {
   "cell_type": "code",
   "execution_count": 20,
   "metadata": {},
   "outputs": [
    {
     "name": "stderr",
     "output_type": "stream",
     "text": [
      "/anaconda/lib/python3.6/site-packages/ipykernel/__main__.py:2: SettingWithCopyWarning: \n",
      "A value is trying to be set on a copy of a slice from a DataFrame.\n",
      "Try using .loc[row_indexer,col_indexer] = value instead\n",
      "\n",
      "See the caveats in the documentation: http://pandas.pydata.org/pandas-docs/stable/indexing.html#indexing-view-versus-copy\n",
      "  from ipykernel import kernelapp as app\n"
     ]
    }
   ],
   "source": [
    "\n",
    "monthconversionformodel['month'] = pd.Categorical(monthconversionformodel['month'], categories=['January','February','March','April','May','June'], ordered=True)\n",
    "\n"
   ]
  },
  {
   "cell_type": "code",
   "execution_count": 21,
   "metadata": {},
   "outputs": [
    {
     "data": {
      "text/html": [
       "<div>\n",
       "<table border=\"1\" class=\"dataframe\">\n",
       "  <thead>\n",
       "    <tr style=\"text-align: right;\">\n",
       "      <th></th>\n",
       "      <th>timestamp</th>\n",
       "      <th>model</th>\n",
       "      <th>event</th>\n",
       "      <th>month</th>\n",
       "    </tr>\n",
       "  </thead>\n",
       "  <tbody>\n",
       "    <tr>\n",
       "      <th>220</th>\n",
       "      <td>2018-03-20 17:46:12</td>\n",
       "      <td>motorola moto x2</td>\n",
       "      <td>conversion</td>\n",
       "      <td>March</td>\n",
       "    </tr>\n",
       "    <tr>\n",
       "      <th>2282</th>\n",
       "      <td>2018-04-26 22:28:53</td>\n",
       "      <td>samsung galaxy core plus duos tv</td>\n",
       "      <td>conversion</td>\n",
       "      <td>April</td>\n",
       "    </tr>\n",
       "    <tr>\n",
       "      <th>2547</th>\n",
       "      <td>2018-06-10 14:37:50</td>\n",
       "      <td>samsung galaxy s6 flat</td>\n",
       "      <td>conversion</td>\n",
       "      <td>June</td>\n",
       "    </tr>\n",
       "    <tr>\n",
       "      <th>4245</th>\n",
       "      <td>2018-03-16 13:50:25</td>\n",
       "      <td>iphone 5s</td>\n",
       "      <td>conversion</td>\n",
       "      <td>March</td>\n",
       "    </tr>\n",
       "    <tr>\n",
       "      <th>6985</th>\n",
       "      <td>2018-02-09 22:07:07</td>\n",
       "      <td>samsung galaxy j5</td>\n",
       "      <td>conversion</td>\n",
       "      <td>February</td>\n",
       "    </tr>\n",
       "  </tbody>\n",
       "</table>\n",
       "</div>"
      ],
      "text/plain": [
       "               timestamp                             model       event  \\\n",
       "220  2018-03-20 17:46:12                  motorola moto x2  conversion   \n",
       "2282 2018-04-26 22:28:53  samsung galaxy core plus duos tv  conversion   \n",
       "2547 2018-06-10 14:37:50            samsung galaxy s6 flat  conversion   \n",
       "4245 2018-03-16 13:50:25                         iphone 5s  conversion   \n",
       "6985 2018-02-09 22:07:07                 samsung galaxy j5  conversion   \n",
       "\n",
       "         month  \n",
       "220      March  \n",
       "2282     April  \n",
       "2547      June  \n",
       "4245     March  \n",
       "6985  February  "
      ]
     },
     "execution_count": 21,
     "metadata": {},
     "output_type": "execute_result"
    }
   ],
   "source": [
    "monthconversionformodel.head()"
   ]
  },
  {
   "cell_type": "code",
   "execution_count": 22,
   "metadata": {},
   "outputs": [
    {
     "data": {
      "image/png": "[encoded data removed]",
      "text/plain": [
       "<matplotlib.figure.Figure at 0x11f80b0b8>"
      ]
     },
     "metadata": {},
     "output_type": "display_data"
    }
   ],
   "source": [
    "\n",
    "f = plt.figure()\n",
    "\n",
    "plt.title ('Cantidad de modelos vendidos por mes',color='black')\n",
    "\n",
    "ax = monthconversionformodel[\"month\"].value_counts().drop(labels = [\"June\"]).sort_index().plot(kind='bar', figsize=(10,6) ,alpha=0.75, ax=f.gca(), color='green' )\n",
    "\n",
    "\n",
    "plt.xticks(size = 15)\n",
    "plt.yticks(size = 15)\n",
    "ax.set_xlabel('Mes')\n",
    "ax.set_ylabel(\"Cantidad de conversiones\")\n",
    "#plt.show()\n",
    "\n",
    "\n",
    "\n",
    "plt.savefig('Cantidad de modelos vendidos por mes',bbox_inches='tight')"
   ]
  },
  {
   "cell_type": "code",
   "execution_count": 23,
   "metadata": {},
   "outputs": [],
   "source": [
    "daysell = monthmodelssell[monthmodelssell[\"event\"] == \"conversion\"]"
   ]
  },
  {
   "cell_type": "code",
   "execution_count": 24,
   "metadata": {},
   "outputs": [
    {
     "data": {
      "text/html": [
       "<div>\n",
       "<table border=\"1\" class=\"dataframe\">\n",
       "  <thead>\n",
       "    <tr style=\"text-align: right;\">\n",
       "      <th></th>\n",
       "      <th>timestamp</th>\n",
       "      <th>model</th>\n",
       "      <th>event</th>\n",
       "      <th>month</th>\n",
       "    </tr>\n",
       "  </thead>\n",
       "  <tbody>\n",
       "    <tr>\n",
       "      <th>220</th>\n",
       "      <td>2018-03-20 17:46:12</td>\n",
       "      <td>motorola moto x2</td>\n",
       "      <td>conversion</td>\n",
       "      <td>March</td>\n",
       "    </tr>\n",
       "    <tr>\n",
       "      <th>2282</th>\n",
       "      <td>2018-04-26 22:28:53</td>\n",
       "      <td>samsung galaxy core plus duos tv</td>\n",
       "      <td>conversion</td>\n",
       "      <td>April</td>\n",
       "    </tr>\n",
       "    <tr>\n",
       "      <th>2547</th>\n",
       "      <td>2018-06-10 14:37:50</td>\n",
       "      <td>samsung galaxy s6 flat</td>\n",
       "      <td>conversion</td>\n",
       "      <td>June</td>\n",
       "    </tr>\n",
       "    <tr>\n",
       "      <th>4245</th>\n",
       "      <td>2018-03-16 13:50:25</td>\n",
       "      <td>iphone 5s</td>\n",
       "      <td>conversion</td>\n",
       "      <td>March</td>\n",
       "    </tr>\n",
       "    <tr>\n",
       "      <th>6985</th>\n",
       "      <td>2018-02-09 22:07:07</td>\n",
       "      <td>samsung galaxy j5</td>\n",
       "      <td>conversion</td>\n",
       "      <td>February</td>\n",
       "    </tr>\n",
       "  </tbody>\n",
       "</table>\n",
       "</div>"
      ],
      "text/plain": [
       "               timestamp                             model       event  \\\n",
       "220  2018-03-20 17:46:12                  motorola moto x2  conversion   \n",
       "2282 2018-04-26 22:28:53  samsung galaxy core plus duos tv  conversion   \n",
       "2547 2018-06-10 14:37:50            samsung galaxy s6 flat  conversion   \n",
       "4245 2018-03-16 13:50:25                         iphone 5s  conversion   \n",
       "6985 2018-02-09 22:07:07                 samsung galaxy j5  conversion   \n",
       "\n",
       "         month  \n",
       "220      March  \n",
       "2282     April  \n",
       "2547      June  \n",
       "4245     March  \n",
       "6985  February  "
      ]
     },
     "execution_count": 24,
     "metadata": {},
     "output_type": "execute_result"
    }
   ],
   "source": [
    "daysell.head()"
   ]
  },
  {
   "cell_type": "code",
   "execution_count": 25,
   "metadata": {},
   "outputs": [
    {
     "name": "stderr",
     "output_type": "stream",
     "text": [
      "/anaconda/lib/python3.6/site-packages/ipykernel/__main__.py:1: SettingWithCopyWarning: \n",
      "A value is trying to be set on a copy of a slice from a DataFrame.\n",
      "Try using .loc[row_indexer,col_indexer] = value instead\n",
      "\n",
      "See the caveats in the documentation: http://pandas.pydata.org/pandas-docs/stable/indexing.html#indexing-view-versus-copy\n",
      "  if __name__ == '__main__':\n"
     ]
    }
   ],
   "source": [
    "daysell[\"weekday\"] = daysell.apply(lambda x: dt.datetime.strftime(x['timestamp'], '%A'), axis=1)"
   ]
  },
  {
   "cell_type": "code",
   "execution_count": 26,
   "metadata": {},
   "outputs": [
    {
     "data": {
      "text/html": [
       "<div>\n",
       "<table border=\"1\" class=\"dataframe\">\n",
       "  <thead>\n",
       "    <tr style=\"text-align: right;\">\n",
       "      <th></th>\n",
       "      <th>timestamp</th>\n",
       "      <th>model</th>\n",
       "      <th>event</th>\n",
       "      <th>month</th>\n",
       "      <th>weekday</th>\n",
       "    </tr>\n",
       "  </thead>\n",
       "  <tbody>\n",
       "    <tr>\n",
       "      <th>220</th>\n",
       "      <td>2018-03-20 17:46:12</td>\n",
       "      <td>motorola moto x2</td>\n",
       "      <td>conversion</td>\n",
       "      <td>March</td>\n",
       "      <td>Tuesday</td>\n",
       "    </tr>\n",
       "    <tr>\n",
       "      <th>2282</th>\n",
       "      <td>2018-04-26 22:28:53</td>\n",
       "      <td>samsung galaxy core plus duos tv</td>\n",
       "      <td>conversion</td>\n",
       "      <td>April</td>\n",
       "      <td>Thursday</td>\n",
       "    </tr>\n",
       "    <tr>\n",
       "      <th>2547</th>\n",
       "      <td>2018-06-10 14:37:50</td>\n",
       "      <td>samsung galaxy s6 flat</td>\n",
       "      <td>conversion</td>\n",
       "      <td>June</td>\n",
       "      <td>Sunday</td>\n",
       "    </tr>\n",
       "    <tr>\n",
       "      <th>4245</th>\n",
       "      <td>2018-03-16 13:50:25</td>\n",
       "      <td>iphone 5s</td>\n",
       "      <td>conversion</td>\n",
       "      <td>March</td>\n",
       "      <td>Friday</td>\n",
       "    </tr>\n",
       "    <tr>\n",
       "      <th>6985</th>\n",
       "      <td>2018-02-09 22:07:07</td>\n",
       "      <td>samsung galaxy j5</td>\n",
       "      <td>conversion</td>\n",
       "      <td>February</td>\n",
       "      <td>Friday</td>\n",
       "    </tr>\n",
       "  </tbody>\n",
       "</table>\n",
       "</div>"
      ],
      "text/plain": [
       "               timestamp                             model       event  \\\n",
       "220  2018-03-20 17:46:12                  motorola moto x2  conversion   \n",
       "2282 2018-04-26 22:28:53  samsung galaxy core plus duos tv  conversion   \n",
       "2547 2018-06-10 14:37:50            samsung galaxy s6 flat  conversion   \n",
       "4245 2018-03-16 13:50:25                         iphone 5s  conversion   \n",
       "6985 2018-02-09 22:07:07                 samsung galaxy j5  conversion   \n",
       "\n",
       "         month   weekday  \n",
       "220      March   Tuesday  \n",
       "2282     April  Thursday  \n",
       "2547      June    Sunday  \n",
       "4245     March    Friday  \n",
       "6985  February    Friday  "
      ]
     },
     "execution_count": 26,
     "metadata": {},
     "output_type": "execute_result"
    }
   ],
   "source": [
    "daysell.head()"
   ]
  },
  {
   "cell_type": "code",
   "execution_count": 27,
   "metadata": {},
   "outputs": [],
   "source": [
    "modelsellperdays = daysell[\"weekday\"].value_counts().reindex(index = [\"Monday\",\"Tuesday\",\"Wednesday\",\"Thursday\",\"Friday\",\"Saturday\",\"Sunday\"])"
   ]
  },
  {
   "cell_type": "code",
   "execution_count": 28,
   "metadata": {},
   "outputs": [
    {
     "data": {
      "image/png": "[encoded data removed]",
      "text/plain": [
       "<matplotlib.figure.Figure at 0x11a8c3a58>"
      ]
     },
     "metadata": {},
     "output_type": "display_data"
    }
   ],
   "source": [
    "\n",
    "f = plt.figure()\n",
    "\n",
    "plt.title ('Cantidad de modelos vendidos por dia',color='black')\n",
    "\n",
    "ax = modelsellperdays.plot(kind='bar', figsize=(10,6) ,alpha=0.75, ax=f.gca(), color='green' )\n",
    "\n",
    "plt.xticks(size = 15)\n",
    "plt.yticks(size = 15)\n",
    "\n",
    "ax.set_xlabel('Dia')\n",
    "ax.set_ylabel(\"Cantidad de conversiones\")\n",
    "#plt.show()\n",
    "\n",
    "plt.savefig('cantidad de modelos vendidos por dia',bbox_inches='tight')\n"
   ]
  },
  {
   "cell_type": "code",
   "execution_count": 29,
   "metadata": {},
   "outputs": [],
   "source": [
    "dayevents = monthmodelssell"
   ]
  },
  {
   "cell_type": "code",
   "execution_count": 30,
   "metadata": {},
   "outputs": [
    {
     "name": "stderr",
     "output_type": "stream",
     "text": [
      "/anaconda/lib/python3.6/site-packages/ipykernel/__main__.py:1: SettingWithCopyWarning: \n",
      "A value is trying to be set on a copy of a slice from a DataFrame.\n",
      "Try using .loc[row_indexer,col_indexer] = value instead\n",
      "\n",
      "See the caveats in the documentation: http://pandas.pydata.org/pandas-docs/stable/indexing.html#indexing-view-versus-copy\n",
      "  if __name__ == '__main__':\n"
     ]
    }
   ],
   "source": [
    "dayevents[\"weekday\"] = dayevents.apply(lambda x: dt.datetime.strftime(x['timestamp'], '%A'), axis=1)"
   ]
  },
  {
   "cell_type": "code",
   "execution_count": 31,
   "metadata": {},
   "outputs": [
    {
     "data": {
      "text/html": [
       "<div>\n",
       "<table border=\"1\" class=\"dataframe\">\n",
       "  <thead>\n",
       "    <tr style=\"text-align: right;\">\n",
       "      <th></th>\n",
       "      <th>timestamp</th>\n",
       "      <th>model</th>\n",
       "      <th>event</th>\n",
       "      <th>month</th>\n",
       "      <th>weekday</th>\n",
       "    </tr>\n",
       "  </thead>\n",
       "  <tbody>\n",
       "    <tr>\n",
       "      <th>0</th>\n",
       "      <td>2018-05-31 23:38:05</td>\n",
       "      <td>iphone 5s</td>\n",
       "      <td>ad campaign hit</td>\n",
       "      <td>May</td>\n",
       "      <td>Thursday</td>\n",
       "    </tr>\n",
       "    <tr>\n",
       "      <th>1</th>\n",
       "      <td>2018-05-31 23:38:05</td>\n",
       "      <td>NaN</td>\n",
       "      <td>visited site</td>\n",
       "      <td>May</td>\n",
       "      <td>Thursday</td>\n",
       "    </tr>\n",
       "    <tr>\n",
       "      <th>2</th>\n",
       "      <td>2018-05-31 23:38:09</td>\n",
       "      <td>iphone 5s</td>\n",
       "      <td>viewed product</td>\n",
       "      <td>May</td>\n",
       "      <td>Thursday</td>\n",
       "    </tr>\n",
       "    <tr>\n",
       "      <th>3</th>\n",
       "      <td>2018-05-31 23:38:40</td>\n",
       "      <td>iphone 5s</td>\n",
       "      <td>checkout</td>\n",
       "      <td>May</td>\n",
       "      <td>Thursday</td>\n",
       "    </tr>\n",
       "    <tr>\n",
       "      <th>4</th>\n",
       "      <td>2018-05-29 13:29:25</td>\n",
       "      <td>samsung galaxy s8</td>\n",
       "      <td>viewed product</td>\n",
       "      <td>May</td>\n",
       "      <td>Tuesday</td>\n",
       "    </tr>\n",
       "  </tbody>\n",
       "</table>\n",
       "</div>"
      ],
      "text/plain": [
       "            timestamp              model            event month   weekday\n",
       "0 2018-05-31 23:38:05          iphone 5s  ad campaign hit   May  Thursday\n",
       "1 2018-05-31 23:38:05                NaN     visited site   May  Thursday\n",
       "2 2018-05-31 23:38:09          iphone 5s   viewed product   May  Thursday\n",
       "3 2018-05-31 23:38:40          iphone 5s         checkout   May  Thursday\n",
       "4 2018-05-29 13:29:25  samsung galaxy s8   viewed product   May   Tuesday"
      ]
     },
     "execution_count": 31,
     "metadata": {},
     "output_type": "execute_result"
    }
   ],
   "source": [
    "dayevents.head()"
   ]
  },
  {
   "cell_type": "code",
   "execution_count": 32,
   "metadata": {},
   "outputs": [],
   "source": [
    "dayforevents = dayevents[[\"weekday\",\"event\"]]"
   ]
  },
  {
   "cell_type": "code",
   "execution_count": 33,
   "metadata": {},
   "outputs": [
    {
     "data": {
      "text/html": [
       "<div>\n",
       "<table border=\"1\" class=\"dataframe\">\n",
       "  <thead>\n",
       "    <tr style=\"text-align: right;\">\n",
       "      <th></th>\n",
       "      <th>weekday</th>\n",
       "      <th>event</th>\n",
       "    </tr>\n",
       "  </thead>\n",
       "  <tbody>\n",
       "    <tr>\n",
       "      <th>0</th>\n",
       "      <td>Thursday</td>\n",
       "      <td>ad campaign hit</td>\n",
       "    </tr>\n",
       "    <tr>\n",
       "      <th>1</th>\n",
       "      <td>Thursday</td>\n",
       "      <td>visited site</td>\n",
       "    </tr>\n",
       "    <tr>\n",
       "      <th>2</th>\n",
       "      <td>Thursday</td>\n",
       "      <td>viewed product</td>\n",
       "    </tr>\n",
       "    <tr>\n",
       "      <th>3</th>\n",
       "      <td>Thursday</td>\n",
       "      <td>checkout</td>\n",
       "    </tr>\n",
       "    <tr>\n",
       "      <th>4</th>\n",
       "      <td>Tuesday</td>\n",
       "      <td>viewed product</td>\n",
       "    </tr>\n",
       "  </tbody>\n",
       "</table>\n",
       "</div>"
      ],
      "text/plain": [
       "    weekday            event\n",
       "0  Thursday  ad campaign hit\n",
       "1  Thursday     visited site\n",
       "2  Thursday   viewed product\n",
       "3  Thursday         checkout\n",
       "4   Tuesday   viewed product"
      ]
     },
     "execution_count": 33,
     "metadata": {},
     "output_type": "execute_result"
    }
   ],
   "source": [
    "dayforevents.head()"
   ]
  },
  {
   "cell_type": "code",
   "execution_count": 34,
   "metadata": {},
   "outputs": [
    {
     "name": "stderr",
     "output_type": "stream",
     "text": [
      "/anaconda/lib/python3.6/site-packages/ipykernel/__main__.py:1: SettingWithCopyWarning: \n",
      "A value is trying to be set on a copy of a slice from a DataFrame.\n",
      "Try using .loc[row_indexer,col_indexer] = value instead\n",
      "\n",
      "See the caveats in the documentation: http://pandas.pydata.org/pandas-docs/stable/indexing.html#indexing-view-versus-copy\n",
      "  if __name__ == '__main__':\n"
     ]
    },
    {
     "data": {
      "text/html": [
       "<div>\n",
       "<table border=\"1\" class=\"dataframe\">\n",
       "  <thead>\n",
       "    <tr style=\"text-align: right;\">\n",
       "      <th></th>\n",
       "      <th>weekday</th>\n",
       "      <th>event</th>\n",
       "      <th>count</th>\n",
       "    </tr>\n",
       "  </thead>\n",
       "  <tbody>\n",
       "    <tr>\n",
       "      <th>0</th>\n",
       "      <td>Thursday</td>\n",
       "      <td>ad campaign hit</td>\n",
       "      <td>1</td>\n",
       "    </tr>\n",
       "    <tr>\n",
       "      <th>1</th>\n",
       "      <td>Thursday</td>\n",
       "      <td>visited site</td>\n",
       "      <td>1</td>\n",
       "    </tr>\n",
       "    <tr>\n",
       "      <th>2</th>\n",
       "      <td>Thursday</td>\n",
       "      <td>viewed product</td>\n",
       "      <td>1</td>\n",
       "    </tr>\n",
       "    <tr>\n",
       "      <th>3</th>\n",
       "      <td>Thursday</td>\n",
       "      <td>checkout</td>\n",
       "      <td>1</td>\n",
       "    </tr>\n",
       "    <tr>\n",
       "      <th>4</th>\n",
       "      <td>Tuesday</td>\n",
       "      <td>viewed product</td>\n",
       "      <td>1</td>\n",
       "    </tr>\n",
       "  </tbody>\n",
       "</table>\n",
       "</div>"
      ],
      "text/plain": [
       "    weekday            event  count\n",
       "0  Thursday  ad campaign hit      1\n",
       "1  Thursday     visited site      1\n",
       "2  Thursday   viewed product      1\n",
       "3  Thursday         checkout      1\n",
       "4   Tuesday   viewed product      1"
      ]
     },
     "execution_count": 34,
     "metadata": {},
     "output_type": "execute_result"
    }
   ],
   "source": [
    "dayforevents[\"count\"] = 1\n",
    "dayforevents.head()"
   ]
  },
  {
   "cell_type": "code",
   "execution_count": 35,
   "metadata": {},
   "outputs": [],
   "source": [
    "pivot_table = dayforevents.pivot_table(index='weekday',columns='event',values='count',aggfunc=np.sum)"
   ]
  },
  {
   "cell_type": "markdown",
   "metadata": {},
   "source": [
    "Analsis por Id de usuario"
   ]
  },
  {
   "cell_type": "code",
   "execution_count": 36,
   "metadata": {},
   "outputs": [],
   "source": [
    "hoursevents = dayevents"
   ]
  },
  {
   "cell_type": "code",
   "execution_count": 37,
   "metadata": {},
   "outputs": [
    {
     "name": "stderr",
     "output_type": "stream",
     "text": [
      "/anaconda/lib/python3.6/site-packages/ipykernel/__main__.py:1: SettingWithCopyWarning: \n",
      "A value is trying to be set on a copy of a slice from a DataFrame.\n",
      "Try using .loc[row_indexer,col_indexer] = value instead\n",
      "\n",
      "See the caveats in the documentation: http://pandas.pydata.org/pandas-docs/stable/indexing.html#indexing-view-versus-copy\n",
      "  if __name__ == '__main__':\n"
     ]
    }
   ],
   "source": [
    "hoursevents[\"hour\"] = hoursevents[\"timestamp\"].map(lambda x: x.hour)"
   ]
  },
  {
   "cell_type": "code",
   "execution_count": 38,
   "metadata": {},
   "outputs": [
    {
     "data": {
      "text/html": [
       "<div>\n",
       "<table border=\"1\" class=\"dataframe\">\n",
       "  <thead>\n",
       "    <tr style=\"text-align: right;\">\n",
       "      <th></th>\n",
       "      <th>timestamp</th>\n",
       "      <th>model</th>\n",
       "      <th>event</th>\n",
       "      <th>month</th>\n",
       "      <th>weekday</th>\n",
       "      <th>hour</th>\n",
       "    </tr>\n",
       "  </thead>\n",
       "  <tbody>\n",
       "    <tr>\n",
       "      <th>0</th>\n",
       "      <td>2018-05-31 23:38:05</td>\n",
       "      <td>iphone 5s</td>\n",
       "      <td>ad campaign hit</td>\n",
       "      <td>May</td>\n",
       "      <td>Thursday</td>\n",
       "      <td>23</td>\n",
       "    </tr>\n",
       "    <tr>\n",
       "      <th>1</th>\n",
       "      <td>2018-05-31 23:38:05</td>\n",
       "      <td>NaN</td>\n",
       "      <td>visited site</td>\n",
       "      <td>May</td>\n",
       "      <td>Thursday</td>\n",
       "      <td>23</td>\n",
       "    </tr>\n",
       "    <tr>\n",
       "      <th>2</th>\n",
       "      <td>2018-05-31 23:38:09</td>\n",
       "      <td>iphone 5s</td>\n",
       "      <td>viewed product</td>\n",
       "      <td>May</td>\n",
       "      <td>Thursday</td>\n",
       "      <td>23</td>\n",
       "    </tr>\n",
       "    <tr>\n",
       "      <th>3</th>\n",
       "      <td>2018-05-31 23:38:40</td>\n",
       "      <td>iphone 5s</td>\n",
       "      <td>checkout</td>\n",
       "      <td>May</td>\n",
       "      <td>Thursday</td>\n",
       "      <td>23</td>\n",
       "    </tr>\n",
       "    <tr>\n",
       "      <th>4</th>\n",
       "      <td>2018-05-29 13:29:25</td>\n",
       "      <td>samsung galaxy s8</td>\n",
       "      <td>viewed product</td>\n",
       "      <td>May</td>\n",
       "      <td>Tuesday</td>\n",
       "      <td>13</td>\n",
       "    </tr>\n",
       "  </tbody>\n",
       "</table>\n",
       "</div>"
      ],
      "text/plain": [
       "            timestamp              model            event month   weekday  \\\n",
       "0 2018-05-31 23:38:05          iphone 5s  ad campaign hit   May  Thursday   \n",
       "1 2018-05-31 23:38:05                NaN     visited site   May  Thursday   \n",
       "2 2018-05-31 23:38:09          iphone 5s   viewed product   May  Thursday   \n",
       "3 2018-05-31 23:38:40          iphone 5s         checkout   May  Thursday   \n",
       "4 2018-05-29 13:29:25  samsung galaxy s8   viewed product   May   Tuesday   \n",
       "\n",
       "   hour  \n",
       "0    23  \n",
       "1    23  \n",
       "2    23  \n",
       "3    23  \n",
       "4    13  "
      ]
     },
     "execution_count": 38,
     "metadata": {},
     "output_type": "execute_result"
    }
   ],
   "source": [
    "hoursevents.head()"
   ]
  },
  {
   "cell_type": "code",
   "execution_count": 39,
   "metadata": {},
   "outputs": [
    {
     "data": {
      "text/html": [
       "<div>\n",
       "<table border=\"1\" class=\"dataframe\">\n",
       "  <thead>\n",
       "    <tr style=\"text-align: right;\">\n",
       "      <th></th>\n",
       "      <th>event</th>\n",
       "      <th>hour</th>\n",
       "    </tr>\n",
       "  </thead>\n",
       "  <tbody>\n",
       "    <tr>\n",
       "      <th>0</th>\n",
       "      <td>ad campaign hit</td>\n",
       "      <td>23</td>\n",
       "    </tr>\n",
       "    <tr>\n",
       "      <th>1</th>\n",
       "      <td>visited site</td>\n",
       "      <td>23</td>\n",
       "    </tr>\n",
       "    <tr>\n",
       "      <th>2</th>\n",
       "      <td>viewed product</td>\n",
       "      <td>23</td>\n",
       "    </tr>\n",
       "    <tr>\n",
       "      <th>3</th>\n",
       "      <td>checkout</td>\n",
       "      <td>23</td>\n",
       "    </tr>\n",
       "    <tr>\n",
       "      <th>4</th>\n",
       "      <td>viewed product</td>\n",
       "      <td>13</td>\n",
       "    </tr>\n",
       "  </tbody>\n",
       "</table>\n",
       "</div>"
      ],
      "text/plain": [
       "             event  hour\n",
       "0  ad campaign hit    23\n",
       "1     visited site    23\n",
       "2   viewed product    23\n",
       "3         checkout    23\n",
       "4   viewed product    13"
      ]
     },
     "execution_count": 39,
     "metadata": {},
     "output_type": "execute_result"
    }
   ],
   "source": [
    "hoursevents = hoursevents[[\"event\",\"hour\"]]\n",
    "hoursevents.head()"
   ]
  },
  {
   "cell_type": "code",
   "execution_count": 40,
   "metadata": {},
   "outputs": [
    {
     "data": {
      "text/plain": [
       "0     64378\n",
       "1     58978\n",
       "2     48536\n",
       "3     33118\n",
       "4     18838\n",
       "5     11335\n",
       "6      6257\n",
       "7      3910\n",
       "8      4623\n",
       "9      8077\n",
       "10    16639\n",
       "11    32884\n",
       "12    47426\n",
       "13    55684\n",
       "14    60211\n",
       "15    58852\n",
       "16    64637\n",
       "17    60560\n",
       "18    57614\n",
       "19    58398\n",
       "20    56378\n",
       "21    58867\n",
       "22    59412\n",
       "23    65676\n",
       "Name: hour, dtype: int64"
      ]
     },
     "execution_count": 40,
     "metadata": {},
     "output_type": "execute_result"
    }
   ],
   "source": [
    "hoursevents[\"hour\"].value_counts().sort_index()"
   ]
  },
  {
   "cell_type": "code",
   "execution_count": 41,
   "metadata": {},
   "outputs": [
    {
     "data": {
      "image/png": "[encoded data removed]",
      "text/plain": [
       "<matplotlib.figure.Figure at 0x118f8d5f8>"
      ]
     },
     "metadata": {},
     "output_type": "display_data"
    }
   ],
   "source": [
    "\n",
    "f = plt.figure()\n",
    "\n",
    "plt.title ('Cantidad de eventos a lo largo del dia(Por horas)',color='black')\n",
    "\n",
    "ax = hoursevents[\"hour\"].value_counts().sort_index().plot(kind='line', figsize=(10,6) ,alpha=0.75, color='green' )\n",
    "\n",
    "\n",
    "plt.xticks(size = 15)\n",
    "plt.yticks(size = 15)\n",
    "ax.set_xlabel('Hora')\n",
    "ax.set_ylabel(\"cantidad de eventos\")\n",
    "#plt.show()\n",
    "\n",
    "\n",
    "plt.savefig('cantidad de eventos a lo largo del dia',bbox_inches='tight')\n",
    "\n"
   ]
  },
  {
   "cell_type": "code",
   "execution_count": 42,
   "metadata": {},
   "outputs": [
    {
     "data": {
      "text/html": [
       "<div>\n",
       "<table border=\"1\" class=\"dataframe\">\n",
       "  <thead>\n",
       "    <tr style=\"text-align: right;\">\n",
       "      <th></th>\n",
       "      <th>event</th>\n",
       "      <th>hour</th>\n",
       "    </tr>\n",
       "  </thead>\n",
       "  <tbody>\n",
       "    <tr>\n",
       "      <th>220</th>\n",
       "      <td>conversion</td>\n",
       "      <td>17</td>\n",
       "    </tr>\n",
       "    <tr>\n",
       "      <th>2282</th>\n",
       "      <td>conversion</td>\n",
       "      <td>22</td>\n",
       "    </tr>\n",
       "    <tr>\n",
       "      <th>2547</th>\n",
       "      <td>conversion</td>\n",
       "      <td>14</td>\n",
       "    </tr>\n",
       "    <tr>\n",
       "      <th>4245</th>\n",
       "      <td>conversion</td>\n",
       "      <td>13</td>\n",
       "    </tr>\n",
       "    <tr>\n",
       "      <th>6985</th>\n",
       "      <td>conversion</td>\n",
       "      <td>22</td>\n",
       "    </tr>\n",
       "  </tbody>\n",
       "</table>\n",
       "</div>"
      ],
      "text/plain": [
       "           event  hour\n",
       "220   conversion    17\n",
       "2282  conversion    22\n",
       "2547  conversion    14\n",
       "4245  conversion    13\n",
       "6985  conversion    22"
      ]
     },
     "execution_count": 42,
     "metadata": {},
     "output_type": "execute_result"
    }
   ],
   "source": [
    "hourseventsconversion = hoursevents[hoursevents[\"event\"] == \"conversion\"]\n",
    "hourseventsconversion.head()"
   ]
  },
  {
   "cell_type": "code",
   "execution_count": 43,
   "metadata": {},
   "outputs": [
    {
     "data": {
      "image/png": "[encoded data removed]",
      "text/plain": [
       "<matplotlib.figure.Figure at 0x118f8b668>"
      ]
     },
     "metadata": {},
     "output_type": "display_data"
    }
   ],
   "source": [
    "\n",
    "f = plt.figure()\n",
    "\n",
    "plt.title ('Cantidad de conversiones a lo largo del dia(Por horas)',color='black')\n",
    "\n",
    "\n",
    "ax= hourseventsconversion[\"hour\"].value_counts().sort_index().plot(kind='line', figsize=(10,6) ,alpha=0.75, color='red' )\n",
    "ax.set_xlabel('Hora')\n",
    "ax.set_ylabel(\"cantidad de conversiones\")\n",
    "\n",
    "plt.xticks(size = 15)\n",
    "plt.yticks(size = 15)\n",
    "#plt.show()\n",
    "\n",
    "plt.savefig('cantidad de conversiones a lo largo del dia',bbox_inches='tight')"
   ]
  },
  {
   "cell_type": "markdown",
   "metadata": {},
   "source": [
    "Analisis segun la region/pais/ciudad "
   ]
  },
  {
   "cell_type": "code",
   "execution_count": 104,
   "metadata": {},
   "outputs": [
    {
     "data": {
      "text/plain": [
       "False    1008799\n",
       "True        2489\n",
       "Name: country, dtype: int64"
      ]
     },
     "execution_count": 104,
     "metadata": {},
     "output_type": "execute_result"
    }
   ],
   "source": [
    "eventsData[\"country\"].isnull().value_counts()"
   ]
  },
  {
   "cell_type": "code",
   "execution_count": 105,
   "metadata": {},
   "outputs": [
    {
     "data": {
      "text/plain": [
       "False    1008799\n",
       "True        2489\n",
       "Name: region, dtype: int64"
      ]
     },
     "execution_count": 105,
     "metadata": {},
     "output_type": "execute_result"
    }
   ],
   "source": [
    "eventsData[\"region\"].isnull().value_counts()"
   ]
  },
  {
   "cell_type": "code",
   "execution_count": 106,
   "metadata": {},
   "outputs": [
    {
     "data": {
      "text/plain": [
       "False    1008799\n",
       "True        2489\n",
       "Name: city, dtype: int64"
      ]
     },
     "execution_count": 106,
     "metadata": {},
     "output_type": "execute_result"
    }
   ],
   "source": [
    "eventsData[\"city\"].isnull().value_counts()"
   ]
  },
  {
   "cell_type": "code",
   "execution_count": 107,
   "metadata": {},
   "outputs": [
    {
     "data": {
      "text/plain": [
       "Brazil                971886\n",
       "Unknown                29547\n",
       "United States           3640\n",
       "Canada                  1372\n",
       "Argentina                650\n",
       "Netherlands              198\n",
       "France                   190\n",
       "Russia                   175\n",
       "Italy                    169\n",
       "Switzerland              137\n",
       "Colombia                 116\n",
       "Japan                    105\n",
       "French Guiana             82\n",
       "Mozambique                62\n",
       "Portugal                  52\n",
       "United Kingdom            52\n",
       "Germany                   52\n",
       "Poland                    51\n",
       "Romania                   33\n",
       "Dominican Republic        29\n",
       "China                     28\n",
       "Paraguay                  20\n",
       "Bangladesh                17\n",
       "Belize                    13\n",
       "India                     12\n",
       "Morocco                   12\n",
       "Angola                     8\n",
       "Saudi Arabia               7\n",
       "Uruguay                    7\n",
       "Uzbekistan                 7\n",
       "Guadeloupe                 6\n",
       "Spain                      6\n",
       "Mexico                     6\n",
       "Peru                       6\n",
       "Denmark                    5\n",
       "Zimbabwe                   5\n",
       "Rwanda                     5\n",
       "Turkey                     5\n",
       "Sri Lanka                  5\n",
       "Algeria                    5\n",
       "South Africa               4\n",
       "Cape Verde                 4\n",
       "Venezuela                  3\n",
       "Philippines                2\n",
       "Ireland                    2\n",
       "Israel                     1\n",
       "Name: country, dtype: int64"
      ]
     },
     "execution_count": 107,
     "metadata": {},
     "output_type": "execute_result"
    }
   ],
   "source": [
    "eventsData[\"country\"].value_counts()"
   ]
  },
  {
   "cell_type": "code",
   "execution_count": 108,
   "metadata": {},
   "outputs": [
    {
     "data": {
      "text/plain": [
       "Sao Paulo                     285895\n",
       "Unknown                       177654\n",
       "Minas Gerais                   84064\n",
       "Rio de Janeiro                 78271\n",
       "Bahia                          64356\n",
       "Ceara                          33895\n",
       "Rio Grande do Sul              33752\n",
       "Pernambuco                     32191\n",
       "Parana                         31557\n",
       "Goias                          20554\n",
       "Federal District               19608\n",
       "Espirito Santo                 17811\n",
       "Santa Catarina                 16764\n",
       "Para                           16038\n",
       "Maranhao                       14374\n",
       "Rio Grande do Norte            12150\n",
       "Paraíba                        10415\n",
       "Piaui                           8171\n",
       "Alagoas                         7965\n",
       "Tocantins                       7577\n",
       "Amazonas                        7202\n",
       "Mato Grosso                     6111\n",
       "Mato Grosso do Sul              5194\n",
       "Rondonia                        4271\n",
       "Sergipe                         4047\n",
       "Acre                            1402\n",
       "Amapa                           1115\n",
       "California                      1084\n",
       "Quebec                           620\n",
       "Ontario                          457\n",
       "                               ...  \n",
       "Delaware                          18\n",
       "Asuncion                          15\n",
       "Santa Fe                          13\n",
       "England                           13\n",
       "Maharashtra                       12\n",
       "Lorraine                          12\n",
       "Iowa                              12\n",
       "Mendoza                           10\n",
       "Neuquen                           10\n",
       "Setúbal                            8\n",
       "Kenitra Province                   8\n",
       "Porto                              8\n",
       "Louisiana                          8\n",
       "Loiret                             8\n",
       "Santarém                           7\n",
       "Departamento de Montevideo         7\n",
       "Cordoba                            7\n",
       "Vila Real                          7\n",
       "Georgia                            6\n",
       "Vologodskaya Oblast'               6\n",
       "Mexico City                        6\n",
       "Istanbul                           5\n",
       "Western Province                   5\n",
       "Judetul Bacau                      5\n",
       "Dhaka                              4\n",
       "Gauteng                            4\n",
       "Monagas                            3\n",
       "Moscow                             3\n",
       "Essonne                            1\n",
       "Indiana                            1\n",
       "Name: region, dtype: int64"
      ]
     },
     "execution_count": 108,
     "metadata": {},
     "output_type": "execute_result"
    }
   ],
   "source": [
    "eventsData[\"region\"].value_counts()"
   ]
  },
  {
   "cell_type": "code",
   "execution_count": 109,
   "metadata": {},
   "outputs": [
    {
     "data": {
      "text/plain": [
       "Unknown                       192347\n",
       "São Paulo                     116107\n",
       "Rio de Janeiro                 34478\n",
       "Belo Horizonte                 23419\n",
       "Salvador                       22940\n",
       "Brasília                       16655\n",
       "Fortaleza                      12924\n",
       "Osasco                         11033\n",
       "Curitiba                       10284\n",
       "Guarulhos                       9818\n",
       "Goiânia                         9745\n",
       "Porto Alegre                    9518\n",
       "Santo André                     9053\n",
       "Recife                          8896\n",
       "São Bernardo do Campo           8152\n",
       "Belém                           6691\n",
       "Campinas                        5788\n",
       "Manaus                          5755\n",
       "São Luís                        5581\n",
       "Natal                           5155\n",
       "Nova Iguaçu                     4916\n",
       "Petrolina                       4890\n",
       "Sorocaba                        4852\n",
       "Duque de Caxias                 4814\n",
       "Contagem                        4389\n",
       "Montes Claros                   4082\n",
       "Barueri                         3965\n",
       "Cotia                           3790\n",
       "Jaboatao dos Guararapes         3736\n",
       "Teresina                        3514\n",
       "                               ...  \n",
       "Lavras da Mangabeira               1\n",
       "Rafael Fernandes                   1\n",
       "Tres Cachoeiras                    1\n",
       "Santa Rita do Passa Quatro         1\n",
       "Placido de Castro                  1\n",
       "Rio Novo do Sul                    1\n",
       "Rolling Meadows                    1\n",
       "Heliodora                          1\n",
       "Licinio de Almeida                 1\n",
       "Sao Joao da Ponte                  1\n",
       "Canapolis                          1\n",
       "Chorozinho                         1\n",
       "Cabralia Paulista                  1\n",
       "Borborema                          1\n",
       "Aves                               1\n",
       "Lomas de Zamora                    1\n",
       "Brejinho                           1\n",
       "Morsang-sur-Seine                  1\n",
       "Caceres                            1\n",
       "Mata                               1\n",
       "Ilhabela                           1\n",
       "Matias Olimpio                     1\n",
       "Lagoa d'Anta                       1\n",
       "Grupiara                           1\n",
       "Domingos Martins                   1\n",
       "Campo Novo                         1\n",
       "Vargem Grande do Sul               1\n",
       "Sao Jorge do Ivai                  1\n",
       "Braco do Trombudo                  1\n",
       "Ocala                              1\n",
       "Name: city, dtype: int64"
      ]
     },
     "execution_count": 109,
     "metadata": {},
     "output_type": "execute_result"
    }
   ],
   "source": [
    "eventsData[\"city\"].value_counts()"
   ]
  },
  {
   "cell_type": "markdown",
   "metadata": {},
   "source": [
    "Analisis con modelo y viewed"
   ]
  },
  {
   "cell_type": "code",
   "execution_count": 110,
   "metadata": {},
   "outputs": [],
   "source": [
    "viewedmodel = eventsData[eventsData[\"event\"] == \"viewed product\"]"
   ]
  },
  {
   "cell_type": "code",
   "execution_count": 111,
   "metadata": {},
   "outputs": [
    {
     "data": {
      "text/plain": [
       "iphone 6                                     47538\n",
       "iphone 5s                                    42045\n",
       "iphone 6s                                    36930\n",
       "iphone 7                                     26330\n",
       "samsung galaxy s7 edge                       23062\n",
       "samsung galaxy s7                            18085\n",
       "iphone 7 plus                                17853\n",
       "iphone se                                    15874\n",
       "samsung galaxy s8                            15868\n",
       "iphone 6s plus                               12250\n",
       "iphone 6 plus                                12098\n",
       "iphone 5c                                    12049\n",
       "samsung galaxy j5                            11036\n",
       "samsung galaxy s6 flat                       10724\n",
       "samsung galaxy s6 edge                       10580\n",
       "samsung galaxy s8 plus                       10006\n",
       "iphone 5                                      8846\n",
       "samsung galaxy j7 prime                       8400\n",
       "motorola moto g4 plus                         7522\n",
       "motorola moto x play 4g dual                  6529\n",
       "samsung galaxy j7                             6376\n",
       "samsung galaxy a7 2017                        5530\n",
       "samsung galaxy a5 2017                        5524\n",
       "samsung galaxy s5                             5276\n",
       "motorola moto x2                              4928\n",
       "iphone 4s                                     4817\n",
       "motorola moto g3 4g                           4783\n",
       "samsung galaxy a5                             4707\n",
       "samsung galaxy note 8                         4655\n",
       "motorola moto g5                              4619\n",
       "                                             ...  \n",
       "samsung galaxy gran prime duos                  32\n",
       "ipad mini 3 wi-fi + 4g                          29\n",
       "samsung galaxy tab s 8.4 wi-fi + 4g             25\n",
       "samsung galaxy tab 4  10.1 wi-fi + 3g           22\n",
       "samsung galaxy tab pro 10.1 wi-fi               19\n",
       "samsung gear s3 frontier                        17\n",
       "ipad 4 wi-fi + 4g                               16\n",
       "samsung galaxy tab s 10.5 wi-fi + 4g            15\n",
       "samsung galaxy tab e 9.6 wi-fi                  14\n",
       "asus zenfone 2 laser                            12\n",
       "samsung galaxy tab e 7 wi-fi + 3g               12\n",
       "quantum muv pro                                 11\n",
       "asus zenfone go                                  9\n",
       "samsung galaxy tab s 10.5 wi-fi                  8\n",
       "motorola moto x1                                 7\n",
       "motorola moto e2 dtv                             7\n",
       "motorola moto g1 4g                              7\n",
       "samsung galaxy tab e 9.6 wi-fi + 3g              6\n",
       "samsung gear s3 classic                          5\n",
       "samsung galaxy s3 neo duos i9300i                4\n",
       "ipad mini 2 wi-fi + 4g                           4\n",
       "samsung galaxy tab e 7 wi-fi                     4\n",
       "asus live                                        4\n",
       "samsung galaxy tab a 2016 10.1  w-fi + 4g        3\n",
       "ipad 2 wi-fi                                     3\n",
       "lg l80 dual                                      3\n",
       "quantum muv up                                   2\n",
       "quantum go 3g                                    1\n",
       "samsung galaxy young 2 duos tv                   1\n",
       "motorola moto g1 3g                              1\n",
       "Name: model, dtype: int64"
      ]
     },
     "execution_count": 111,
     "metadata": {},
     "output_type": "execute_result"
    }
   ],
   "source": [
    "viewedmodel[\"model\"].value_counts()"
   ]
  },
  {
   "cell_type": "code",
   "execution_count": 112,
   "metadata": {},
   "outputs": [],
   "source": [
    "dataCountry = eventsData[[\"timestamp\",\"city\",\"region\",\"country\"]]"
   ]
  },
  {
   "cell_type": "code",
   "execution_count": 113,
   "metadata": {},
   "outputs": [
    {
     "data": {
      "text/html": [
       "<div>\n",
       "<table border=\"1\" class=\"dataframe\">\n",
       "  <thead>\n",
       "    <tr style=\"text-align: right;\">\n",
       "      <th></th>\n",
       "      <th>timestamp</th>\n",
       "      <th>city</th>\n",
       "      <th>region</th>\n",
       "      <th>country</th>\n",
       "    </tr>\n",
       "  </thead>\n",
       "  <tbody>\n",
       "    <tr>\n",
       "      <th>0</th>\n",
       "      <td>2018-05-31 23:38:05</td>\n",
       "      <td>Camaragibe</td>\n",
       "      <td>Pernambuco</td>\n",
       "      <td>Brazil</td>\n",
       "    </tr>\n",
       "    <tr>\n",
       "      <th>1</th>\n",
       "      <td>2018-05-31 23:38:05</td>\n",
       "      <td>Camaragibe</td>\n",
       "      <td>Pernambuco</td>\n",
       "      <td>Brazil</td>\n",
       "    </tr>\n",
       "    <tr>\n",
       "      <th>2</th>\n",
       "      <td>2018-05-31 23:38:09</td>\n",
       "      <td>Camaragibe</td>\n",
       "      <td>Pernambuco</td>\n",
       "      <td>Brazil</td>\n",
       "    </tr>\n",
       "    <tr>\n",
       "      <th>3</th>\n",
       "      <td>2018-05-31 23:38:40</td>\n",
       "      <td>Camaragibe</td>\n",
       "      <td>Pernambuco</td>\n",
       "      <td>Brazil</td>\n",
       "    </tr>\n",
       "    <tr>\n",
       "      <th>4</th>\n",
       "      <td>2018-05-29 13:29:25</td>\n",
       "      <td>Rio de Janeiro</td>\n",
       "      <td>Rio de Janeiro</td>\n",
       "      <td>Brazil</td>\n",
       "    </tr>\n",
       "  </tbody>\n",
       "</table>\n",
       "</div>"
      ],
      "text/plain": [
       "            timestamp            city          region country\n",
       "0 2018-05-31 23:38:05      Camaragibe      Pernambuco  Brazil\n",
       "1 2018-05-31 23:38:05      Camaragibe      Pernambuco  Brazil\n",
       "2 2018-05-31 23:38:09      Camaragibe      Pernambuco  Brazil\n",
       "3 2018-05-31 23:38:40      Camaragibe      Pernambuco  Brazil\n",
       "4 2018-05-29 13:29:25  Rio de Janeiro  Rio de Janeiro  Brazil"
      ]
     },
     "execution_count": 113,
     "metadata": {},
     "output_type": "execute_result"
    }
   ],
   "source": [
    "dataCountry.head()"
   ]
  },
  {
   "cell_type": "code",
   "execution_count": 114,
   "metadata": {},
   "outputs": [
    {
     "name": "stderr",
     "output_type": "stream",
     "text": [
      "/anaconda/lib/python3.6/site-packages/ipykernel/__main__.py:1: SettingWithCopyWarning: \n",
      "A value is trying to be set on a copy of a slice from a DataFrame.\n",
      "Try using .loc[row_indexer,col_indexer] = value instead\n",
      "\n",
      "See the caveats in the documentation: http://pandas.pydata.org/pandas-docs/stable/indexing.html#indexing-view-versus-copy\n",
      "  if __name__ == '__main__':\n"
     ]
    }
   ],
   "source": [
    "dataCountry[\"month\"] = dataCountry[\"timestamp\"].map(lambda x: x.month)"
   ]
  },
  {
   "cell_type": "code",
   "execution_count": 115,
   "metadata": {},
   "outputs": [
    {
     "data": {
      "text/plain": [
       "5    474949\n",
       "6    281882\n",
       "4    130008\n",
       "3     77293\n",
       "2     27886\n",
       "1     19270\n",
       "Name: month, dtype: int64"
      ]
     },
     "execution_count": 115,
     "metadata": {},
     "output_type": "execute_result"
    }
   ],
   "source": [
    "dataCountry[\"month\"].value_counts()"
   ]
  },
  {
   "cell_type": "code",
   "execution_count": 116,
   "metadata": {},
   "outputs": [
    {
     "data": {
      "text/plain": [
       "5    473733\n",
       "6    280631\n",
       "4    130007\n",
       "3     77272\n",
       "2     27886\n",
       "1     19270\n",
       "Name: month, dtype: int64"
      ]
     },
     "execution_count": 116,
     "metadata": {},
     "output_type": "execute_result"
    }
   ],
   "source": [
    "dataCountry.dropna(subset = [\"country\"])[\"month\"].value_counts()"
   ]
  },
  {
   "cell_type": "code",
   "execution_count": 117,
   "metadata": {},
   "outputs": [
    {
     "data": {
      "text/plain": [
       "Brazil                971886\n",
       "Unknown                29547\n",
       "United States           3640\n",
       "Canada                  1372\n",
       "Argentina                650\n",
       "Netherlands              198\n",
       "France                   190\n",
       "Russia                   175\n",
       "Italy                    169\n",
       "Switzerland              137\n",
       "Colombia                 116\n",
       "Japan                    105\n",
       "French Guiana             82\n",
       "Mozambique                62\n",
       "Portugal                  52\n",
       "United Kingdom            52\n",
       "Germany                   52\n",
       "Poland                    51\n",
       "Romania                   33\n",
       "Dominican Republic        29\n",
       "China                     28\n",
       "Paraguay                  20\n",
       "Bangladesh                17\n",
       "Belize                    13\n",
       "India                     12\n",
       "Morocco                   12\n",
       "Angola                     8\n",
       "Saudi Arabia               7\n",
       "Uruguay                    7\n",
       "Uzbekistan                 7\n",
       "Guadeloupe                 6\n",
       "Spain                      6\n",
       "Mexico                     6\n",
       "Peru                       6\n",
       "Denmark                    5\n",
       "Zimbabwe                   5\n",
       "Rwanda                     5\n",
       "Turkey                     5\n",
       "Sri Lanka                  5\n",
       "Algeria                    5\n",
       "South Africa               4\n",
       "Cape Verde                 4\n",
       "Venezuela                  3\n",
       "Philippines                2\n",
       "Ireland                    2\n",
       "Israel                     1\n",
       "Name: country, dtype: int64"
      ]
     },
     "execution_count": 117,
     "metadata": {},
     "output_type": "execute_result"
    }
   ],
   "source": [
    "dataCountry[\"country\"].value_counts()"
   ]
  },
  {
   "cell_type": "code",
   "execution_count": 118,
   "metadata": {},
   "outputs": [
    {
     "data": {
      "text/plain": [
       "Chrome 66.0               22611\n",
       "Chrome Mobile 66.0        17513\n",
       "Chrome 65.0                6635\n",
       "Chrome Mobile 65.0         5665\n",
       "Chrome Mobile 64.0         3083\n",
       "Chrome 67.0                3073\n",
       "Chrome Mobile 67.0         2683\n",
       "Chrome 64.0                2450\n",
       "Mobile Safari 11           2071\n",
       "Chrome Mobile 39           1639\n",
       "Chrome 63.0                1490\n",
       "Chrome Mobile 63.0         1413\n",
       "Samsung Internet 6.4       1056\n",
       "Firefox 60                 1049\n",
       "Firefox 59                  918\n",
       "Mobile Safari 10            703\n",
       "Edge 16.16299               658\n",
       "Chrome 49.0                 602\n",
       "Chrome Mobile 62.0          568\n",
       "Chrome Mobile 55.0          527\n",
       "Chrome Mobile 43.0          422\n",
       "Chrome Mobile 61.0          390\n",
       "IE 11                       385\n",
       "Opera 53.0                  271\n",
       "Opera 52.0                  269\n",
       "Chrome Mobile 56.0          264\n",
       "Chrome Mobile 57.0          262\n",
       "Chrome Mobile 58.0          255\n",
       "Chrome Mobile 59.0          254\n",
       "Chrome Mobile 50.0          246\n",
       "                          ...  \n",
       "Opera Mini 7.5                1\n",
       "Facebook 140                  1\n",
       "Facebook 82                   1\n",
       "Safari 8                      1\n",
       "Chromium 53.0                 1\n",
       "Firefox 30                    1\n",
       "Facebook 145                  1\n",
       "Puffin 1.6                    1\n",
       "Chrome 11.0                   1\n",
       "Opera 9.80                    1\n",
       "Chrome Mobile iOS 60.0        1\n",
       "IE Mobile 9                   1\n",
       "Chromium 64.0                 1\n",
       "Chromium 60.0                 1\n",
       "Safari 9.1                    1\n",
       "Firefox 19                    1\n",
       "Safari 10.0                   1\n",
       "Opera Mini 7.0                1\n",
       "Opera Mini 21.0               1\n",
       "Chrome 58.6                   1\n",
       "Chrome 35.0                   1\n",
       "Chrome 58.8                   1\n",
       "Chrome 57.9                   1\n",
       "Chrome Mobile 26.0            1\n",
       "Chromium 62.0                 1\n",
       "Opera 36.0                    1\n",
       "Facebook 86                   1\n",
       "Chrome 29.0                   1\n",
       "Firefox 22                    1\n",
       "Mobile Safari 7.1             1\n",
       "Name: browser_version, dtype: int64"
      ]
     },
     "execution_count": 118,
     "metadata": {},
     "output_type": "execute_result"
    }
   ],
   "source": [
    "eventsData[\"browser_version\"].value_counts()"
   ]
  },
  {
   "cell_type": "code",
   "execution_count": 143,
   "metadata": {},
   "outputs": [
    {
     "data": {
      "text/plain": [
       "Chrome       0.859908\n",
       "Mobile       0.037069\n",
       "Firefox      0.029927\n",
       "Samsung      0.019444\n",
       "Facebook     0.016194\n",
       "Edge         0.013104\n",
       "Opera        0.007885\n",
       "IE           0.007359\n",
       "Android      0.003971\n",
       "Safari       0.001865\n",
       "UC           0.001556\n",
       "Chromium     0.000458\n",
       "Vivaldi      0.000435\n",
       "Other        0.000240\n",
       "Maxthon      0.000183\n",
       "Puffin       0.000114\n",
       "Yandex       0.000114\n",
       "Dragon       0.000057\n",
       "Amazon       0.000034\n",
       "Iron         0.000034\n",
       "Pinterest    0.000023\n",
       "Pale         0.000011\n",
       "Crosswalk    0.000011\n",
       "Name: browser_version, dtype: float64"
      ]
     },
     "execution_count": 143,
     "metadata": {},
     "output_type": "execute_result"
    }
   ],
   "source": [
    "browsers = eventsData.dropna(subset = [\"browser_version\"])\n",
    "browsers[\"browser_version\"].map(lambda x: x.split(\" \")[0]).value_counts(normalize = True)"
   ]
  },
  {
   "cell_type": "code",
   "execution_count": 144,
   "metadata": {},
   "outputs": [
    {
     "data": {
      "image/png": "[encoded data removed]",
      "text/plain": [
       "<matplotlib.figure.Figure at 0x152eaa0b8>"
      ]
     },
     "metadata": {},
     "output_type": "display_data"
    }
   ],
   "source": [
    "\n",
    "f = plt.figure()\n",
    "\n",
    "plt.title ('Top 7 Browser ',color='black')\n",
    "\n",
    "ax = browsers[\"browser_version\"].map(lambda x: x.split(\" \")[0]).value_counts()[0:7].plot(kind='bar', figsize=(10,6) ,alpha=0.75, ax=f.gca(), color='green' )\n",
    "\n",
    "\n",
    "plt.xticks(size = 15)\n",
    "plt.yticks(size = 15)\n",
    "ax.set_xlabel('Browser')\n",
    "ax.set_ylabel(\"Cantidad de usuarios\")\n",
    "#plt.show()\n",
    "\n",
    "plt.savefig('top7browser',bbox_inches='tight')\n",
    "\n",
    "\n"
   ]
  },
  {
   "cell_type": "code",
   "execution_count": 145,
   "metadata": {},
   "outputs": [
    {
     "name": "stderr",
     "output_type": "stream",
     "text": [
      "/anaconda/lib/python3.6/site-packages/ipykernel/__main__.py:1: SettingWithCopyWarning: \n",
      "A value is trying to be set on a copy of a slice from a DataFrame.\n",
      "Try using .loc[row_indexer,col_indexer] = value instead\n",
      "\n",
      "See the caveats in the documentation: http://pandas.pydata.org/pandas-docs/stable/indexing.html#indexing-view-versus-copy\n",
      "  if __name__ == '__main__':\n"
     ]
    }
   ],
   "source": [
    "browsers[\"browser_version\"] = browsers[\"browser_version\"].map(lambda x: x.split(\" \")[0]).map(lambda x: \"Safari\" if (x == \"Mobile\") else x)"
   ]
  },
  {
   "cell_type": "code",
   "execution_count": 146,
   "metadata": {},
   "outputs": [
    {
     "data": {
      "image/png": "[encoded data removed]",
      "text/plain": [
       "<matplotlib.figure.Figure at 0x1534eb198>"
      ]
     },
     "metadata": {},
     "output_type": "display_data"
    }
   ],
   "source": [
    "#Graficamos las 10 areas de trabajo que mas postulaciones reciben\n",
    "f = plt.figure()\n",
    "\n",
    "plt.title ('Top 7 Browser ',color='black')\n",
    "\n",
    "ax = browsers[\"browser_version\"].value_counts()[0:7].plot(kind='bar', figsize=(10,6) ,alpha=0.75, logy = True, ax=f.gca(), color='green' )\n",
    "\n",
    "\n",
    "plt.xticks(size = 15)\n",
    "plt.yticks(size = 15)\n",
    "ax.set_xlabel('Browser')\n",
    "ax.set_ylabel(\"Cantidad de eventos\")\n",
    "#plt.show()\n",
    "#Exportamos el plot como .png para poder ponerlo en el informe\n",
    "plt.savefig('Top7browserlog',bbox_inches='tight')\n",
    "\n",
    "\n",
    "\n"
   ]
  },
  {
   "cell_type": "code",
   "execution_count": 147,
   "metadata": {},
   "outputs": [],
   "source": [
    "browsers_device = browsers[[\"browser_version\",\"device_type\"]]"
   ]
  },
  {
   "cell_type": "code",
   "execution_count": 148,
   "metadata": {},
   "outputs": [],
   "source": [
    "browsers_device = browsers_device[browsers_device[\"device_type\"] != \"Unknown\"]"
   ]
  },
  {
   "cell_type": "code",
   "execution_count": 149,
   "metadata": {},
   "outputs": [],
   "source": [
    "browsers_device[\"device_type\"] = browsers_device[\"device_type\"].map(lambda x: \"Smartphone\" if (x==\"Tablet\") else x)"
   ]
  },
  {
   "cell_type": "code",
   "execution_count": 150,
   "metadata": {},
   "outputs": [
    {
     "data": {
      "text/plain": [
       "Smartphone    45473\n",
       "Computer      41790\n",
       "Name: device_type, dtype: int64"
      ]
     },
     "execution_count": 150,
     "metadata": {},
     "output_type": "execute_result"
    }
   ],
   "source": [
    "browsers_device[\"device_type\"].value_counts()"
   ]
  },
  {
   "cell_type": "code",
   "execution_count": 151,
   "metadata": {},
   "outputs": [
    {
     "data": {
      "text/html": [
       "<div>\n",
       "<table border=\"1\" class=\"dataframe\">\n",
       "  <thead>\n",
       "    <tr style=\"text-align: right;\">\n",
       "      <th></th>\n",
       "      <th>browser_version</th>\n",
       "      <th>device_type</th>\n",
       "      <th>count</th>\n",
       "    </tr>\n",
       "  </thead>\n",
       "  <tbody>\n",
       "    <tr>\n",
       "      <th>1</th>\n",
       "      <td>Chrome</td>\n",
       "      <td>Smartphone</td>\n",
       "      <td>1</td>\n",
       "    </tr>\n",
       "    <tr>\n",
       "      <th>5</th>\n",
       "      <td>Android</td>\n",
       "      <td>Smartphone</td>\n",
       "      <td>1</td>\n",
       "    </tr>\n",
       "    <tr>\n",
       "      <th>9</th>\n",
       "      <td>Chrome</td>\n",
       "      <td>Computer</td>\n",
       "      <td>1</td>\n",
       "    </tr>\n",
       "    <tr>\n",
       "      <th>16</th>\n",
       "      <td>Chrome</td>\n",
       "      <td>Computer</td>\n",
       "      <td>1</td>\n",
       "    </tr>\n",
       "    <tr>\n",
       "      <th>45</th>\n",
       "      <td>Chrome</td>\n",
       "      <td>Computer</td>\n",
       "      <td>1</td>\n",
       "    </tr>\n",
       "  </tbody>\n",
       "</table>\n",
       "</div>"
      ],
      "text/plain": [
       "   browser_version device_type  count\n",
       "1           Chrome  Smartphone      1\n",
       "5          Android  Smartphone      1\n",
       "9           Chrome    Computer      1\n",
       "16          Chrome    Computer      1\n",
       "45          Chrome    Computer      1"
      ]
     },
     "execution_count": 151,
     "metadata": {},
     "output_type": "execute_result"
    }
   ],
   "source": [
    "browsers_device[\"count\"] = 1\n",
    "browsers_device.head()"
   ]
  },
  {
   "cell_type": "code",
   "execution_count": 152,
   "metadata": {},
   "outputs": [],
   "source": [
    "browsers_device = browsers_device[browsers_device[\"browser_version\"].isin([\"Chrome\",\"Safari\",\"Firefox\",\"Samsung\",\"Facebook\",\"Edge\",\"Opera\"])]"
   ]
  },
  {
   "cell_type": "code",
   "execution_count": 153,
   "metadata": {},
   "outputs": [],
   "source": [
    "browsers_device = browsers_device.groupby([\"browser_version\",\"device_type\"],as_index = False).count()"
   ]
  },
  {
   "cell_type": "code",
   "execution_count": 158,
   "metadata": {},
   "outputs": [],
   "source": [
    "browsers_device = browsers_device.sort_values(\"count\",ascending = False)"
   ]
  },
  {
   "cell_type": "code",
   "execution_count": 159,
   "metadata": {},
   "outputs": [
    {
     "data": {
      "image/png": "[encoded data removed]",
      "text/plain": [
       "<matplotlib.figure.Figure at 0x1483c5588>"
      ]
     },
     "metadata": {},
     "output_type": "display_data"
    }
   ],
   "source": [
    "import seaborn as sns\n",
    "\n",
    "g = sns.barplot(x='browser_version', y='count', hue='device_type', data=browsers_device)\n",
    "g.set_yscale('log')\n",
    "plt.ylabel('Cantidad de eventos')\n",
    "plt.xlabel('Browser')\n",
    "g.legend(title = \"Tipo de dispositivo\")\n",
    "plt.title('Cantidad de eventos por tipo de dispositivo y browser', fontsize = 20);\n",
    "plt.savefig('cantidad de evento por tipo de dispostivio y browser',bbox_inches='tight')\n"
   ]
  },
  {
   "cell_type": "markdown",
   "metadata": {},
   "source": [
    "Analisis por tipo de eventos "
   ]
  },
  {
   "cell_type": "code",
   "execution_count": 133,
   "metadata": {},
   "outputs": [],
   "source": [
    "events = eventsData[[\"person\",\"event\",\"channel\",\"new_vs_returning\"]]"
   ]
  },
  {
   "cell_type": "code",
   "execution_count": 134,
   "metadata": {},
   "outputs": [
    {
     "data": {
      "text/html": [
       "<div>\n",
       "<table border=\"1\" class=\"dataframe\">\n",
       "  <thead>\n",
       "    <tr style=\"text-align: right;\">\n",
       "      <th></th>\n",
       "      <th>person</th>\n",
       "      <th>event</th>\n",
       "      <th>channel</th>\n",
       "      <th>new_vs_returning</th>\n",
       "    </tr>\n",
       "  </thead>\n",
       "  <tbody>\n",
       "    <tr>\n",
       "      <th>0</th>\n",
       "      <td>0004b0a2</td>\n",
       "      <td>ad campaign hit</td>\n",
       "      <td>NaN</td>\n",
       "      <td>NaN</td>\n",
       "    </tr>\n",
       "    <tr>\n",
       "      <th>1</th>\n",
       "      <td>0004b0a2</td>\n",
       "      <td>visited site</td>\n",
       "      <td>Paid</td>\n",
       "      <td>New</td>\n",
       "    </tr>\n",
       "    <tr>\n",
       "      <th>2</th>\n",
       "      <td>0004b0a2</td>\n",
       "      <td>viewed product</td>\n",
       "      <td>NaN</td>\n",
       "      <td>NaN</td>\n",
       "    </tr>\n",
       "    <tr>\n",
       "      <th>3</th>\n",
       "      <td>0004b0a2</td>\n",
       "      <td>checkout</td>\n",
       "      <td>NaN</td>\n",
       "      <td>NaN</td>\n",
       "    </tr>\n",
       "    <tr>\n",
       "      <th>4</th>\n",
       "      <td>0006a21a</td>\n",
       "      <td>viewed product</td>\n",
       "      <td>NaN</td>\n",
       "      <td>NaN</td>\n",
       "    </tr>\n",
       "  </tbody>\n",
       "</table>\n",
       "</div>"
      ],
      "text/plain": [
       "     person            event channel new_vs_returning\n",
       "0  0004b0a2  ad campaign hit     NaN              NaN\n",
       "1  0004b0a2     visited site    Paid              New\n",
       "2  0004b0a2   viewed product     NaN              NaN\n",
       "3  0004b0a2         checkout     NaN              NaN\n",
       "4  0006a21a   viewed product     NaN              NaN"
      ]
     },
     "execution_count": 134,
     "metadata": {},
     "output_type": "execute_result"
    }
   ],
   "source": [
    "events.head()"
   ]
  },
  {
   "cell_type": "code",
   "execution_count": 135,
   "metadata": {},
   "outputs": [],
   "source": [
    "events = events[events[\"event\"] == \"visited site\"]"
   ]
  },
  {
   "cell_type": "code",
   "execution_count": 136,
   "metadata": {},
   "outputs": [
    {
     "data": {
      "text/plain": [
       "Paid        44193\n",
       "Direct      18522\n",
       "Organic     12348\n",
       "Referral    11384\n",
       "Social        846\n",
       "Email          76\n",
       "Unknown         9\n",
       "Name: channel, dtype: int64"
      ]
     },
     "execution_count": 136,
     "metadata": {},
     "output_type": "execute_result"
    }
   ],
   "source": [
    "events[\"channel\"].value_counts()"
   ]
  },
  {
   "cell_type": "code",
   "execution_count": 137,
   "metadata": {},
   "outputs": [],
   "source": [
    "events[\"count\"] = 1"
   ]
  },
  {
   "cell_type": "code",
   "execution_count": 138,
   "metadata": {},
   "outputs": [],
   "source": [
    "count_new_returning_channel = events.groupby([\"channel\",\"new_vs_returning\"])[\"count\"].sum().drop(\"Unknown\")"
   ]
  },
  {
   "cell_type": "code",
   "execution_count": 139,
   "metadata": {},
   "outputs": [
    {
     "data": {
      "text/html": [
       "<div>\n",
       "<table border=\"1\" class=\"dataframe\">\n",
       "  <thead>\n",
       "    <tr style=\"text-align: right;\">\n",
       "      <th></th>\n",
       "      <th>channel</th>\n",
       "      <th>new_vs_returning</th>\n",
       "      <th>count</th>\n",
       "    </tr>\n",
       "  </thead>\n",
       "  <tbody>\n",
       "    <tr>\n",
       "      <th>0</th>\n",
       "      <td>Direct</td>\n",
       "      <td>New</td>\n",
       "      <td>2207</td>\n",
       "    </tr>\n",
       "    <tr>\n",
       "      <th>1</th>\n",
       "      <td>Direct</td>\n",
       "      <td>Returning</td>\n",
       "      <td>16315</td>\n",
       "    </tr>\n",
       "    <tr>\n",
       "      <th>2</th>\n",
       "      <td>Email</td>\n",
       "      <td>New</td>\n",
       "      <td>10</td>\n",
       "    </tr>\n",
       "    <tr>\n",
       "      <th>3</th>\n",
       "      <td>Email</td>\n",
       "      <td>Returning</td>\n",
       "      <td>66</td>\n",
       "    </tr>\n",
       "    <tr>\n",
       "      <th>4</th>\n",
       "      <td>Organic</td>\n",
       "      <td>New</td>\n",
       "      <td>5709</td>\n",
       "    </tr>\n",
       "  </tbody>\n",
       "</table>\n",
       "</div>"
      ],
      "text/plain": [
       "   channel new_vs_returning  count\n",
       "0   Direct              New   2207\n",
       "1   Direct        Returning  16315\n",
       "2    Email              New     10\n",
       "3    Email        Returning     66\n",
       "4  Organic              New   5709"
      ]
     },
     "execution_count": 139,
     "metadata": {},
     "output_type": "execute_result"
    }
   ],
   "source": [
    "count_new_returning_channel = count_new_returning_channel.to_frame().reset_index()\n",
    "count_new_returning_channel.head()"
   ]
  },
  {
   "cell_type": "code",
   "execution_count": 140,
   "metadata": {},
   "outputs": [
    {
     "data": {
      "image/png": "[encoded data removed]",
      "text/plain": [
       "<matplotlib.figure.Figure at 0x12fb5ca58>"
      ]
     },
     "metadata": {},
     "output_type": "display_data"
    }
   ],
   "source": [
    "import seaborn as sns\n",
    "\n",
    "g = sns.barplot(x='channel', y='count', hue='new_vs_returning', data=count_new_returning_channel)\n",
    "g.set_yscale('log')\n",
    "plt.ylabel('Cantidad de usuarios')\n",
    "plt.xlabel('Channel')\n",
    "g.legend(title = \"Tipo de usuario\")\n",
    "plt.title('Cantidad de usuarios por canal', fontsize = 20);\n",
    "plt.savefig('Cantidad de usuarios por canal',bbox_inches='tight')"
   ]
  },
  {
   "cell_type": "markdown",
   "metadata": {},
   "source": [
    "Analisis de feriados Brasil"
   ]
  },
  {
   "cell_type": "code",
   "execution_count": 13,
   "metadata": {},
   "outputs": [],
   "source": [
    "BrasilData = eventsData[eventsData[\"country\"] == \"Brazil\"]"
   ]
  },
  {
   "cell_type": "code",
   "execution_count": 14,
   "metadata": {},
   "outputs": [
    {
     "data": {
      "text/html": [
       "<div>\n",
       "<table border=\"1\" class=\"dataframe\">\n",
       "  <thead>\n",
       "    <tr style=\"text-align: right;\">\n",
       "      <th></th>\n",
       "      <th>timestamp</th>\n",
       "      <th>event</th>\n",
       "      <th>person</th>\n",
       "      <th>url</th>\n",
       "      <th>sku</th>\n",
       "      <th>model</th>\n",
       "      <th>condition</th>\n",
       "      <th>storage</th>\n",
       "      <th>color</th>\n",
       "      <th>skus</th>\n",
       "      <th>...</th>\n",
       "      <th>search_engine</th>\n",
       "      <th>channel</th>\n",
       "      <th>new_vs_returning</th>\n",
       "      <th>city</th>\n",
       "      <th>region</th>\n",
       "      <th>country</th>\n",
       "      <th>device_type</th>\n",
       "      <th>screen_resolution</th>\n",
       "      <th>operating_system_version</th>\n",
       "      <th>browser_version</th>\n",
       "    </tr>\n",
       "  </thead>\n",
       "  <tbody>\n",
       "    <tr>\n",
       "      <th>1</th>\n",
       "      <td>2018-05-31 23:38:05</td>\n",
       "      <td>visited site</td>\n",
       "      <td>0004b0a2</td>\n",
       "      <td>NaN</td>\n",
       "      <td>NaN</td>\n",
       "      <td>NaN</td>\n",
       "      <td>NaN</td>\n",
       "      <td>NaN</td>\n",
       "      <td>NaN</td>\n",
       "      <td>NaN</td>\n",
       "      <td>...</td>\n",
       "      <td>NaN</td>\n",
       "      <td>Paid</td>\n",
       "      <td>New</td>\n",
       "      <td>Camaragibe</td>\n",
       "      <td>Pernambuco</td>\n",
       "      <td>Brazil</td>\n",
       "      <td>Smartphone</td>\n",
       "      <td>360x640</td>\n",
       "      <td>Android 6</td>\n",
       "      <td>Chrome Mobile 39</td>\n",
       "    </tr>\n",
       "    <tr>\n",
       "      <th>5</th>\n",
       "      <td>2018-05-29 13:29:26</td>\n",
       "      <td>visited site</td>\n",
       "      <td>0006a21a</td>\n",
       "      <td>NaN</td>\n",
       "      <td>NaN</td>\n",
       "      <td>NaN</td>\n",
       "      <td>NaN</td>\n",
       "      <td>NaN</td>\n",
       "      <td>NaN</td>\n",
       "      <td>NaN</td>\n",
       "      <td>...</td>\n",
       "      <td>NaN</td>\n",
       "      <td>Paid</td>\n",
       "      <td>New</td>\n",
       "      <td>Rio de Janeiro</td>\n",
       "      <td>Rio de Janeiro</td>\n",
       "      <td>Brazil</td>\n",
       "      <td>Smartphone</td>\n",
       "      <td>360x640</td>\n",
       "      <td>Android 5.1.1</td>\n",
       "      <td>Android 5.1</td>\n",
       "    </tr>\n",
       "    <tr>\n",
       "      <th>9</th>\n",
       "      <td>2018-04-09 20:12:31</td>\n",
       "      <td>visited site</td>\n",
       "      <td>000a54b2</td>\n",
       "      <td>NaN</td>\n",
       "      <td>NaN</td>\n",
       "      <td>NaN</td>\n",
       "      <td>NaN</td>\n",
       "      <td>NaN</td>\n",
       "      <td>NaN</td>\n",
       "      <td>NaN</td>\n",
       "      <td>...</td>\n",
       "      <td>NaN</td>\n",
       "      <td>Paid</td>\n",
       "      <td>New</td>\n",
       "      <td>Rio de Janeiro</td>\n",
       "      <td>Rio de Janeiro</td>\n",
       "      <td>Brazil</td>\n",
       "      <td>Computer</td>\n",
       "      <td>1920x1080</td>\n",
       "      <td>Windows 10</td>\n",
       "      <td>Chrome 65.0</td>\n",
       "    </tr>\n",
       "    <tr>\n",
       "      <th>16</th>\n",
       "      <td>2018-05-24 11:21:07</td>\n",
       "      <td>visited site</td>\n",
       "      <td>000a54b2</td>\n",
       "      <td>NaN</td>\n",
       "      <td>NaN</td>\n",
       "      <td>NaN</td>\n",
       "      <td>NaN</td>\n",
       "      <td>NaN</td>\n",
       "      <td>NaN</td>\n",
       "      <td>NaN</td>\n",
       "      <td>...</td>\n",
       "      <td>NaN</td>\n",
       "      <td>Paid</td>\n",
       "      <td>Returning</td>\n",
       "      <td>Rio de Janeiro</td>\n",
       "      <td>Rio de Janeiro</td>\n",
       "      <td>Brazil</td>\n",
       "      <td>Computer</td>\n",
       "      <td>1920x1080</td>\n",
       "      <td>Windows 10</td>\n",
       "      <td>Chrome 66.0</td>\n",
       "    </tr>\n",
       "    <tr>\n",
       "      <th>45</th>\n",
       "      <td>2018-04-06 05:12:05</td>\n",
       "      <td>visited site</td>\n",
       "      <td>00184bf9</td>\n",
       "      <td>NaN</td>\n",
       "      <td>NaN</td>\n",
       "      <td>NaN</td>\n",
       "      <td>NaN</td>\n",
       "      <td>NaN</td>\n",
       "      <td>NaN</td>\n",
       "      <td>NaN</td>\n",
       "      <td>...</td>\n",
       "      <td>NaN</td>\n",
       "      <td>Organic</td>\n",
       "      <td>New</td>\n",
       "      <td>Ribeirão Preto</td>\n",
       "      <td>Sao Paulo</td>\n",
       "      <td>Brazil</td>\n",
       "      <td>Computer</td>\n",
       "      <td>1366x768</td>\n",
       "      <td>Windows 10</td>\n",
       "      <td>Chrome 65.0</td>\n",
       "    </tr>\n",
       "  </tbody>\n",
       "</table>\n",
       "<p>5 rows × 23 columns</p>\n",
       "</div>"
      ],
      "text/plain": [
       "             timestamp         event    person  url  sku model condition  \\\n",
       "1  2018-05-31 23:38:05  visited site  0004b0a2  NaN  NaN   NaN       NaN   \n",
       "5  2018-05-29 13:29:26  visited site  0006a21a  NaN  NaN   NaN       NaN   \n",
       "9  2018-04-09 20:12:31  visited site  000a54b2  NaN  NaN   NaN       NaN   \n",
       "16 2018-05-24 11:21:07  visited site  000a54b2  NaN  NaN   NaN       NaN   \n",
       "45 2018-04-06 05:12:05  visited site  00184bf9  NaN  NaN   NaN       NaN   \n",
       "\n",
       "   storage color skus        ...        search_engine  channel  \\\n",
       "1      NaN   NaN  NaN        ...                  NaN     Paid   \n",
       "5      NaN   NaN  NaN        ...                  NaN     Paid   \n",
       "9      NaN   NaN  NaN        ...                  NaN     Paid   \n",
       "16     NaN   NaN  NaN        ...                  NaN     Paid   \n",
       "45     NaN   NaN  NaN        ...                  NaN  Organic   \n",
       "\n",
       "   new_vs_returning            city          region country device_type  \\\n",
       "1               New      Camaragibe      Pernambuco  Brazil  Smartphone   \n",
       "5               New  Rio de Janeiro  Rio de Janeiro  Brazil  Smartphone   \n",
       "9               New  Rio de Janeiro  Rio de Janeiro  Brazil    Computer   \n",
       "16        Returning  Rio de Janeiro  Rio de Janeiro  Brazil    Computer   \n",
       "45              New  Ribeirão Preto       Sao Paulo  Brazil    Computer   \n",
       "\n",
       "   screen_resolution operating_system_version   browser_version  \n",
       "1            360x640                Android 6  Chrome Mobile 39  \n",
       "5            360x640            Android 5.1.1       Android 5.1  \n",
       "9          1920x1080              Windows 10        Chrome 65.0  \n",
       "16         1920x1080              Windows 10        Chrome 66.0  \n",
       "45          1366x768              Windows 10        Chrome 65.0  \n",
       "\n",
       "[5 rows x 23 columns]"
      ]
     },
     "execution_count": 14,
     "metadata": {},
     "output_type": "execute_result"
    }
   ],
   "source": [
    "BrasilData.head()"
   ]
  },
  {
   "cell_type": "code",
   "execution_count": 15,
   "metadata": {},
   "outputs": [],
   "source": [
    "BrasilData = BrasilData[[\"timestamp\",\"event\"]]"
   ]
  },
  {
   "cell_type": "code",
   "execution_count": 16,
   "metadata": {},
   "outputs": [],
   "source": [
    "BrasilData[\"month\"] = BrasilData[\"timestamp\"].map(lambda x: x.month)"
   ]
  },
  {
   "cell_type": "code",
   "execution_count": 17,
   "metadata": {},
   "outputs": [],
   "source": [
    "BrasilData[\"day\"] = BrasilData[\"timestamp\"].map(lambda x: x.day)"
   ]
  },
  {
   "cell_type": "code",
   "execution_count": 18,
   "metadata": {},
   "outputs": [
    {
     "data": {
      "text/html": [
       "<div>\n",
       "<table border=\"1\" class=\"dataframe\">\n",
       "  <thead>\n",
       "    <tr style=\"text-align: right;\">\n",
       "      <th></th>\n",
       "      <th>timestamp</th>\n",
       "      <th>event</th>\n",
       "      <th>month</th>\n",
       "      <th>day</th>\n",
       "    </tr>\n",
       "  </thead>\n",
       "  <tbody>\n",
       "    <tr>\n",
       "      <th>1</th>\n",
       "      <td>2018-05-31 23:38:05</td>\n",
       "      <td>visited site</td>\n",
       "      <td>5</td>\n",
       "      <td>31</td>\n",
       "    </tr>\n",
       "    <tr>\n",
       "      <th>5</th>\n",
       "      <td>2018-05-29 13:29:26</td>\n",
       "      <td>visited site</td>\n",
       "      <td>5</td>\n",
       "      <td>29</td>\n",
       "    </tr>\n",
       "    <tr>\n",
       "      <th>9</th>\n",
       "      <td>2018-04-09 20:12:31</td>\n",
       "      <td>visited site</td>\n",
       "      <td>4</td>\n",
       "      <td>9</td>\n",
       "    </tr>\n",
       "    <tr>\n",
       "      <th>16</th>\n",
       "      <td>2018-05-24 11:21:07</td>\n",
       "      <td>visited site</td>\n",
       "      <td>5</td>\n",
       "      <td>24</td>\n",
       "    </tr>\n",
       "    <tr>\n",
       "      <th>45</th>\n",
       "      <td>2018-04-06 05:12:05</td>\n",
       "      <td>visited site</td>\n",
       "      <td>4</td>\n",
       "      <td>6</td>\n",
       "    </tr>\n",
       "  </tbody>\n",
       "</table>\n",
       "</div>"
      ],
      "text/plain": [
       "             timestamp         event  month  day\n",
       "1  2018-05-31 23:38:05  visited site      5   31\n",
       "5  2018-05-29 13:29:26  visited site      5   29\n",
       "9  2018-04-09 20:12:31  visited site      4    9\n",
       "16 2018-05-24 11:21:07  visited site      5   24\n",
       "45 2018-04-06 05:12:05  visited site      4    6"
      ]
     },
     "execution_count": 18,
     "metadata": {},
     "output_type": "execute_result"
    }
   ],
   "source": [
    "BrasilData.head()"
   ]
  },
  {
   "cell_type": "code",
   "execution_count": 117,
   "metadata": {},
   "outputs": [
    {
     "data": {
      "text/plain": [
       "visited site    84308\n",
       "Name: event, dtype: int64"
      ]
     },
     "execution_count": 117,
     "metadata": {},
     "output_type": "execute_result"
    }
   ],
   "source": [
    "BrasilData[\"event\"].value_counts()"
   ]
  },
  {
   "cell_type": "code",
   "execution_count": null,
   "metadata": {},
   "outputs": [],
   "source": []
  },
  {
   "cell_type": "code",
   "execution_count": 121,
   "metadata": {},
   "outputs": [],
   "source": [
    "SpecialDays = {}\n",
    "SpecialDays[1] = [1]\n",
    "#SpecialDays[2] = [13,14]\n",
    "SpecialDays[3] = [30]\n",
    "SpecialDays[4] = [21]\n",
    "SpecialDays[5] = [1]\n",
    "#SpecialDays[6] = [12]"
   ]
  },
  {
   "cell_type": "code",
   "execution_count": 24,
   "metadata": {},
   "outputs": [],
   "source": [
    "BrasilData[\"EsDiaEspecial\"] = False\n",
    "BrasilData[\"EsDiaEspecial\"] = BrasilData[\"timestamp\"].map(lambda x:True if( x.day in SpecialDays[x.month]) else False)"
   ]
  },
  {
   "cell_type": "code",
   "execution_count": 26,
   "metadata": {},
   "outputs": [
    {
     "data": {
      "text/plain": [
       "False    79372\n",
       "True      4936\n",
       "Name: EsDiaEspecial, dtype: int64"
      ]
     },
     "execution_count": 26,
     "metadata": {},
     "output_type": "execute_result"
    }
   ],
   "source": [
    "BrasilData[\"EsDiaEspecial\"].value_counts()"
   ]
  },
  {
   "cell_type": "code",
   "execution_count": 113,
   "metadata": {},
   "outputs": [],
   "source": [
    "January = BrasilData[BrasilData[\"month\"] == 1]\n",
    "February = BrasilData[BrasilData[\"month\"] == 2]\n",
    "March = BrasilData[BrasilData[\"month\"] == 3]\n",
    "April = BrasilData[BrasilData[\"month\"] == 4]\n",
    "May = BrasilData[BrasilData[\"month\"] == 5]\n",
    "June = BrasilData[BrasilData[\"month\"] == 6]"
   ]
  },
  {
   "cell_type": "code",
   "execution_count": 66,
   "metadata": {},
   "outputs": [
    {
     "data": {
      "text/plain": [
       "5     1913\n",
       "4     1840\n",
       "6     1709\n",
       "7     1651\n",
       "1     1631\n",
       "8     1475\n",
       "11    1427\n",
       "2     1393\n",
       "13    1390\n",
       "3     1324\n",
       "12    1309\n",
       "14    1260\n",
       "9     1167\n",
       "15    1058\n",
       "10     978\n",
       "Name: day, dtype: int64"
      ]
     },
     "execution_count": 66,
     "metadata": {},
     "output_type": "execute_result"
    }
   ],
   "source": [
    "June[\"day\"].value_counts()"
   ]
  },
  {
   "cell_type": "code",
   "execution_count": 45,
   "metadata": {},
   "outputs": [],
   "source": [
    "events_January = January[\"day\"].value_counts()"
   ]
  },
  {
   "cell_type": "code",
   "execution_count": 47,
   "metadata": {},
   "outputs": [
    {
     "data": {
      "image/png": "[encoded data removed]",
      "text/plain": [
       "<matplotlib.figure.Figure at 0x11c7033c8>"
      ]
     },
     "metadata": {},
     "output_type": "display_data"
    }
   ],
   "source": [
    "\n",
    "f = plt.figure()\n",
    "\n",
    "plt.title ('Cantidad de eventos de Enero teniendo encuenta los dias especiales',color='black')\n",
    "\n",
    "ax = events_January.sort_index().plot(kind='line', figsize=(10,6) ,alpha=0.75, color='green' )\n",
    "\n",
    "plt.plot([1],[events_January[1]], 'ro')\n",
    "ax.set_xlabel('Dia')\n",
    "ax.set_ylabel(\"Eventos\")\n",
    "#plt.show()\n",
    "\n",
    "plt.savefig('cantidad de eventos Enero',bbox_inches='tight')\n",
    "\n"
   ]
  },
  {
   "cell_type": "code",
   "execution_count": 108,
   "metadata": {},
   "outputs": [
    {
     "data": {
      "text/html": [
       "<div>\n",
       "<table border=\"1\" class=\"dataframe\">\n",
       "  <thead>\n",
       "    <tr style=\"text-align: right;\">\n",
       "      <th></th>\n",
       "      <th>timestamp</th>\n",
       "      <th>event</th>\n",
       "      <th>month</th>\n",
       "      <th>day</th>\n",
       "      <th>EsDiaEspcial</th>\n",
       "      <th>EsDiaEspecial</th>\n",
       "    </tr>\n",
       "  </thead>\n",
       "  <tbody>\n",
       "    <tr>\n",
       "      <th>842</th>\n",
       "      <td>2018-02-12 12:17:40</td>\n",
       "      <td>visited site</td>\n",
       "      <td>2</td>\n",
       "      <td>12</td>\n",
       "      <td>False</td>\n",
       "      <td>False</td>\n",
       "    </tr>\n",
       "    <tr>\n",
       "      <th>911</th>\n",
       "      <td>2018-02-14 19:46:03</td>\n",
       "      <td>visited site</td>\n",
       "      <td>2</td>\n",
       "      <td>14</td>\n",
       "      <td>True</td>\n",
       "      <td>True</td>\n",
       "    </tr>\n",
       "    <tr>\n",
       "      <th>923</th>\n",
       "      <td>2018-02-23 07:18:19</td>\n",
       "      <td>visited site</td>\n",
       "      <td>2</td>\n",
       "      <td>23</td>\n",
       "      <td>False</td>\n",
       "      <td>False</td>\n",
       "    </tr>\n",
       "    <tr>\n",
       "      <th>2126</th>\n",
       "      <td>2018-02-03 22:21:18</td>\n",
       "      <td>visited site</td>\n",
       "      <td>2</td>\n",
       "      <td>3</td>\n",
       "      <td>False</td>\n",
       "      <td>False</td>\n",
       "    </tr>\n",
       "    <tr>\n",
       "      <th>2131</th>\n",
       "      <td>2018-02-08 00:41:45</td>\n",
       "      <td>visited site</td>\n",
       "      <td>2</td>\n",
       "      <td>8</td>\n",
       "      <td>False</td>\n",
       "      <td>False</td>\n",
       "    </tr>\n",
       "  </tbody>\n",
       "</table>\n",
       "</div>"
      ],
      "text/plain": [
       "               timestamp         event  month  day EsDiaEspcial EsDiaEspecial\n",
       "842  2018-02-12 12:17:40  visited site      2   12        False         False\n",
       "911  2018-02-14 19:46:03  visited site      2   14         True          True\n",
       "923  2018-02-23 07:18:19  visited site      2   23        False         False\n",
       "2126 2018-02-03 22:21:18  visited site      2    3        False         False\n",
       "2131 2018-02-08 00:41:45  visited site      2    8        False         False"
      ]
     },
     "execution_count": 108,
     "metadata": {},
     "output_type": "execute_result"
    }
   ],
   "source": []
  },
  {
   "cell_type": "code",
   "execution_count": 112,
   "metadata": {},
   "outputs": [
    {
     "data": {
      "text/plain": [
       "Series([], Name: event, dtype: int64)"
      ]
     },
     "execution_count": 112,
     "metadata": {},
     "output_type": "execute_result"
    }
   ],
   "source": [
    "February[\"event\"].value_counts()"
   ]
  },
  {
   "cell_type": "code",
   "execution_count": 118,
   "metadata": {},
   "outputs": [],
   "source": [
    "\n",
    "events_February = February[\"day\"].value_counts()"
   ]
  },
  {
   "cell_type": "code",
   "execution_count": 119,
   "metadata": {},
   "outputs": [
    {
     "data": {
      "text/plain": [
       "visited site    2725\n",
       "Name: event, dtype: int64"
      ]
     },
     "execution_count": 119,
     "metadata": {},
     "output_type": "execute_result"
    }
   ],
   "source": [
    "February[\"event\"].value_counts()"
   ]
  },
  {
   "cell_type": "code",
   "execution_count": 120,
   "metadata": {},
   "outputs": [
    {
     "data": {
      "image/png": "[encoded data removed]",
      "text/plain": [
       "<matplotlib.figure.Figure at 0x11c3e1550>"
      ]
     },
     "metadata": {},
     "output_type": "display_data"
    }
   ],
   "source": [
    "\n",
    "f = plt.figure()\n",
    "\n",
    "plt.title ('Cantidad de eventos de Febrero teniendo encuenta los dias especiales',color='black')\n",
    "\n",
    "ax = events_Febraury.sort_index().plot(kind='line', figsize=(10,6) ,alpha=0.75, color='green' )\n",
    "for day in SpecialDays[2]:\n",
    "    plt.plot([day],[events_February[day]], 'ro')\n",
    "ax.set_xlabel('Dia')\n",
    "ax.set_ylabel(\"Eventos\")\n",
    "#plt.show()\n",
    "\n",
    "plt.savefig('cantidad de eventos Febrero',bbox_inches='tight')\n",
    "\n",
    "\n"
   ]
  },
  {
   "cell_type": "code",
   "execution_count": 56,
   "metadata": {},
   "outputs": [],
   "source": [
    "events_March = March[\"day\"].value_counts()"
   ]
  },
  {
   "cell_type": "code",
   "execution_count": 122,
   "metadata": {},
   "outputs": [
    {
     "data": {
      "image/png": "[encoded data removed]",
      "text/plain": [
       "<matplotlib.figure.Figure at 0x11c1ea5c0>"
      ]
     },
     "metadata": {},
     "output_type": "display_data"
    }
   ],
   "source": [
    "\n",
    "f = plt.figure()\n",
    "\n",
    "plt.title ('Cantidad de eventos de Marzo teniendo encuenta los dias especiales',color='black')\n",
    "\n",
    "ax = events_March.sort_index().plot(kind='line', figsize=(10,6) ,alpha=0.75, color='green' )\n",
    "for day in SpecialDays[3]:\n",
    "    plt.plot([day],[events_March[day]], 'ro')\n",
    "\n",
    "\n",
    "ax.set_xlabel('Dia')\n",
    "ax.set_ylabel(\"Eventos\")\n",
    "#plt.show()\n",
    "\n",
    "plt.savefig('cantidad de eventos Marzo',bbox_inches='tight')\n",
    "\n",
    "\n"
   ]
  },
  {
   "cell_type": "code",
   "execution_count": 123,
   "metadata": {},
   "outputs": [],
   "source": [
    "events_April = April[\"day\"].value_counts()"
   ]
  },
  {
   "cell_type": "code",
   "execution_count": 124,
   "metadata": {},
   "outputs": [
    {
     "data": {
      "image/png": "[encoded data removed]",
      "text/plain": [
       "<matplotlib.figure.Figure at 0x11b9822b0>"
      ]
     },
     "metadata": {},
     "output_type": "display_data"
    }
   ],
   "source": [
    "\n",
    "f = plt.figure()\n",
    "\n",
    "plt.title ('Cantidad de eventos de Abril teniendo encuenta los dias especiales',color='black')\n",
    "\n",
    "ax = events_April.sort_index().plot(kind='line', figsize=(10,6) ,alpha=0.75, color='green' )\n",
    "for day in SpecialDays[4]:\n",
    "    plt.plot([day],[events_April[day]], 'ro')\n",
    "\n",
    "\n",
    "ax.set_xlabel('Dia')\n",
    "ax.set_ylabel(\"Eventos\")\n",
    "#plt.show()\n",
    "\n",
    "plt.savefig('cantidad de eventos Abril',bbox_inches='tight')\n",
    "\n",
    "\n"
   ]
  },
  {
   "cell_type": "code",
   "execution_count": 125,
   "metadata": {},
   "outputs": [],
   "source": [
    "events_May = May[\"day\"].value_counts()"
   ]
  },
  {
   "cell_type": "code",
   "execution_count": 126,
   "metadata": {},
   "outputs": [
    {
     "data": {
      "image/png": "[encoded data removed]",
      "text/plain": [
       "<matplotlib.figure.Figure at 0x11b79dda0>"
      ]
     },
     "metadata": {},
     "output_type": "display_data"
    }
   ],
   "source": [
    "\n",
    "f = plt.figure()\n",
    "\n",
    "plt.title ('Cantidad de eventos de Mayo teniendo encuenta los dias especiales',color='black')\n",
    "\n",
    "ax = events_May.sort_index().plot(kind='line', figsize=(10,6) ,alpha=0.75, color='green' )\n",
    "for day in SpecialDays[5]:\n",
    "    plt.plot([day],[events_May[day]], 'ro')\n",
    "\n",
    "\n",
    "ax.set_xlabel('Dia')\n",
    "ax.set_ylabel(\"Eventos\")\n",
    "#plt.show()\n",
    "\n",
    "plt.savefig('cantidad de eventos Mayo',bbox_inches='tight')\n",
    "\n",
    "\n"
   ]
  },
  {
   "cell_type": "code",
   "execution_count": 64,
   "metadata": {},
   "outputs": [],
   "source": [
    "events_June = June[\"day\"].value_counts()"
   ]
  },
  {
   "cell_type": "code",
   "execution_count": 107,
   "metadata": {},
   "outputs": [
    {
     "data": {
      "image/png": "[encoded data removed]",
      "text/plain": [
       "<matplotlib.figure.Figure at 0x11efcad68>"
      ]
     },
     "metadata": {},
     "output_type": "display_data"
    }
   ],
   "source": [
    "\n",
    "f = plt.figure()\n",
    "\n",
    "plt.title ('Cantidad de eventos de Junio teniendo encuenta los dias especiales',color='black')\n",
    "\n",
    "ax = events_June.sort_index().plot(kind='line', figsize=(10,6) ,alpha=0.75, color='green' )\n",
    "for day in SpecialDays[6]:\n",
    "    plt.plot([day],[events_June[day]], 'ro')\n",
    "\n",
    "\n",
    "ax.set_xlabel('Dia')\n",
    "ax.set_ylabel(\"Eventos\")\n",
    "#plt.show()\n",
    "plt.savefig('cantidad de eventos Junio',bbox_inches='tight')\n",
    "\n",
    "\n"
   ]
  },
  {
   "cell_type": "code",
   "execution_count": null,
   "metadata": {},
   "outputs": [],
   "source": []
  }
 ],
 "metadata": {
  "kernelspec": {
   "display_name": "Python 3",
   "language": "python",
   "name": "python3"
  },
  "language_info": {
   "codemirror_mode": {
    "name": "ipython",
    "version": 3
   },
   "file_extension": ".py",
   "mimetype": "text/x-python",
   "name": "python",
   "nbconvert_exporter": "python",
   "pygments_lexer": "ipython3",
   "version": "3.6.0"
  }
 },
 "nbformat": 4,
 "nbformat_minor": 2
}
