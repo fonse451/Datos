{
 "cells": [
  {
   "cell_type": "code",
   "execution_count": 1,
   "metadata": {},
   "outputs": [],
   "source": [
    "import pandas as pd\n",
    "import numpy as np\n",
    "import matplotlib.pyplot as plt\n",
    "import datetime as dt\n",
    "%matplotlib inline"
   ]
  },
  {
   "cell_type": "code",
   "execution_count": 2,
   "metadata": {},
   "outputs": [],
   "source": [
    "#Funcion que pasa a formato datetime las fechas que recibimos.\n",
    "def datetime(date,format_string):\n",
    "    return pd.to_datetime(date,format= format_string,errors='coerce')\n"
   ]
  },
  {
   "cell_type": "code",
   "execution_count": 3,
   "metadata": {},
   "outputs": [
    {
     "name": "stderr",
     "output_type": "stream",
     "text": [
      "/anaconda/lib/python3.6/site-packages/IPython/core/interactiveshell.py:2717: DtypeWarning: Columns (4) have mixed types. Specify dtype option on import or set low_memory=False.\n",
      "  interactivity=interactivity, compiler=compiler, result=result)\n"
     ]
    }
   ],
   "source": [
    "eventsData = pd.read_csv(\"trocafone-set/events.csv\")"
   ]
  },
  {
   "cell_type": "code",
   "execution_count": 4,
   "metadata": {},
   "outputs": [
    {
     "data": {
      "text/html": [
       "<div>\n",
       "<table border=\"1\" class=\"dataframe\">\n",
       "  <thead>\n",
       "    <tr style=\"text-align: right;\">\n",
       "      <th></th>\n",
       "      <th>timestamp</th>\n",
       "      <th>event</th>\n",
       "      <th>person</th>\n",
       "      <th>url</th>\n",
       "      <th>sku</th>\n",
       "      <th>model</th>\n",
       "      <th>condition</th>\n",
       "      <th>storage</th>\n",
       "      <th>color</th>\n",
       "      <th>skus</th>\n",
       "      <th>...</th>\n",
       "      <th>search_engine</th>\n",
       "      <th>channel</th>\n",
       "      <th>new_vs_returning</th>\n",
       "      <th>city</th>\n",
       "      <th>region</th>\n",
       "      <th>country</th>\n",
       "      <th>device_type</th>\n",
       "      <th>screen_resolution</th>\n",
       "      <th>operating_system_version</th>\n",
       "      <th>browser_version</th>\n",
       "    </tr>\n",
       "  </thead>\n",
       "  <tbody>\n",
       "    <tr>\n",
       "      <th>0</th>\n",
       "      <td>2018-05-31 23:38:05</td>\n",
       "      <td>ad campaign hit</td>\n",
       "      <td>0004b0a2</td>\n",
       "      <td>/comprar/iphone/iphone-5s</td>\n",
       "      <td>NaN</td>\n",
       "      <td>NaN</td>\n",
       "      <td>NaN</td>\n",
       "      <td>NaN</td>\n",
       "      <td>NaN</td>\n",
       "      <td>NaN</td>\n",
       "      <td>...</td>\n",
       "      <td>NaN</td>\n",
       "      <td>NaN</td>\n",
       "      <td>NaN</td>\n",
       "      <td>NaN</td>\n",
       "      <td>NaN</td>\n",
       "      <td>NaN</td>\n",
       "      <td>NaN</td>\n",
       "      <td>NaN</td>\n",
       "      <td>NaN</td>\n",
       "      <td>NaN</td>\n",
       "    </tr>\n",
       "    <tr>\n",
       "      <th>1</th>\n",
       "      <td>2018-05-31 23:38:05</td>\n",
       "      <td>visited site</td>\n",
       "      <td>0004b0a2</td>\n",
       "      <td>NaN</td>\n",
       "      <td>NaN</td>\n",
       "      <td>NaN</td>\n",
       "      <td>NaN</td>\n",
       "      <td>NaN</td>\n",
       "      <td>NaN</td>\n",
       "      <td>NaN</td>\n",
       "      <td>...</td>\n",
       "      <td>NaN</td>\n",
       "      <td>Paid</td>\n",
       "      <td>New</td>\n",
       "      <td>Camaragibe</td>\n",
       "      <td>Pernambuco</td>\n",
       "      <td>Brazil</td>\n",
       "      <td>Smartphone</td>\n",
       "      <td>360x640</td>\n",
       "      <td>Android 6</td>\n",
       "      <td>Chrome Mobile 39</td>\n",
       "    </tr>\n",
       "    <tr>\n",
       "      <th>2</th>\n",
       "      <td>2018-05-31 23:38:09</td>\n",
       "      <td>viewed product</td>\n",
       "      <td>0004b0a2</td>\n",
       "      <td>NaN</td>\n",
       "      <td>2694</td>\n",
       "      <td>iPhone 5s</td>\n",
       "      <td>Bom</td>\n",
       "      <td>32GB</td>\n",
       "      <td>Cinza espacial</td>\n",
       "      <td>NaN</td>\n",
       "      <td>...</td>\n",
       "      <td>NaN</td>\n",
       "      <td>NaN</td>\n",
       "      <td>NaN</td>\n",
       "      <td>NaN</td>\n",
       "      <td>NaN</td>\n",
       "      <td>NaN</td>\n",
       "      <td>NaN</td>\n",
       "      <td>NaN</td>\n",
       "      <td>NaN</td>\n",
       "      <td>NaN</td>\n",
       "    </tr>\n",
       "    <tr>\n",
       "      <th>3</th>\n",
       "      <td>2018-05-31 23:38:40</td>\n",
       "      <td>checkout</td>\n",
       "      <td>0004b0a2</td>\n",
       "      <td>NaN</td>\n",
       "      <td>2694</td>\n",
       "      <td>iPhone 5s</td>\n",
       "      <td>Bom</td>\n",
       "      <td>32GB</td>\n",
       "      <td>Cinza espacial</td>\n",
       "      <td>NaN</td>\n",
       "      <td>...</td>\n",
       "      <td>NaN</td>\n",
       "      <td>NaN</td>\n",
       "      <td>NaN</td>\n",
       "      <td>NaN</td>\n",
       "      <td>NaN</td>\n",
       "      <td>NaN</td>\n",
       "      <td>NaN</td>\n",
       "      <td>NaN</td>\n",
       "      <td>NaN</td>\n",
       "      <td>NaN</td>\n",
       "    </tr>\n",
       "    <tr>\n",
       "      <th>4</th>\n",
       "      <td>2018-05-29 13:29:25</td>\n",
       "      <td>viewed product</td>\n",
       "      <td>0006a21a</td>\n",
       "      <td>NaN</td>\n",
       "      <td>15338</td>\n",
       "      <td>Samsung Galaxy S8</td>\n",
       "      <td>Bom</td>\n",
       "      <td>64GB</td>\n",
       "      <td>Dourado</td>\n",
       "      <td>NaN</td>\n",
       "      <td>...</td>\n",
       "      <td>NaN</td>\n",
       "      <td>NaN</td>\n",
       "      <td>NaN</td>\n",
       "      <td>NaN</td>\n",
       "      <td>NaN</td>\n",
       "      <td>NaN</td>\n",
       "      <td>NaN</td>\n",
       "      <td>NaN</td>\n",
       "      <td>NaN</td>\n",
       "      <td>NaN</td>\n",
       "    </tr>\n",
       "  </tbody>\n",
       "</table>\n",
       "<p>5 rows × 23 columns</p>\n",
       "</div>"
      ],
      "text/plain": [
       "             timestamp            event    person                        url  \\\n",
       "0  2018-05-31 23:38:05  ad campaign hit  0004b0a2  /comprar/iphone/iphone-5s   \n",
       "1  2018-05-31 23:38:05     visited site  0004b0a2                        NaN   \n",
       "2  2018-05-31 23:38:09   viewed product  0004b0a2                        NaN   \n",
       "3  2018-05-31 23:38:40         checkout  0004b0a2                        NaN   \n",
       "4  2018-05-29 13:29:25   viewed product  0006a21a                        NaN   \n",
       "\n",
       "     sku              model condition storage           color skus  \\\n",
       "0    NaN                NaN       NaN     NaN             NaN  NaN   \n",
       "1    NaN                NaN       NaN     NaN             NaN  NaN   \n",
       "2   2694          iPhone 5s       Bom    32GB  Cinza espacial  NaN   \n",
       "3   2694          iPhone 5s       Bom    32GB  Cinza espacial  NaN   \n",
       "4  15338  Samsung Galaxy S8       Bom    64GB         Dourado  NaN   \n",
       "\n",
       "         ...        search_engine channel new_vs_returning        city  \\\n",
       "0        ...                  NaN     NaN              NaN         NaN   \n",
       "1        ...                  NaN    Paid              New  Camaragibe   \n",
       "2        ...                  NaN     NaN              NaN         NaN   \n",
       "3        ...                  NaN     NaN              NaN         NaN   \n",
       "4        ...                  NaN     NaN              NaN         NaN   \n",
       "\n",
       "       region country device_type screen_resolution operating_system_version  \\\n",
       "0         NaN     NaN         NaN               NaN                      NaN   \n",
       "1  Pernambuco  Brazil  Smartphone           360x640                Android 6   \n",
       "2         NaN     NaN         NaN               NaN                      NaN   \n",
       "3         NaN     NaN         NaN               NaN                      NaN   \n",
       "4         NaN     NaN         NaN               NaN                      NaN   \n",
       "\n",
       "    browser_version  \n",
       "0               NaN  \n",
       "1  Chrome Mobile 39  \n",
       "2               NaN  \n",
       "3               NaN  \n",
       "4               NaN  \n",
       "\n",
       "[5 rows x 23 columns]"
      ]
     },
     "execution_count": 4,
     "metadata": {},
     "output_type": "execute_result"
    }
   ],
   "source": [
    "eventsData.head()"
   ]
  },
  {
   "cell_type": "code",
   "execution_count": 5,
   "metadata": {},
   "outputs": [
    {
     "data": {
      "text/plain": [
       "timestamp                   object\n",
       "event                       object\n",
       "person                      object\n",
       "url                         object\n",
       "sku                         object\n",
       "model                       object\n",
       "condition                   object\n",
       "storage                     object\n",
       "color                       object\n",
       "skus                        object\n",
       "search_term                 object\n",
       "staticpage                  object\n",
       "campaign_source             object\n",
       "search_engine               object\n",
       "channel                     object\n",
       "new_vs_returning            object\n",
       "city                        object\n",
       "region                      object\n",
       "country                     object\n",
       "device_type                 object\n",
       "screen_resolution           object\n",
       "operating_system_version    object\n",
       "browser_version             object\n",
       "dtype: object"
      ]
     },
     "execution_count": 5,
     "metadata": {},
     "output_type": "execute_result"
    }
   ],
   "source": [
    "eventsData.dtypes"
   ]
  },
  {
   "cell_type": "markdown",
   "metadata": {},
   "source": [
    "Analisis exploratorio"
   ]
  },
  {
   "cell_type": "markdown",
   "metadata": {},
   "source": [
    "Analisis de eventos"
   ]
  },
  {
   "cell_type": "code",
   "execution_count": 6,
   "metadata": {},
   "outputs": [],
   "source": [
    "topEvents = eventsData[\"event\"].value_counts()"
   ]
  },
  {
   "cell_type": "code",
   "execution_count": 7,
   "metadata": {},
   "outputs": [
    {
     "data": {
      "image/png": "[encoded data removed]",
      "text/plain": [
       "<matplotlib.figure.Figure at 0x118d72e10>"
      ]
     },
     "metadata": {},
     "output_type": "display_data"
    }
   ],
   "source": [
    "#Graficamos las 10 areas de trabajo que mas postulaciones reciben\n",
    "f = plt.figure()\n",
    "\n",
    "plt.title ('Top eventos',color='black')\n",
    "\n",
    "ax = topEvents.plot(kind='bar', figsize=(10,6) ,alpha=0.75, ax=f.gca(), color='red' )\n",
    "\n",
    "\n",
    "ax.set_xlabel('Tipo de evento')\n",
    "ax.set_ylabel(\"Cantidad de ocurrencia\")\n",
    "plt.show()\n",
    "#Exportamos el plot como .png para poder ponerlo en el informe\n",
    "#plt.savefig('Top10AreasConMasPostulaciones.png',bbox_inches='tight')\n",
    "\n"
   ]
  },
  {
   "cell_type": "code",
   "execution_count": 188,
   "metadata": {},
   "outputs": [
    {
     "data": {
      "image/png": "[encoded data removed]",
      "text/plain": [
       "<matplotlib.figure.Figure at 0x155aa1eb8>"
      ]
     },
     "metadata": {},
     "output_type": "display_data"
    }
   ],
   "source": [
    "#Graficamos las 10 areas de trabajo que mas postulaciones reciben\n",
    "f = plt.figure()\n",
    "\n",
    "plt.title ('Top eventos',color='black')\n",
    "\n",
    "ax = topEvents.plot(kind='bar', figsize=(10,6), logy = True ,alpha=0.75, ax=f.gca(), color='red' )\n",
    "\n",
    "\n",
    "ax.set_xlabel('Tipo de evento')\n",
    "ax.set_ylabel(\"Cantidad de ocurrencia\")\n",
    "#plt.show()\n",
    "#Exportamos el plot como .png para poder ponerlo en el informe\n",
    "plt.savefig('Topeventos',bbox_inches='tight')\n",
    "\n"
   ]
  },
  {
   "cell_type": "markdown",
   "metadata": {},
   "source": [
    "Analisis de conversiones por sku"
   ]
  },
  {
   "cell_type": "code",
   "execution_count": 9,
   "metadata": {},
   "outputs": [],
   "source": [
    "eventsSku = eventsData[[\"sku\",\"event\"]]"
   ]
  },
  {
   "cell_type": "code",
   "execution_count": 10,
   "metadata": {},
   "outputs": [
    {
     "data": {
      "text/plain": [
       "viewed product       528931\n",
       "brand listing         98635\n",
       "visited site          87378\n",
       "ad campaign hit       82827\n",
       "generic listing       67534\n",
       "searched products     56073\n",
       "search engine hit     50957\n",
       "checkout              33735\n",
       "staticpage             3598\n",
       "conversion             1172\n",
       "lead                    448\n",
       "Name: event, dtype: int64"
      ]
     },
     "execution_count": 10,
     "metadata": {},
     "output_type": "execute_result"
    }
   ],
   "source": [
    "eventsSku[\"event\"].value_counts()"
   ]
  },
  {
   "cell_type": "code",
   "execution_count": 11,
   "metadata": {},
   "outputs": [],
   "source": [
    "eventsSku = eventsSku[eventsSku[\"event\"] == \"conversion\"]"
   ]
  },
  {
   "cell_type": "code",
   "execution_count": 12,
   "metadata": {},
   "outputs": [
    {
     "data": {
      "text/plain": [
       "False    1172\n",
       "Name: sku, dtype: int64"
      ]
     },
     "execution_count": 12,
     "metadata": {},
     "output_type": "execute_result"
    }
   ],
   "source": [
    "eventsSku[\"sku\"].isnull().value_counts()"
   ]
  },
  {
   "cell_type": "code",
   "execution_count": 13,
   "metadata": {},
   "outputs": [
    {
     "data": {
      "text/plain": [
       "1172"
      ]
     },
     "execution_count": 13,
     "metadata": {},
     "output_type": "execute_result"
    }
   ],
   "source": [
    "eventsSku[\"sku\"].count()"
   ]
  },
  {
   "cell_type": "code",
   "execution_count": 14,
   "metadata": {},
   "outputs": [],
   "source": [
    "top5sku = eventsSku[\"sku\"].value_counts()"
   ]
  },
  {
   "cell_type": "code",
   "execution_count": 15,
   "metadata": {},
   "outputs": [
    {
     "data": {
      "text/plain": [
       "6371.0    29\n",
       "6370.0    18\n",
       "7631.0    17\n",
       "2692.0    16\n",
       "3371.0    14\n",
       "Name: sku, dtype: int64"
      ]
     },
     "execution_count": 15,
     "metadata": {},
     "output_type": "execute_result"
    }
   ],
   "source": [
    "top5sku[0:5]"
   ]
  },
  {
   "cell_type": "code",
   "execution_count": 189,
   "metadata": {},
   "outputs": [
    {
     "data": {
      "image/png": "[encoded data removed]",
      "text/plain": [
       "<matplotlib.figure.Figure at 0x1568cb828>"
      ]
     },
     "metadata": {},
     "output_type": "display_data"
    }
   ],
   "source": [
    "#Graficamos las 10 areas de trabajo que mas postulaciones reciben\n",
    "f = plt.figure()\n",
    "\n",
    "plt.title ('Top 5 Skus',color='black')\n",
    "\n",
    "ax = top5sku[0:5].plot(kind='bar', figsize=(10,6) ,alpha=0.75, ax=f.gca(), color='green' )\n",
    "\n",
    "\n",
    "ax.set_xlabel('Sku')\n",
    "ax.set_ylabel(\"Cantidad de conversiones\")\n",
    "#plt.show()\n",
    "#Exportamos el plot como .png para poder ponerlo en el informe\n",
    "plt.savefig('Top5skuns.png',bbox_inches='tight')\n",
    "\n"
   ]
  },
  {
   "cell_type": "markdown",
   "metadata": {},
   "source": [
    "Analisis de actividad de usuarios"
   ]
  },
  {
   "cell_type": "code",
   "execution_count": 103,
   "metadata": {},
   "outputs": [],
   "source": [
    "usersData = eventsData[[\"person\",\"event\"]]"
   ]
  },
  {
   "cell_type": "code",
   "execution_count": 106,
   "metadata": {},
   "outputs": [
    {
     "data": {
      "text/html": [
       "<div>\n",
       "<table border=\"1\" class=\"dataframe\">\n",
       "  <thead>\n",
       "    <tr style=\"text-align: right;\">\n",
       "      <th></th>\n",
       "      <th>person</th>\n",
       "      <th>event</th>\n",
       "    </tr>\n",
       "  </thead>\n",
       "  <tbody>\n",
       "    <tr>\n",
       "      <th>0</th>\n",
       "      <td>0004b0a2</td>\n",
       "      <td>ad campaign hit</td>\n",
       "    </tr>\n",
       "    <tr>\n",
       "      <th>1</th>\n",
       "      <td>0004b0a2</td>\n",
       "      <td>visited site</td>\n",
       "    </tr>\n",
       "    <tr>\n",
       "      <th>2</th>\n",
       "      <td>0004b0a2</td>\n",
       "      <td>viewed product</td>\n",
       "    </tr>\n",
       "    <tr>\n",
       "      <th>3</th>\n",
       "      <td>0004b0a2</td>\n",
       "      <td>checkout</td>\n",
       "    </tr>\n",
       "    <tr>\n",
       "      <th>4</th>\n",
       "      <td>0006a21a</td>\n",
       "      <td>viewed product</td>\n",
       "    </tr>\n",
       "  </tbody>\n",
       "</table>\n",
       "</div>"
      ],
      "text/plain": [
       "     person            event\n",
       "0  0004b0a2  ad campaign hit\n",
       "1  0004b0a2     visited site\n",
       "2  0004b0a2   viewed product\n",
       "3  0004b0a2         checkout\n",
       "4  0006a21a   viewed product"
      ]
     },
     "execution_count": 106,
     "metadata": {},
     "output_type": "execute_result"
    }
   ],
   "source": [
    "usersData.head()"
   ]
  },
  {
   "cell_type": "code",
   "execution_count": 46,
   "metadata": {},
   "outputs": [],
   "source": [
    "top7users = usersData[\"person\"].value_counts()"
   ]
  },
  {
   "cell_type": "code",
   "execution_count": 47,
   "metadata": {},
   "outputs": [],
   "source": [
    "top7users = top7users[0:7]"
   ]
  },
  {
   "cell_type": "code",
   "execution_count": 48,
   "metadata": {},
   "outputs": [
    {
     "data": {
      "text/plain": [
       "71492f2b    2771\n",
       "6b07be7b    2770\n",
       "285101a1    2140\n",
       "3e34b3cf    1877\n",
       "2d5a84c1    1800\n",
       "5f25cb5d    1797\n",
       "5af7e2bc    1773\n",
       "Name: person, dtype: int64"
      ]
     },
     "execution_count": 48,
     "metadata": {},
     "output_type": "execute_result"
    }
   ],
   "source": [
    "top7users"
   ]
  },
  {
   "cell_type": "code",
   "execution_count": 49,
   "metadata": {},
   "outputs": [
    {
     "data": {
      "text/plain": [
       "Index(['71492f2b', '6b07be7b', '285101a1', '3e34b3cf', '2d5a84c1', '5f25cb5d',\n",
       "       '5af7e2bc'],\n",
       "      dtype='object')"
      ]
     },
     "execution_count": 49,
     "metadata": {},
     "output_type": "execute_result"
    }
   ],
   "source": [
    "top7users.keys()"
   ]
  },
  {
   "cell_type": "code",
   "execution_count": 112,
   "metadata": {},
   "outputs": [
    {
     "data": {
      "text/html": [
       "<div>\n",
       "<table border=\"1\" class=\"dataframe\">\n",
       "  <thead>\n",
       "    <tr style=\"text-align: right;\">\n",
       "      <th></th>\n",
       "      <th>person</th>\n",
       "      <th>event</th>\n",
       "    </tr>\n",
       "  </thead>\n",
       "  <tbody>\n",
       "    <tr>\n",
       "      <th>0</th>\n",
       "      <td>0004b0a2</td>\n",
       "      <td>ad campaign hit</td>\n",
       "    </tr>\n",
       "    <tr>\n",
       "      <th>1</th>\n",
       "      <td>0004b0a2</td>\n",
       "      <td>visited site</td>\n",
       "    </tr>\n",
       "    <tr>\n",
       "      <th>2</th>\n",
       "      <td>0004b0a2</td>\n",
       "      <td>viewed product</td>\n",
       "    </tr>\n",
       "    <tr>\n",
       "      <th>3</th>\n",
       "      <td>0004b0a2</td>\n",
       "      <td>checkout</td>\n",
       "    </tr>\n",
       "    <tr>\n",
       "      <th>4</th>\n",
       "      <td>0006a21a</td>\n",
       "      <td>viewed product</td>\n",
       "    </tr>\n",
       "  </tbody>\n",
       "</table>\n",
       "</div>"
      ],
      "text/plain": [
       "     person            event\n",
       "0  0004b0a2  ad campaign hit\n",
       "1  0004b0a2     visited site\n",
       "2  0004b0a2   viewed product\n",
       "3  0004b0a2         checkout\n",
       "4  0006a21a   viewed product"
      ]
     },
     "execution_count": 112,
     "metadata": {},
     "output_type": "execute_result"
    }
   ],
   "source": [
    "\n",
    "usersData.head()"
   ]
  },
  {
   "cell_type": "code",
   "execution_count": 124,
   "metadata": {},
   "outputs": [],
   "source": [
    "personData = usersData[usersData[\"person\"].isin(top7users.keys())]\n"
   ]
  },
  {
   "cell_type": "code",
   "execution_count": 125,
   "metadata": {},
   "outputs": [
    {
     "data": {
      "text/plain": [
       "Index(['71492f2b', '6b07be7b', '285101a1', '3e34b3cf', '2d5a84c1', '5f25cb5d',\n",
       "       '5af7e2bc'],\n",
       "      dtype='object')"
      ]
     },
     "execution_count": 125,
     "metadata": {},
     "output_type": "execute_result"
    }
   ],
   "source": [
    "top7users.keys()"
   ]
  },
  {
   "cell_type": "code",
   "execution_count": 126,
   "metadata": {},
   "outputs": [
    {
     "data": {
      "text/plain": [
       "Index(['71492f2b', '6b07be7b', '285101a1', '3e34b3cf', '2d5a84c1', '5f25cb5d',\n",
       "       '5af7e2bc'],\n",
       "      dtype='object')"
      ]
     },
     "execution_count": 126,
     "metadata": {},
     "output_type": "execute_result"
    }
   ],
   "source": [
    "personData[\"person\"].value_counts().keys()"
   ]
  },
  {
   "cell_type": "code",
   "execution_count": 136,
   "metadata": {},
   "outputs": [],
   "source": [
    "dataplot = personData.drop(\"tasa\",axis=1)"
   ]
  },
  {
   "cell_type": "code",
   "execution_count": 160,
   "metadata": {},
   "outputs": [
    {
     "data": {
      "text/plain": [
       "viewed product       0.534566\n",
       "brand listing        0.257302\n",
       "generic listing      0.078376\n",
       "visited site         0.068060\n",
       "ad campaign hit      0.035638\n",
       "searched products    0.014135\n",
       "search engine hit    0.004220\n",
       "staticpage           0.003885\n",
       "checkout             0.002880\n",
       "conversion           0.000737\n",
       "lead                 0.000201\n",
       "Name: event, dtype: float64"
      ]
     },
     "execution_count": 160,
     "metadata": {},
     "output_type": "execute_result"
    }
   ],
   "source": [
    "dataplot[\"event\"].value_counts(normalize = True)"
   ]
  },
  {
   "cell_type": "code",
   "execution_count": 161,
   "metadata": {},
   "outputs": [],
   "source": [
    "dataplot[\"event\"] = dataplot[\"event\"].map({\"viewed product\": \"viewed product\", \"brand listing\": \"brand listing\", \"generic listing\":\"generic listing\", \"visited site\":\"visited site\", \"ad campaign hit\":\"ad campaign hit\", \"searched products\" : \"others\", \"search engine hit\":\"others\",\"staticpage\":\"others\", \"checkout\": \"others\",\"conversion\":\"others\",\"lead\":\"others\"})"
   ]
  },
  {
   "cell_type": "code",
   "execution_count": 162,
   "metadata": {},
   "outputs": [
    {
     "data": {
      "text/plain": [
       "viewed product     7980\n",
       "brand listing      3841\n",
       "generic listing    1170\n",
       "visited site       1016\n",
       "ad campaign hit     532\n",
       "others              389\n",
       "Name: event, dtype: int64"
      ]
     },
     "execution_count": 162,
     "metadata": {},
     "output_type": "execute_result"
    }
   ],
   "source": [
    "dataplot[\"event\"].value_counts()"
   ]
  },
  {
   "cell_type": "code",
   "execution_count": 184,
   "metadata": {},
   "outputs": [
    {
     "data": {
      "text/plain": [
       "<matplotlib.figure.Figure at 0x1552d7128>"
      ]
     },
     "metadata": {},
     "output_type": "display_data"
    },
    {
     "data": {
      "image/png": "[encoded data removed]",
      "text/plain": [
       "<matplotlib.figure.Figure at 0x1552bf5c0>"
      ]
     },
     "metadata": {},
     "output_type": "display_data"
    }
   ],
   "source": [
    "\n",
    "f = plt.figure()\n",
    "df2 = dataplot.groupby(['person', 'event'],sort = True)['person'].count().unstack('event').fillna(0)\n",
    "ax =df2.plot(kind='bar', stacked=True, figsize=(15,10))\n",
    "plt.title('top 7 usuarios con mas eventos')\n",
    "ax.set_xlabel('Person id')\n",
    "#ax.set_facecolor('xkcd:white')\n",
    "ax.set_ylabel(\"Cantidad de eventos\")\n",
    "plt.show()\n",
    "#plt.savefig('usuarios_top.png',bbox_inches='tight')"
   ]
  },
  {
   "cell_type": "markdown",
   "metadata": {},
   "source": [
    "Analisis de modelos "
   ]
  },
  {
   "cell_type": "code",
   "execution_count": 5,
   "metadata": {},
   "outputs": [],
   "source": [
    "modelos = eventsData[\"model\"].value_counts()"
   ]
  },
  {
   "cell_type": "code",
   "execution_count": 6,
   "metadata": {},
   "outputs": [],
   "source": [
    "modelosvendidos = eventsData[eventsData[\"event\"] == \"conversion\"][\"model\"].value_counts()"
   ]
  },
  {
   "cell_type": "code",
   "execution_count": 6,
   "metadata": {},
   "outputs": [],
   "source": [
    "eventsData[\"timestamp\"] = datetime(eventsData[\"timestamp\"],\"%Y-%m-%dT%H:%M:%S\") "
   ]
  },
  {
   "cell_type": "code",
   "execution_count": 8,
   "metadata": {},
   "outputs": [
    {
     "data": {
      "text/plain": [
       "0   2018-05-31 23:38:05\n",
       "1   2018-05-31 23:38:05\n",
       "2   2018-05-31 23:38:09\n",
       "3   2018-05-31 23:38:40\n",
       "4   2018-05-29 13:29:25\n",
       "Name: timestamp, dtype: datetime64[ns]"
      ]
     },
     "execution_count": 8,
     "metadata": {},
     "output_type": "execute_result"
    }
   ],
   "source": [
    "eventsData[\"timestamp\"].head()"
   ]
  },
  {
   "cell_type": "code",
   "execution_count": 7,
   "metadata": {},
   "outputs": [],
   "source": [
    "years = eventsData[\"timestamp\"].map(lambda x: x.year)"
   ]
  },
  {
   "cell_type": "code",
   "execution_count": 10,
   "metadata": {},
   "outputs": [
    {
     "data": {
      "text/plain": [
       "2018    1011288\n",
       "Name: timestamp, dtype: int64"
      ]
     },
     "execution_count": 10,
     "metadata": {},
     "output_type": "execute_result"
    }
   ],
   "source": [
    "years.value_counts()"
   ]
  },
  {
   "cell_type": "code",
   "execution_count": 11,
   "metadata": {},
   "outputs": [],
   "source": [
    "month = eventsData[\"timestamp\"].map(lambda x: x.month)"
   ]
  },
  {
   "cell_type": "code",
   "execution_count": 12,
   "metadata": {},
   "outputs": [
    {
     "data": {
      "text/plain": [
       "5    474949\n",
       "6    281882\n",
       "4    130008\n",
       "3     77293\n",
       "2     27886\n",
       "1     19270\n",
       "Name: timestamp, dtype: int64"
      ]
     },
     "execution_count": 12,
     "metadata": {},
     "output_type": "execute_result"
    }
   ],
   "source": [
    "month.value_counts()\n"
   ]
  },
  {
   "cell_type": "code",
   "execution_count": 19,
   "metadata": {},
   "outputs": [],
   "source": [
    "monthmodelssell = eventsData[[\"timestamp\",\"model\",\"event\"]]"
   ]
  },
  {
   "cell_type": "code",
   "execution_count": 20,
   "metadata": {},
   "outputs": [
    {
     "data": {
      "text/html": [
       "<div>\n",
       "<table border=\"1\" class=\"dataframe\">\n",
       "  <thead>\n",
       "    <tr style=\"text-align: right;\">\n",
       "      <th></th>\n",
       "      <th>timestamp</th>\n",
       "      <th>model</th>\n",
       "      <th>event</th>\n",
       "    </tr>\n",
       "  </thead>\n",
       "  <tbody>\n",
       "    <tr>\n",
       "      <th>0</th>\n",
       "      <td>2018-05-31 23:38:05</td>\n",
       "      <td>NaN</td>\n",
       "      <td>ad campaign hit</td>\n",
       "    </tr>\n",
       "    <tr>\n",
       "      <th>1</th>\n",
       "      <td>2018-05-31 23:38:05</td>\n",
       "      <td>NaN</td>\n",
       "      <td>visited site</td>\n",
       "    </tr>\n",
       "    <tr>\n",
       "      <th>2</th>\n",
       "      <td>2018-05-31 23:38:09</td>\n",
       "      <td>iPhone 5s</td>\n",
       "      <td>viewed product</td>\n",
       "    </tr>\n",
       "    <tr>\n",
       "      <th>3</th>\n",
       "      <td>2018-05-31 23:38:40</td>\n",
       "      <td>iPhone 5s</td>\n",
       "      <td>checkout</td>\n",
       "    </tr>\n",
       "    <tr>\n",
       "      <th>4</th>\n",
       "      <td>2018-05-29 13:29:25</td>\n",
       "      <td>Samsung Galaxy S8</td>\n",
       "      <td>viewed product</td>\n",
       "    </tr>\n",
       "  </tbody>\n",
       "</table>\n",
       "</div>"
      ],
      "text/plain": [
       "            timestamp              model            event\n",
       "0 2018-05-31 23:38:05                NaN  ad campaign hit\n",
       "1 2018-05-31 23:38:05                NaN     visited site\n",
       "2 2018-05-31 23:38:09          iPhone 5s   viewed product\n",
       "3 2018-05-31 23:38:40          iPhone 5s         checkout\n",
       "4 2018-05-29 13:29:25  Samsung Galaxy S8   viewed product"
      ]
     },
     "execution_count": 20,
     "metadata": {},
     "output_type": "execute_result"
    }
   ],
   "source": [
    "monthmodelssell.head()"
   ]
  },
  {
   "cell_type": "code",
   "execution_count": 21,
   "metadata": {},
   "outputs": [
    {
     "data": {
      "text/plain": [
       "False    564284\n",
       "True     447004\n",
       "Name: model, dtype: int64"
      ]
     },
     "execution_count": 21,
     "metadata": {},
     "output_type": "execute_result"
    }
   ],
   "source": [
    "monthmodelssell[\"model\"].isnull().value_counts()"
   ]
  },
  {
   "cell_type": "code",
   "execution_count": 22,
   "metadata": {},
   "outputs": [
    {
     "name": "stderr",
     "output_type": "stream",
     "text": [
      "/anaconda/lib/python3.6/site-packages/ipykernel/__main__.py:1: SettingWithCopyWarning: \n",
      "A value is trying to be set on a copy of a slice from a DataFrame.\n",
      "Try using .loc[row_indexer,col_indexer] = value instead\n",
      "\n",
      "See the caveats in the documentation: http://pandas.pydata.org/pandas-docs/stable/indexing.html#indexing-view-versus-copy\n",
      "  if __name__ == '__main__':\n"
     ]
    }
   ],
   "source": [
    "monthmodelssell[\"month\"] = monthmodelssell[\"timestamp\"].map(lambda x: x.month)"
   ]
  },
  {
   "cell_type": "code",
   "execution_count": 16,
   "metadata": {},
   "outputs": [
    {
     "data": {
      "text/plain": [
       "5    474949\n",
       "6    281882\n",
       "4    130008\n",
       "3     77293\n",
       "2     27886\n",
       "1     19270\n",
       "Name: month, dtype: int64"
      ]
     },
     "execution_count": 16,
     "metadata": {},
     "output_type": "execute_result"
    }
   ],
   "source": [
    "monthmodelssell[\"month\"].value_counts()"
   ]
  },
  {
   "cell_type": "code",
   "execution_count": 23,
   "metadata": {},
   "outputs": [],
   "source": [
    "monthconversionformodel = monthmodelssell[monthmodelssell[\"event\"] == \"conversion\"]"
   ]
  },
  {
   "cell_type": "code",
   "execution_count": 24,
   "metadata": {},
   "outputs": [
    {
     "data": {
      "text/html": [
       "<div>\n",
       "<table border=\"1\" class=\"dataframe\">\n",
       "  <thead>\n",
       "    <tr style=\"text-align: right;\">\n",
       "      <th></th>\n",
       "      <th>timestamp</th>\n",
       "      <th>model</th>\n",
       "      <th>event</th>\n",
       "      <th>month</th>\n",
       "    </tr>\n",
       "  </thead>\n",
       "  <tbody>\n",
       "    <tr>\n",
       "      <th>220</th>\n",
       "      <td>2018-03-20 17:46:12</td>\n",
       "      <td>Motorola Moto X2</td>\n",
       "      <td>conversion</td>\n",
       "      <td>3</td>\n",
       "    </tr>\n",
       "    <tr>\n",
       "      <th>2282</th>\n",
       "      <td>2018-04-26 22:28:53</td>\n",
       "      <td>Samsung Galaxy Core Plus Duos TV</td>\n",
       "      <td>conversion</td>\n",
       "      <td>4</td>\n",
       "    </tr>\n",
       "    <tr>\n",
       "      <th>2547</th>\n",
       "      <td>2018-06-10 14:37:50</td>\n",
       "      <td>Samsung Galaxy S6 Flat</td>\n",
       "      <td>conversion</td>\n",
       "      <td>6</td>\n",
       "    </tr>\n",
       "    <tr>\n",
       "      <th>4245</th>\n",
       "      <td>2018-03-16 13:50:25</td>\n",
       "      <td>iPhone 5s</td>\n",
       "      <td>conversion</td>\n",
       "      <td>3</td>\n",
       "    </tr>\n",
       "    <tr>\n",
       "      <th>6985</th>\n",
       "      <td>2018-02-09 22:07:07</td>\n",
       "      <td>Samsung Galaxy J5</td>\n",
       "      <td>conversion</td>\n",
       "      <td>2</td>\n",
       "    </tr>\n",
       "  </tbody>\n",
       "</table>\n",
       "</div>"
      ],
      "text/plain": [
       "               timestamp                             model       event  month\n",
       "220  2018-03-20 17:46:12                  Motorola Moto X2  conversion      3\n",
       "2282 2018-04-26 22:28:53  Samsung Galaxy Core Plus Duos TV  conversion      4\n",
       "2547 2018-06-10 14:37:50            Samsung Galaxy S6 Flat  conversion      6\n",
       "4245 2018-03-16 13:50:25                         iPhone 5s  conversion      3\n",
       "6985 2018-02-09 22:07:07                 Samsung Galaxy J5  conversion      2"
      ]
     },
     "execution_count": 24,
     "metadata": {},
     "output_type": "execute_result"
    }
   ],
   "source": [
    "monthconversionformodel.head()"
   ]
  },
  {
   "cell_type": "code",
   "execution_count": 44,
   "metadata": {},
   "outputs": [
    {
     "data": {
      "image/png": "[encoded data removed]",
      "text/plain": [
       "<matplotlib.figure.Figure at 0x11fc5c470>"
      ]
     },
     "metadata": {},
     "output_type": "display_data"
    }
   ],
   "source": [
    "#Graficamos las 10 areas de trabajo que mas postulaciones reciben\n",
    "f = plt.figure()\n",
    "\n",
    "plt.title ('Cantidad de modelos vendidos por mes',color='black')\n",
    "\n",
    "ax = monthconversionformodel[\"month\"].value_counts().plot(kind='bar', figsize=(10,6) ,alpha=0.75, ax=f.gca(), color='green' )\n",
    "\n",
    "\n",
    "ax.set_xlabel('Mes')\n",
    "ax.set_ylabel(\"Cantidad de conversiones\")\n",
    "plt.show()\n",
    "#Exportamos el plot como .png para poder ponerlo en el informe\n",
    "#plt.savefig('Top5skuns.png',bbox_inches='tight')\n",
    "\n"
   ]
  },
  {
   "cell_type": "code",
   "execution_count": 25,
   "metadata": {},
   "outputs": [],
   "source": [
    "daysell = monthmodelssell[monthmodelssell[\"event\"] == \"conversion\"]"
   ]
  },
  {
   "cell_type": "code",
   "execution_count": 26,
   "metadata": {},
   "outputs": [
    {
     "data": {
      "text/html": [
       "<div>\n",
       "<table border=\"1\" class=\"dataframe\">\n",
       "  <thead>\n",
       "    <tr style=\"text-align: right;\">\n",
       "      <th></th>\n",
       "      <th>timestamp</th>\n",
       "      <th>model</th>\n",
       "      <th>event</th>\n",
       "      <th>month</th>\n",
       "    </tr>\n",
       "  </thead>\n",
       "  <tbody>\n",
       "    <tr>\n",
       "      <th>220</th>\n",
       "      <td>2018-03-20 17:46:12</td>\n",
       "      <td>Motorola Moto X2</td>\n",
       "      <td>conversion</td>\n",
       "      <td>3</td>\n",
       "    </tr>\n",
       "    <tr>\n",
       "      <th>2282</th>\n",
       "      <td>2018-04-26 22:28:53</td>\n",
       "      <td>Samsung Galaxy Core Plus Duos TV</td>\n",
       "      <td>conversion</td>\n",
       "      <td>4</td>\n",
       "    </tr>\n",
       "    <tr>\n",
       "      <th>2547</th>\n",
       "      <td>2018-06-10 14:37:50</td>\n",
       "      <td>Samsung Galaxy S6 Flat</td>\n",
       "      <td>conversion</td>\n",
       "      <td>6</td>\n",
       "    </tr>\n",
       "    <tr>\n",
       "      <th>4245</th>\n",
       "      <td>2018-03-16 13:50:25</td>\n",
       "      <td>iPhone 5s</td>\n",
       "      <td>conversion</td>\n",
       "      <td>3</td>\n",
       "    </tr>\n",
       "    <tr>\n",
       "      <th>6985</th>\n",
       "      <td>2018-02-09 22:07:07</td>\n",
       "      <td>Samsung Galaxy J5</td>\n",
       "      <td>conversion</td>\n",
       "      <td>2</td>\n",
       "    </tr>\n",
       "  </tbody>\n",
       "</table>\n",
       "</div>"
      ],
      "text/plain": [
       "               timestamp                             model       event  month\n",
       "220  2018-03-20 17:46:12                  Motorola Moto X2  conversion      3\n",
       "2282 2018-04-26 22:28:53  Samsung Galaxy Core Plus Duos TV  conversion      4\n",
       "2547 2018-06-10 14:37:50            Samsung Galaxy S6 Flat  conversion      6\n",
       "4245 2018-03-16 13:50:25                         iPhone 5s  conversion      3\n",
       "6985 2018-02-09 22:07:07                 Samsung Galaxy J5  conversion      2"
      ]
     },
     "execution_count": 26,
     "metadata": {},
     "output_type": "execute_result"
    }
   ],
   "source": [
    "daysell.head()"
   ]
  },
  {
   "cell_type": "code",
   "execution_count": 27,
   "metadata": {},
   "outputs": [
    {
     "name": "stderr",
     "output_type": "stream",
     "text": [
      "/anaconda/lib/python3.6/site-packages/ipykernel/__main__.py:1: SettingWithCopyWarning: \n",
      "A value is trying to be set on a copy of a slice from a DataFrame.\n",
      "Try using .loc[row_indexer,col_indexer] = value instead\n",
      "\n",
      "See the caveats in the documentation: http://pandas.pydata.org/pandas-docs/stable/indexing.html#indexing-view-versus-copy\n",
      "  if __name__ == '__main__':\n"
     ]
    }
   ],
   "source": [
    "daysell[\"day\"] = daysell[\"timestamp\"].map(lambda x: x.day)"
   ]
  },
  {
   "cell_type": "code",
   "execution_count": 28,
   "metadata": {},
   "outputs": [
    {
     "data": {
      "text/html": [
       "<div>\n",
       "<table border=\"1\" class=\"dataframe\">\n",
       "  <thead>\n",
       "    <tr style=\"text-align: right;\">\n",
       "      <th></th>\n",
       "      <th>timestamp</th>\n",
       "      <th>model</th>\n",
       "      <th>event</th>\n",
       "      <th>month</th>\n",
       "      <th>day</th>\n",
       "    </tr>\n",
       "  </thead>\n",
       "  <tbody>\n",
       "    <tr>\n",
       "      <th>220</th>\n",
       "      <td>2018-03-20 17:46:12</td>\n",
       "      <td>Motorola Moto X2</td>\n",
       "      <td>conversion</td>\n",
       "      <td>3</td>\n",
       "      <td>20</td>\n",
       "    </tr>\n",
       "    <tr>\n",
       "      <th>2282</th>\n",
       "      <td>2018-04-26 22:28:53</td>\n",
       "      <td>Samsung Galaxy Core Plus Duos TV</td>\n",
       "      <td>conversion</td>\n",
       "      <td>4</td>\n",
       "      <td>26</td>\n",
       "    </tr>\n",
       "    <tr>\n",
       "      <th>2547</th>\n",
       "      <td>2018-06-10 14:37:50</td>\n",
       "      <td>Samsung Galaxy S6 Flat</td>\n",
       "      <td>conversion</td>\n",
       "      <td>6</td>\n",
       "      <td>10</td>\n",
       "    </tr>\n",
       "    <tr>\n",
       "      <th>4245</th>\n",
       "      <td>2018-03-16 13:50:25</td>\n",
       "      <td>iPhone 5s</td>\n",
       "      <td>conversion</td>\n",
       "      <td>3</td>\n",
       "      <td>16</td>\n",
       "    </tr>\n",
       "    <tr>\n",
       "      <th>6985</th>\n",
       "      <td>2018-02-09 22:07:07</td>\n",
       "      <td>Samsung Galaxy J5</td>\n",
       "      <td>conversion</td>\n",
       "      <td>2</td>\n",
       "      <td>9</td>\n",
       "    </tr>\n",
       "  </tbody>\n",
       "</table>\n",
       "</div>"
      ],
      "text/plain": [
       "               timestamp                             model       event  month  \\\n",
       "220  2018-03-20 17:46:12                  Motorola Moto X2  conversion      3   \n",
       "2282 2018-04-26 22:28:53  Samsung Galaxy Core Plus Duos TV  conversion      4   \n",
       "2547 2018-06-10 14:37:50            Samsung Galaxy S6 Flat  conversion      6   \n",
       "4245 2018-03-16 13:50:25                         iPhone 5s  conversion      3   \n",
       "6985 2018-02-09 22:07:07                 Samsung Galaxy J5  conversion      2   \n",
       "\n",
       "      day  \n",
       "220    20  \n",
       "2282   26  \n",
       "2547   10  \n",
       "4245   16  \n",
       "6985    9  "
      ]
     },
     "execution_count": 28,
     "metadata": {},
     "output_type": "execute_result"
    }
   ],
   "source": [
    "daysell.head()"
   ]
  },
  {
   "cell_type": "code",
   "execution_count": 33,
   "metadata": {},
   "outputs": [
    {
     "name": "stderr",
     "output_type": "stream",
     "text": [
      "/anaconda/lib/python3.6/site-packages/ipykernel/__main__.py:1: SettingWithCopyWarning: \n",
      "A value is trying to be set on a copy of a slice from a DataFrame.\n",
      "Try using .loc[row_indexer,col_indexer] = value instead\n",
      "\n",
      "See the caveats in the documentation: http://pandas.pydata.org/pandas-docs/stable/indexing.html#indexing-view-versus-copy\n",
      "  if __name__ == '__main__':\n"
     ]
    }
   ],
   "source": [
    "daysell[\"weekday\"] = daysell.apply(lambda x: dt.datetime.strftime(x['timestamp'], '%A'), axis=1)"
   ]
  },
  {
   "cell_type": "code",
   "execution_count": 34,
   "metadata": {},
   "outputs": [
    {
     "data": {
      "text/html": [
       "<div>\n",
       "<table border=\"1\" class=\"dataframe\">\n",
       "  <thead>\n",
       "    <tr style=\"text-align: right;\">\n",
       "      <th></th>\n",
       "      <th>timestamp</th>\n",
       "      <th>model</th>\n",
       "      <th>event</th>\n",
       "      <th>month</th>\n",
       "      <th>day</th>\n",
       "      <th>weekday</th>\n",
       "    </tr>\n",
       "  </thead>\n",
       "  <tbody>\n",
       "    <tr>\n",
       "      <th>220</th>\n",
       "      <td>2018-03-20 17:46:12</td>\n",
       "      <td>Motorola Moto X2</td>\n",
       "      <td>conversion</td>\n",
       "      <td>3</td>\n",
       "      <td>20</td>\n",
       "      <td>Tuesday</td>\n",
       "    </tr>\n",
       "    <tr>\n",
       "      <th>2282</th>\n",
       "      <td>2018-04-26 22:28:53</td>\n",
       "      <td>Samsung Galaxy Core Plus Duos TV</td>\n",
       "      <td>conversion</td>\n",
       "      <td>4</td>\n",
       "      <td>26</td>\n",
       "      <td>Thursday</td>\n",
       "    </tr>\n",
       "    <tr>\n",
       "      <th>2547</th>\n",
       "      <td>2018-06-10 14:37:50</td>\n",
       "      <td>Samsung Galaxy S6 Flat</td>\n",
       "      <td>conversion</td>\n",
       "      <td>6</td>\n",
       "      <td>10</td>\n",
       "      <td>Sunday</td>\n",
       "    </tr>\n",
       "    <tr>\n",
       "      <th>4245</th>\n",
       "      <td>2018-03-16 13:50:25</td>\n",
       "      <td>iPhone 5s</td>\n",
       "      <td>conversion</td>\n",
       "      <td>3</td>\n",
       "      <td>16</td>\n",
       "      <td>Friday</td>\n",
       "    </tr>\n",
       "    <tr>\n",
       "      <th>6985</th>\n",
       "      <td>2018-02-09 22:07:07</td>\n",
       "      <td>Samsung Galaxy J5</td>\n",
       "      <td>conversion</td>\n",
       "      <td>2</td>\n",
       "      <td>9</td>\n",
       "      <td>Friday</td>\n",
       "    </tr>\n",
       "  </tbody>\n",
       "</table>\n",
       "</div>"
      ],
      "text/plain": [
       "               timestamp                             model       event  month  \\\n",
       "220  2018-03-20 17:46:12                  Motorola Moto X2  conversion      3   \n",
       "2282 2018-04-26 22:28:53  Samsung Galaxy Core Plus Duos TV  conversion      4   \n",
       "2547 2018-06-10 14:37:50            Samsung Galaxy S6 Flat  conversion      6   \n",
       "4245 2018-03-16 13:50:25                         iPhone 5s  conversion      3   \n",
       "6985 2018-02-09 22:07:07                 Samsung Galaxy J5  conversion      2   \n",
       "\n",
       "      day   weekday  \n",
       "220    20   Tuesday  \n",
       "2282   26  Thursday  \n",
       "2547   10    Sunday  \n",
       "4245   16    Friday  \n",
       "6985    9    Friday  "
      ]
     },
     "execution_count": 34,
     "metadata": {},
     "output_type": "execute_result"
    }
   ],
   "source": [
    "daysell.head()"
   ]
  },
  {
   "cell_type": "code",
   "execution_count": 39,
   "metadata": {},
   "outputs": [
    {
     "data": {
      "text/plain": [
       "Tuesday      215\n",
       "Thursday     200\n",
       "Wednesday    189\n",
       "Monday       184\n",
       "Friday       175\n",
       "Saturday     106\n",
       "Sunday       103\n",
       "Name: weekday, dtype: int64"
      ]
     },
     "execution_count": 39,
     "metadata": {},
     "output_type": "execute_result"
    }
   ],
   "source": [
    "daysell[\"weekday\"].value_counts()"
   ]
  },
  {
   "cell_type": "code",
   "execution_count": 36,
   "metadata": {},
   "outputs": [
    {
     "data": {
      "image/png": "[encoded data removed]",
      "text/plain": [
       "<matplotlib.figure.Figure at 0x1201e0400>"
      ]
     },
     "metadata": {},
     "output_type": "display_data"
    }
   ],
   "source": [
    "#Graficamos las 10 areas de trabajo que mas postulaciones reciben\n",
    "f = plt.figure()\n",
    "\n",
    "plt.title ('Cantidad de modelos vendidos por dia',color='black')\n",
    "\n",
    "ax = daysell[\"weekday\"].value_counts().plot(kind='bar', figsize=(10,6) ,alpha=0.75, ax=f.gca(), color='green' )\n",
    "\n",
    "\n",
    "ax.set_xlabel('Dia')\n",
    "ax.set_ylabel(\"Cantidad de conversiones\")\n",
    "plt.show()\n",
    "#Exportamos el plot como .png para poder ponerlo en el informe\n",
    "#plt.savefig('Top5skuns.png',bbox_inches='tight')\n",
    "\n"
   ]
  },
  {
   "cell_type": "code",
   "execution_count": 47,
   "metadata": {},
   "outputs": [],
   "source": [
    "dayevents = monthmodelssell"
   ]
  },
  {
   "cell_type": "code",
   "execution_count": 48,
   "metadata": {},
   "outputs": [
    {
     "name": "stderr",
     "output_type": "stream",
     "text": [
      "/anaconda/lib/python3.6/site-packages/ipykernel/__main__.py:1: SettingWithCopyWarning: \n",
      "A value is trying to be set on a copy of a slice from a DataFrame.\n",
      "Try using .loc[row_indexer,col_indexer] = value instead\n",
      "\n",
      "See the caveats in the documentation: http://pandas.pydata.org/pandas-docs/stable/indexing.html#indexing-view-versus-copy\n",
      "  if __name__ == '__main__':\n"
     ]
    }
   ],
   "source": [
    "dayevents[\"weekday\"] = dayevents.apply(lambda x: dt.datetime.strftime(x['timestamp'], '%A'), axis=1)"
   ]
  },
  {
   "cell_type": "code",
   "execution_count": 49,
   "metadata": {},
   "outputs": [
    {
     "data": {
      "text/html": [
       "<div>\n",
       "<table border=\"1\" class=\"dataframe\">\n",
       "  <thead>\n",
       "    <tr style=\"text-align: right;\">\n",
       "      <th></th>\n",
       "      <th>timestamp</th>\n",
       "      <th>model</th>\n",
       "      <th>event</th>\n",
       "      <th>month</th>\n",
       "      <th>weekday</th>\n",
       "    </tr>\n",
       "  </thead>\n",
       "  <tbody>\n",
       "    <tr>\n",
       "      <th>0</th>\n",
       "      <td>2018-05-31 23:38:05</td>\n",
       "      <td>NaN</td>\n",
       "      <td>ad campaign hit</td>\n",
       "      <td>5</td>\n",
       "      <td>Thursday</td>\n",
       "    </tr>\n",
       "    <tr>\n",
       "      <th>1</th>\n",
       "      <td>2018-05-31 23:38:05</td>\n",
       "      <td>NaN</td>\n",
       "      <td>visited site</td>\n",
       "      <td>5</td>\n",
       "      <td>Thursday</td>\n",
       "    </tr>\n",
       "    <tr>\n",
       "      <th>2</th>\n",
       "      <td>2018-05-31 23:38:09</td>\n",
       "      <td>iPhone 5s</td>\n",
       "      <td>viewed product</td>\n",
       "      <td>5</td>\n",
       "      <td>Thursday</td>\n",
       "    </tr>\n",
       "    <tr>\n",
       "      <th>3</th>\n",
       "      <td>2018-05-31 23:38:40</td>\n",
       "      <td>iPhone 5s</td>\n",
       "      <td>checkout</td>\n",
       "      <td>5</td>\n",
       "      <td>Thursday</td>\n",
       "    </tr>\n",
       "    <tr>\n",
       "      <th>4</th>\n",
       "      <td>2018-05-29 13:29:25</td>\n",
       "      <td>Samsung Galaxy S8</td>\n",
       "      <td>viewed product</td>\n",
       "      <td>5</td>\n",
       "      <td>Tuesday</td>\n",
       "    </tr>\n",
       "  </tbody>\n",
       "</table>\n",
       "</div>"
      ],
      "text/plain": [
       "            timestamp              model            event  month   weekday\n",
       "0 2018-05-31 23:38:05                NaN  ad campaign hit      5  Thursday\n",
       "1 2018-05-31 23:38:05                NaN     visited site      5  Thursday\n",
       "2 2018-05-31 23:38:09          iPhone 5s   viewed product      5  Thursday\n",
       "3 2018-05-31 23:38:40          iPhone 5s         checkout      5  Thursday\n",
       "4 2018-05-29 13:29:25  Samsung Galaxy S8   viewed product      5   Tuesday"
      ]
     },
     "execution_count": 49,
     "metadata": {},
     "output_type": "execute_result"
    }
   ],
   "source": [
    "dayevents.head()"
   ]
  },
  {
   "cell_type": "code",
   "execution_count": 50,
   "metadata": {},
   "outputs": [],
   "source": [
    "dayforevents = dayevents[[\"weekday\",\"event\"]]"
   ]
  },
  {
   "cell_type": "code",
   "execution_count": 51,
   "metadata": {},
   "outputs": [
    {
     "data": {
      "text/html": [
       "<div>\n",
       "<table border=\"1\" class=\"dataframe\">\n",
       "  <thead>\n",
       "    <tr style=\"text-align: right;\">\n",
       "      <th></th>\n",
       "      <th>weekday</th>\n",
       "      <th>event</th>\n",
       "    </tr>\n",
       "  </thead>\n",
       "  <tbody>\n",
       "    <tr>\n",
       "      <th>0</th>\n",
       "      <td>Thursday</td>\n",
       "      <td>ad campaign hit</td>\n",
       "    </tr>\n",
       "    <tr>\n",
       "      <th>1</th>\n",
       "      <td>Thursday</td>\n",
       "      <td>visited site</td>\n",
       "    </tr>\n",
       "    <tr>\n",
       "      <th>2</th>\n",
       "      <td>Thursday</td>\n",
       "      <td>viewed product</td>\n",
       "    </tr>\n",
       "    <tr>\n",
       "      <th>3</th>\n",
       "      <td>Thursday</td>\n",
       "      <td>checkout</td>\n",
       "    </tr>\n",
       "    <tr>\n",
       "      <th>4</th>\n",
       "      <td>Tuesday</td>\n",
       "      <td>viewed product</td>\n",
       "    </tr>\n",
       "  </tbody>\n",
       "</table>\n",
       "</div>"
      ],
      "text/plain": [
       "    weekday            event\n",
       "0  Thursday  ad campaign hit\n",
       "1  Thursday     visited site\n",
       "2  Thursday   viewed product\n",
       "3  Thursday         checkout\n",
       "4   Tuesday   viewed product"
      ]
     },
     "execution_count": 51,
     "metadata": {},
     "output_type": "execute_result"
    }
   ],
   "source": [
    "dayforevents.head()"
   ]
  },
  {
   "cell_type": "code",
   "execution_count": 53,
   "metadata": {},
   "outputs": [
    {
     "name": "stderr",
     "output_type": "stream",
     "text": [
      "/anaconda/lib/python3.6/site-packages/ipykernel/__main__.py:1: SettingWithCopyWarning: \n",
      "A value is trying to be set on a copy of a slice from a DataFrame.\n",
      "Try using .loc[row_indexer,col_indexer] = value instead\n",
      "\n",
      "See the caveats in the documentation: http://pandas.pydata.org/pandas-docs/stable/indexing.html#indexing-view-versus-copy\n",
      "  if __name__ == '__main__':\n"
     ]
    },
    {
     "data": {
      "text/html": [
       "<div>\n",
       "<table border=\"1\" class=\"dataframe\">\n",
       "  <thead>\n",
       "    <tr style=\"text-align: right;\">\n",
       "      <th></th>\n",
       "      <th></th>\n",
       "      <th>count</th>\n",
       "    </tr>\n",
       "    <tr>\n",
       "      <th>weekday</th>\n",
       "      <th>event</th>\n",
       "      <th></th>\n",
       "    </tr>\n",
       "  </thead>\n",
       "  <tbody>\n",
       "    <tr>\n",
       "      <th rowspan=\"11\" valign=\"top\">Friday</th>\n",
       "      <th>ad campaign hit</th>\n",
       "      <td>12395</td>\n",
       "    </tr>\n",
       "    <tr>\n",
       "      <th>brand listing</th>\n",
       "      <td>14731</td>\n",
       "    </tr>\n",
       "    <tr>\n",
       "      <th>checkout</th>\n",
       "      <td>5244</td>\n",
       "    </tr>\n",
       "    <tr>\n",
       "      <th>conversion</th>\n",
       "      <td>175</td>\n",
       "    </tr>\n",
       "    <tr>\n",
       "      <th>generic listing</th>\n",
       "      <td>9761</td>\n",
       "    </tr>\n",
       "    <tr>\n",
       "      <th>lead</th>\n",
       "      <td>64</td>\n",
       "    </tr>\n",
       "    <tr>\n",
       "      <th>search engine hit</th>\n",
       "      <td>7331</td>\n",
       "    </tr>\n",
       "    <tr>\n",
       "      <th>searched products</th>\n",
       "      <td>8328</td>\n",
       "    </tr>\n",
       "    <tr>\n",
       "      <th>staticpage</th>\n",
       "      <td>464</td>\n",
       "    </tr>\n",
       "    <tr>\n",
       "      <th>viewed product</th>\n",
       "      <td>77947</td>\n",
       "    </tr>\n",
       "    <tr>\n",
       "      <th>visited site</th>\n",
       "      <td>12931</td>\n",
       "    </tr>\n",
       "    <tr>\n",
       "      <th rowspan=\"11\" valign=\"top\">Monday</th>\n",
       "      <th>ad campaign hit</th>\n",
       "      <td>11902</td>\n",
       "    </tr>\n",
       "    <tr>\n",
       "      <th>brand listing</th>\n",
       "      <td>15067</td>\n",
       "    </tr>\n",
       "    <tr>\n",
       "      <th>checkout</th>\n",
       "      <td>4621</td>\n",
       "    </tr>\n",
       "    <tr>\n",
       "      <th>conversion</th>\n",
       "      <td>184</td>\n",
       "    </tr>\n",
       "    <tr>\n",
       "      <th>generic listing</th>\n",
       "      <td>10236</td>\n",
       "    </tr>\n",
       "    <tr>\n",
       "      <th>lead</th>\n",
       "      <td>90</td>\n",
       "    </tr>\n",
       "    <tr>\n",
       "      <th>search engine hit</th>\n",
       "      <td>7696</td>\n",
       "    </tr>\n",
       "    <tr>\n",
       "      <th>searched products</th>\n",
       "      <td>8184</td>\n",
       "    </tr>\n",
       "    <tr>\n",
       "      <th>staticpage</th>\n",
       "      <td>658</td>\n",
       "    </tr>\n",
       "    <tr>\n",
       "      <th>viewed product</th>\n",
       "      <td>77653</td>\n",
       "    </tr>\n",
       "    <tr>\n",
       "      <th>visited site</th>\n",
       "      <td>13094</td>\n",
       "    </tr>\n",
       "    <tr>\n",
       "      <th rowspan=\"8\" valign=\"top\">Saturday</th>\n",
       "      <th>ad campaign hit</th>\n",
       "      <td>9493</td>\n",
       "    </tr>\n",
       "    <tr>\n",
       "      <th>brand listing</th>\n",
       "      <td>11053</td>\n",
       "    </tr>\n",
       "    <tr>\n",
       "      <th>checkout</th>\n",
       "      <td>3474</td>\n",
       "    </tr>\n",
       "    <tr>\n",
       "      <th>conversion</th>\n",
       "      <td>106</td>\n",
       "    </tr>\n",
       "    <tr>\n",
       "      <th>generic listing</th>\n",
       "      <td>7615</td>\n",
       "    </tr>\n",
       "    <tr>\n",
       "      <th>lead</th>\n",
       "      <td>45</td>\n",
       "    </tr>\n",
       "    <tr>\n",
       "      <th>search engine hit</th>\n",
       "      <td>5871</td>\n",
       "    </tr>\n",
       "    <tr>\n",
       "      <th>searched products</th>\n",
       "      <td>6586</td>\n",
       "    </tr>\n",
       "    <tr>\n",
       "      <th>...</th>\n",
       "      <th>...</th>\n",
       "      <td>...</td>\n",
       "    </tr>\n",
       "    <tr>\n",
       "      <th rowspan=\"8\" valign=\"top\">Thursday</th>\n",
       "      <th>conversion</th>\n",
       "      <td>200</td>\n",
       "    </tr>\n",
       "    <tr>\n",
       "      <th>generic listing</th>\n",
       "      <td>10603</td>\n",
       "    </tr>\n",
       "    <tr>\n",
       "      <th>lead</th>\n",
       "      <td>60</td>\n",
       "    </tr>\n",
       "    <tr>\n",
       "      <th>search engine hit</th>\n",
       "      <td>7646</td>\n",
       "    </tr>\n",
       "    <tr>\n",
       "      <th>searched products</th>\n",
       "      <td>8551</td>\n",
       "    </tr>\n",
       "    <tr>\n",
       "      <th>staticpage</th>\n",
       "      <td>599</td>\n",
       "    </tr>\n",
       "    <tr>\n",
       "      <th>viewed product</th>\n",
       "      <td>85396</td>\n",
       "    </tr>\n",
       "    <tr>\n",
       "      <th>visited site</th>\n",
       "      <td>13784</td>\n",
       "    </tr>\n",
       "    <tr>\n",
       "      <th rowspan=\"11\" valign=\"top\">Tuesday</th>\n",
       "      <th>ad campaign hit</th>\n",
       "      <td>13757</td>\n",
       "    </tr>\n",
       "    <tr>\n",
       "      <th>brand listing</th>\n",
       "      <td>15997</td>\n",
       "    </tr>\n",
       "    <tr>\n",
       "      <th>checkout</th>\n",
       "      <td>5928</td>\n",
       "    </tr>\n",
       "    <tr>\n",
       "      <th>conversion</th>\n",
       "      <td>215</td>\n",
       "    </tr>\n",
       "    <tr>\n",
       "      <th>generic listing</th>\n",
       "      <td>11037</td>\n",
       "    </tr>\n",
       "    <tr>\n",
       "      <th>lead</th>\n",
       "      <td>64</td>\n",
       "    </tr>\n",
       "    <tr>\n",
       "      <th>search engine hit</th>\n",
       "      <td>8653</td>\n",
       "    </tr>\n",
       "    <tr>\n",
       "      <th>searched products</th>\n",
       "      <td>8741</td>\n",
       "    </tr>\n",
       "    <tr>\n",
       "      <th>staticpage</th>\n",
       "      <td>724</td>\n",
       "    </tr>\n",
       "    <tr>\n",
       "      <th>viewed product</th>\n",
       "      <td>90410</td>\n",
       "    </tr>\n",
       "    <tr>\n",
       "      <th>visited site</th>\n",
       "      <td>14494</td>\n",
       "    </tr>\n",
       "    <tr>\n",
       "      <th rowspan=\"11\" valign=\"top\">Wednesday</th>\n",
       "      <th>ad campaign hit</th>\n",
       "      <td>13357</td>\n",
       "    </tr>\n",
       "    <tr>\n",
       "      <th>brand listing</th>\n",
       "      <td>16202</td>\n",
       "    </tr>\n",
       "    <tr>\n",
       "      <th>checkout</th>\n",
       "      <td>5772</td>\n",
       "    </tr>\n",
       "    <tr>\n",
       "      <th>conversion</th>\n",
       "      <td>189</td>\n",
       "    </tr>\n",
       "    <tr>\n",
       "      <th>generic listing</th>\n",
       "      <td>11012</td>\n",
       "    </tr>\n",
       "    <tr>\n",
       "      <th>lead</th>\n",
       "      <td>75</td>\n",
       "    </tr>\n",
       "    <tr>\n",
       "      <th>search engine hit</th>\n",
       "      <td>8110</td>\n",
       "    </tr>\n",
       "    <tr>\n",
       "      <th>searched products</th>\n",
       "      <td>8776</td>\n",
       "    </tr>\n",
       "    <tr>\n",
       "      <th>staticpage</th>\n",
       "      <td>574</td>\n",
       "    </tr>\n",
       "    <tr>\n",
       "      <th>viewed product</th>\n",
       "      <td>86051</td>\n",
       "    </tr>\n",
       "    <tr>\n",
       "      <th>visited site</th>\n",
       "      <td>14205</td>\n",
       "    </tr>\n",
       "  </tbody>\n",
       "</table>\n",
       "<p>77 rows × 1 columns</p>\n",
       "</div>"
      ],
      "text/plain": [
       "                             count\n",
       "weekday   event                   \n",
       "Friday    ad campaign hit    12395\n",
       "          brand listing      14731\n",
       "          checkout            5244\n",
       "          conversion           175\n",
       "          generic listing     9761\n",
       "          lead                  64\n",
       "          search engine hit   7331\n",
       "          searched products   8328\n",
       "          staticpage           464\n",
       "          viewed product     77947\n",
       "          visited site       12931\n",
       "Monday    ad campaign hit    11902\n",
       "          brand listing      15067\n",
       "          checkout            4621\n",
       "          conversion           184\n",
       "          generic listing    10236\n",
       "          lead                  90\n",
       "          search engine hit   7696\n",
       "          searched products   8184\n",
       "          staticpage           658\n",
       "          viewed product     77653\n",
       "          visited site       13094\n",
       "Saturday  ad campaign hit     9493\n",
       "          brand listing      11053\n",
       "          checkout            3474\n",
       "          conversion           106\n",
       "          generic listing     7615\n",
       "          lead                  45\n",
       "          search engine hit   5871\n",
       "          searched products   6586\n",
       "...                            ...\n",
       "Thursday  conversion           200\n",
       "          generic listing    10603\n",
       "          lead                  60\n",
       "          search engine hit   7646\n",
       "          searched products   8551\n",
       "          staticpage           599\n",
       "          viewed product     85396\n",
       "          visited site       13784\n",
       "Tuesday   ad campaign hit    13757\n",
       "          brand listing      15997\n",
       "          checkout            5928\n",
       "          conversion           215\n",
       "          generic listing    11037\n",
       "          lead                  64\n",
       "          search engine hit   8653\n",
       "          searched products   8741\n",
       "          staticpage           724\n",
       "          viewed product     90410\n",
       "          visited site       14494\n",
       "Wednesday ad campaign hit    13357\n",
       "          brand listing      16202\n",
       "          checkout            5772\n",
       "          conversion           189\n",
       "          generic listing    11012\n",
       "          lead                  75\n",
       "          search engine hit   8110\n",
       "          searched products   8776\n",
       "          staticpage           574\n",
       "          viewed product     86051\n",
       "          visited site       14205\n",
       "\n",
       "[77 rows x 1 columns]"
      ]
     },
     "execution_count": 53,
     "metadata": {},
     "output_type": "execute_result"
    }
   ],
   "source": [
    "dayforevents[\"count\"] = 1\n",
    "dayforevents.groupby([\"weekday\",\"event\"]).count()"
   ]
  },
  {
   "cell_type": "code",
   "execution_count": 54,
   "metadata": {},
   "outputs": [
    {
     "data": {
      "text/html": [
       "<div>\n",
       "<table border=\"1\" class=\"dataframe\">\n",
       "  <thead>\n",
       "    <tr style=\"text-align: right;\">\n",
       "      <th></th>\n",
       "      <th>timestamp</th>\n",
       "      <th>model</th>\n",
       "      <th>event</th>\n",
       "      <th>month</th>\n",
       "      <th>weekday</th>\n",
       "    </tr>\n",
       "  </thead>\n",
       "  <tbody>\n",
       "    <tr>\n",
       "      <th>0</th>\n",
       "      <td>2018-05-31 23:38:05</td>\n",
       "      <td>NaN</td>\n",
       "      <td>ad campaign hit</td>\n",
       "      <td>5</td>\n",
       "      <td>Thursday</td>\n",
       "    </tr>\n",
       "    <tr>\n",
       "      <th>1</th>\n",
       "      <td>2018-05-31 23:38:05</td>\n",
       "      <td>NaN</td>\n",
       "      <td>visited site</td>\n",
       "      <td>5</td>\n",
       "      <td>Thursday</td>\n",
       "    </tr>\n",
       "    <tr>\n",
       "      <th>2</th>\n",
       "      <td>2018-05-31 23:38:09</td>\n",
       "      <td>iPhone 5s</td>\n",
       "      <td>viewed product</td>\n",
       "      <td>5</td>\n",
       "      <td>Thursday</td>\n",
       "    </tr>\n",
       "    <tr>\n",
       "      <th>3</th>\n",
       "      <td>2018-05-31 23:38:40</td>\n",
       "      <td>iPhone 5s</td>\n",
       "      <td>checkout</td>\n",
       "      <td>5</td>\n",
       "      <td>Thursday</td>\n",
       "    </tr>\n",
       "    <tr>\n",
       "      <th>4</th>\n",
       "      <td>2018-05-29 13:29:25</td>\n",
       "      <td>Samsung Galaxy S8</td>\n",
       "      <td>viewed product</td>\n",
       "      <td>5</td>\n",
       "      <td>Tuesday</td>\n",
       "    </tr>\n",
       "  </tbody>\n",
       "</table>\n",
       "</div>"
      ],
      "text/plain": [
       "            timestamp              model            event  month   weekday\n",
       "0 2018-05-31 23:38:05                NaN  ad campaign hit      5  Thursday\n",
       "1 2018-05-31 23:38:05                NaN     visited site      5  Thursday\n",
       "2 2018-05-31 23:38:09          iPhone 5s   viewed product      5  Thursday\n",
       "3 2018-05-31 23:38:40          iPhone 5s         checkout      5  Thursday\n",
       "4 2018-05-29 13:29:25  Samsung Galaxy S8   viewed product      5   Tuesday"
      ]
     },
     "execution_count": 54,
     "metadata": {},
     "output_type": "execute_result"
    }
   ],
   "source": [
    "hoursevents = monthmodelssell\n",
    "hoursevents.head()"
   ]
  },
  {
   "cell_type": "markdown",
   "metadata": {},
   "source": [
    "Analsis por Id de usuario"
   ]
  },
  {
   "cell_type": "code",
   "execution_count": 55,
   "metadata": {},
   "outputs": [
    {
     "name": "stderr",
     "output_type": "stream",
     "text": [
      "/anaconda/lib/python3.6/site-packages/ipykernel/__main__.py:1: SettingWithCopyWarning: \n",
      "A value is trying to be set on a copy of a slice from a DataFrame.\n",
      "Try using .loc[row_indexer,col_indexer] = value instead\n",
      "\n",
      "See the caveats in the documentation: http://pandas.pydata.org/pandas-docs/stable/indexing.html#indexing-view-versus-copy\n",
      "  if __name__ == '__main__':\n"
     ]
    }
   ],
   "source": [
    "hoursevents[\"hour\"] = hoursevents[\"timestamp\"].map(lambda x: x.hour)"
   ]
  },
  {
   "cell_type": "code",
   "execution_count": 56,
   "metadata": {},
   "outputs": [
    {
     "data": {
      "text/html": [
       "<div>\n",
       "<table border=\"1\" class=\"dataframe\">\n",
       "  <thead>\n",
       "    <tr style=\"text-align: right;\">\n",
       "      <th></th>\n",
       "      <th>timestamp</th>\n",
       "      <th>model</th>\n",
       "      <th>event</th>\n",
       "      <th>month</th>\n",
       "      <th>weekday</th>\n",
       "      <th>hour</th>\n",
       "    </tr>\n",
       "  </thead>\n",
       "  <tbody>\n",
       "    <tr>\n",
       "      <th>0</th>\n",
       "      <td>2018-05-31 23:38:05</td>\n",
       "      <td>NaN</td>\n",
       "      <td>ad campaign hit</td>\n",
       "      <td>5</td>\n",
       "      <td>Thursday</td>\n",
       "      <td>23</td>\n",
       "    </tr>\n",
       "    <tr>\n",
       "      <th>1</th>\n",
       "      <td>2018-05-31 23:38:05</td>\n",
       "      <td>NaN</td>\n",
       "      <td>visited site</td>\n",
       "      <td>5</td>\n",
       "      <td>Thursday</td>\n",
       "      <td>23</td>\n",
       "    </tr>\n",
       "    <tr>\n",
       "      <th>2</th>\n",
       "      <td>2018-05-31 23:38:09</td>\n",
       "      <td>iPhone 5s</td>\n",
       "      <td>viewed product</td>\n",
       "      <td>5</td>\n",
       "      <td>Thursday</td>\n",
       "      <td>23</td>\n",
       "    </tr>\n",
       "    <tr>\n",
       "      <th>3</th>\n",
       "      <td>2018-05-31 23:38:40</td>\n",
       "      <td>iPhone 5s</td>\n",
       "      <td>checkout</td>\n",
       "      <td>5</td>\n",
       "      <td>Thursday</td>\n",
       "      <td>23</td>\n",
       "    </tr>\n",
       "    <tr>\n",
       "      <th>4</th>\n",
       "      <td>2018-05-29 13:29:25</td>\n",
       "      <td>Samsung Galaxy S8</td>\n",
       "      <td>viewed product</td>\n",
       "      <td>5</td>\n",
       "      <td>Tuesday</td>\n",
       "      <td>13</td>\n",
       "    </tr>\n",
       "  </tbody>\n",
       "</table>\n",
       "</div>"
      ],
      "text/plain": [
       "            timestamp              model            event  month   weekday  \\\n",
       "0 2018-05-31 23:38:05                NaN  ad campaign hit      5  Thursday   \n",
       "1 2018-05-31 23:38:05                NaN     visited site      5  Thursday   \n",
       "2 2018-05-31 23:38:09          iPhone 5s   viewed product      5  Thursday   \n",
       "3 2018-05-31 23:38:40          iPhone 5s         checkout      5  Thursday   \n",
       "4 2018-05-29 13:29:25  Samsung Galaxy S8   viewed product      5   Tuesday   \n",
       "\n",
       "   hour  \n",
       "0    23  \n",
       "1    23  \n",
       "2    23  \n",
       "3    23  \n",
       "4    13  "
      ]
     },
     "execution_count": 56,
     "metadata": {},
     "output_type": "execute_result"
    }
   ],
   "source": [
    "hoursevents.head()"
   ]
  },
  {
   "cell_type": "code",
   "execution_count": 57,
   "metadata": {},
   "outputs": [
    {
     "data": {
      "text/html": [
       "<div>\n",
       "<table border=\"1\" class=\"dataframe\">\n",
       "  <thead>\n",
       "    <tr style=\"text-align: right;\">\n",
       "      <th></th>\n",
       "      <th>event</th>\n",
       "      <th>hour</th>\n",
       "    </tr>\n",
       "  </thead>\n",
       "  <tbody>\n",
       "    <tr>\n",
       "      <th>0</th>\n",
       "      <td>ad campaign hit</td>\n",
       "      <td>23</td>\n",
       "    </tr>\n",
       "    <tr>\n",
       "      <th>1</th>\n",
       "      <td>visited site</td>\n",
       "      <td>23</td>\n",
       "    </tr>\n",
       "    <tr>\n",
       "      <th>2</th>\n",
       "      <td>viewed product</td>\n",
       "      <td>23</td>\n",
       "    </tr>\n",
       "    <tr>\n",
       "      <th>3</th>\n",
       "      <td>checkout</td>\n",
       "      <td>23</td>\n",
       "    </tr>\n",
       "    <tr>\n",
       "      <th>4</th>\n",
       "      <td>viewed product</td>\n",
       "      <td>13</td>\n",
       "    </tr>\n",
       "  </tbody>\n",
       "</table>\n",
       "</div>"
      ],
      "text/plain": [
       "             event  hour\n",
       "0  ad campaign hit    23\n",
       "1     visited site    23\n",
       "2   viewed product    23\n",
       "3         checkout    23\n",
       "4   viewed product    13"
      ]
     },
     "execution_count": 57,
     "metadata": {},
     "output_type": "execute_result"
    }
   ],
   "source": [
    "hoursevents = hoursevents[[\"event\",\"hour\"]]\n",
    "hoursevents.head()"
   ]
  },
  {
   "cell_type": "code",
   "execution_count": 61,
   "metadata": {},
   "outputs": [
    {
     "data": {
      "text/plain": [
       "0     64378\n",
       "1     58978\n",
       "2     48536\n",
       "3     33118\n",
       "4     18838\n",
       "5     11335\n",
       "6      6257\n",
       "7      3910\n",
       "8      4623\n",
       "9      8077\n",
       "10    16639\n",
       "11    32884\n",
       "12    47426\n",
       "13    55684\n",
       "14    60211\n",
       "15    58852\n",
       "16    64637\n",
       "17    60560\n",
       "18    57614\n",
       "19    58398\n",
       "20    56378\n",
       "21    58867\n",
       "22    59412\n",
       "23    65676\n",
       "Name: hour, dtype: int64"
      ]
     },
     "execution_count": 61,
     "metadata": {},
     "output_type": "execute_result"
    }
   ],
   "source": [
    "hoursevents[\"hour\"].value_counts().sort_index()"
   ]
  },
  {
   "cell_type": "code",
   "execution_count": 79,
   "metadata": {},
   "outputs": [
    {
     "data": {
      "image/png": "[encoded data removed]",
      "text/plain": [
       "<matplotlib.figure.Figure at 0x123118ef0>"
      ]
     },
     "metadata": {},
     "output_type": "display_data"
    }
   ],
   "source": [
    "#Graficamos las 10 areas de trabajo que mas postulaciones reciben\n",
    "f = plt.figure()\n",
    "\n",
    "plt.title ('Cantidad de eventos a lo largo del dia(Por horas)',color='black')\n",
    "\n",
    "hoursevents[\"hour\"].value_counts().sort_index().plot(kind='line', figsize=(10,6) ,alpha=0.75, color='green' )\n",
    "\n",
    "ax.set_xlabel('Hora')\n",
    "ax.set_ylabel(\"Eventos\")\n",
    "plt.show()\n",
    "#Exportamos el plot como .png para poder ponerlo en el informe\n",
    "#plt.savefig('Top5skuns.png',bbox_inches='tight')\n",
    "\n",
    "\n"
   ]
  },
  {
   "cell_type": "code",
   "execution_count": 84,
   "metadata": {},
   "outputs": [
    {
     "data": {
      "text/html": [
       "<div>\n",
       "<table border=\"1\" class=\"dataframe\">\n",
       "  <thead>\n",
       "    <tr style=\"text-align: right;\">\n",
       "      <th></th>\n",
       "      <th>event</th>\n",
       "      <th>hour</th>\n",
       "    </tr>\n",
       "  </thead>\n",
       "  <tbody>\n",
       "    <tr>\n",
       "      <th>220</th>\n",
       "      <td>conversion</td>\n",
       "      <td>17</td>\n",
       "    </tr>\n",
       "    <tr>\n",
       "      <th>2282</th>\n",
       "      <td>conversion</td>\n",
       "      <td>22</td>\n",
       "    </tr>\n",
       "    <tr>\n",
       "      <th>2547</th>\n",
       "      <td>conversion</td>\n",
       "      <td>14</td>\n",
       "    </tr>\n",
       "    <tr>\n",
       "      <th>4245</th>\n",
       "      <td>conversion</td>\n",
       "      <td>13</td>\n",
       "    </tr>\n",
       "    <tr>\n",
       "      <th>6985</th>\n",
       "      <td>conversion</td>\n",
       "      <td>22</td>\n",
       "    </tr>\n",
       "  </tbody>\n",
       "</table>\n",
       "</div>"
      ],
      "text/plain": [
       "           event  hour\n",
       "220   conversion    17\n",
       "2282  conversion    22\n",
       "2547  conversion    14\n",
       "4245  conversion    13\n",
       "6985  conversion    22"
      ]
     },
     "execution_count": 84,
     "metadata": {},
     "output_type": "execute_result"
    }
   ],
   "source": [
    "hourseventsconversion = hoursevents[hoursevents[\"event\"] == \"conversion\"]\n",
    "hourseventsconversion.head()"
   ]
  },
  {
   "cell_type": "code",
   "execution_count": 102,
   "metadata": {},
   "outputs": [
    {
     "ename": "NameError",
     "evalue": "name 'hourseventsconversion' is not defined",
     "output_type": "error",
     "traceback": [
      "\u001b[0;31m---------------------------------------------------------------------------\u001b[0m",
      "\u001b[0;31mNameError\u001b[0m                                 Traceback (most recent call last)",
      "\u001b[0;32m<ipython-input-102-bbdcd2313ec0>\u001b[0m in \u001b[0;36m<module>\u001b[0;34m()\u001b[0m\n\u001b[1;32m      5\u001b[0m \u001b[0;34m\u001b[0m\u001b[0m\n\u001b[1;32m      6\u001b[0m \u001b[0;34m\u001b[0m\u001b[0m\n\u001b[0;32m----> 7\u001b[0;31m \u001b[0mhourseventsconversion\u001b[0m\u001b[0;34m[\u001b[0m\u001b[0;34m\"hour\"\u001b[0m\u001b[0;34m]\u001b[0m\u001b[0;34m.\u001b[0m\u001b[0mvalue_counts\u001b[0m\u001b[0;34m(\u001b[0m\u001b[0;34m)\u001b[0m\u001b[0;34m.\u001b[0m\u001b[0msort_index\u001b[0m\u001b[0;34m(\u001b[0m\u001b[0;34m)\u001b[0m\u001b[0;34m.\u001b[0m\u001b[0mplot\u001b[0m\u001b[0;34m(\u001b[0m\u001b[0mkind\u001b[0m\u001b[0;34m=\u001b[0m\u001b[0;34m'line'\u001b[0m\u001b[0;34m,\u001b[0m \u001b[0mfigsize\u001b[0m\u001b[0;34m=\u001b[0m\u001b[0;34m(\u001b[0m\u001b[0;36m10\u001b[0m\u001b[0;34m,\u001b[0m\u001b[0;36m6\u001b[0m\u001b[0;34m)\u001b[0m \u001b[0;34m,\u001b[0m\u001b[0malpha\u001b[0m\u001b[0;34m=\u001b[0m\u001b[0;36m0.75\u001b[0m\u001b[0;34m,\u001b[0m \u001b[0mcolor\u001b[0m\u001b[0;34m=\u001b[0m\u001b[0;34m'red'\u001b[0m \u001b[0;34m)\u001b[0m\u001b[0;34m\u001b[0m\u001b[0m\n\u001b[0m\u001b[1;32m      8\u001b[0m \u001b[0max\u001b[0m\u001b[0;34m.\u001b[0m\u001b[0mset_xlabel\u001b[0m\u001b[0;34m(\u001b[0m\u001b[0;34m'Hora'\u001b[0m\u001b[0;34m)\u001b[0m\u001b[0;34m\u001b[0m\u001b[0m\n\u001b[1;32m      9\u001b[0m \u001b[0max\u001b[0m\u001b[0;34m.\u001b[0m\u001b[0mset_ylabel\u001b[0m\u001b[0;34m(\u001b[0m\u001b[0;34m\"Eventos\"\u001b[0m\u001b[0;34m)\u001b[0m\u001b[0;34m\u001b[0m\u001b[0m\n",
      "\u001b[0;31mNameError\u001b[0m: name 'hourseventsconversion' is not defined"
     ]
    },
    {
     "data": {
      "image/png": "[encoded data removed]",
      "text/plain": [
       "<matplotlib.figure.Figure at 0x1189b8710>"
      ]
     },
     "metadata": {},
     "output_type": "display_data"
    }
   ],
   "source": [
    "#Graficamos las 10 areas de trabajo que mas postulaciones reciben\n",
    "f = plt.figure()\n",
    "\n",
    "plt.title ('Cantidad de conversiones a lo largo del dia(Por horas)',color='black')\n",
    "\n",
    "\n",
    "hourseventsconversion[\"hour\"].value_counts().sort_index().plot(kind='line', figsize=(10,6) ,alpha=0.75, color='red' )\n",
    "ax.set_xlabel('Hora')\n",
    "ax.set_ylabel(\"Eventos\")\n",
    "plt.show()\n",
    "#Exportamos el plot como .png para poder ponerlo en el informe\n",
    "#plt.savefig('Top5skuns.png',bbox_inches='tight')\n",
    "\n"
   ]
  },
  {
   "cell_type": "markdown",
   "metadata": {},
   "source": [
    "Analisis segun la region/pais/ciudad "
   ]
  },
  {
   "cell_type": "code",
   "execution_count": 87,
   "metadata": {},
   "outputs": [
    {
     "data": {
      "text/plain": [
       "True     923910\n",
       "False     87378\n",
       "Name: country, dtype: int64"
      ]
     },
     "execution_count": 87,
     "metadata": {},
     "output_type": "execute_result"
    }
   ],
   "source": [
    "eventsData[\"country\"].isnull().value_counts()"
   ]
  },
  {
   "cell_type": "code",
   "execution_count": 88,
   "metadata": {},
   "outputs": [
    {
     "data": {
      "text/plain": [
       "True     923910\n",
       "False     87378\n",
       "Name: region, dtype: int64"
      ]
     },
     "execution_count": 88,
     "metadata": {},
     "output_type": "execute_result"
    }
   ],
   "source": [
    "eventsData[\"region\"].isnull().value_counts()"
   ]
  },
  {
   "cell_type": "code",
   "execution_count": 89,
   "metadata": {},
   "outputs": [
    {
     "data": {
      "text/plain": [
       "True     923910\n",
       "False     87378\n",
       "Name: city, dtype: int64"
      ]
     },
     "execution_count": 89,
     "metadata": {},
     "output_type": "execute_result"
    }
   ],
   "source": [
    "eventsData[\"city\"].isnull().value_counts()"
   ]
  },
  {
   "cell_type": "code",
   "execution_count": 90,
   "metadata": {},
   "outputs": [
    {
     "data": {
      "text/plain": [
       "Brazil                84308\n",
       "Unknown                2313\n",
       "United States           465\n",
       "Argentina                94\n",
       "Canada                   35\n",
       "France                   13\n",
       "Netherlands              13\n",
       "United Kingdom           12\n",
       "Mozambique               12\n",
       "Japan                    11\n",
       "Poland                    9\n",
       "French Guiana             8\n",
       "Portugal                  7\n",
       "Romania                   7\n",
       "Italy                     7\n",
       "Dominican Republic        6\n",
       "Guadeloupe                6\n",
       "Russia                    6\n",
       "Germany                   5\n",
       "Bangladesh                4\n",
       "Colombia                  4\n",
       "Paraguay                  4\n",
       "Switzerland               3\n",
       "India                     2\n",
       "Angola                    2\n",
       "Morocco                   2\n",
       "Uzbekistan                1\n",
       "Denmark                   1\n",
       "Peru                      1\n",
       "Ireland                   1\n",
       "Rwanda                    1\n",
       "Saudi Arabia              1\n",
       "Uruguay                   1\n",
       "South Africa              1\n",
       "Cape Verde                1\n",
       "Sri Lanka                 1\n",
       "Venezuela                 1\n",
       "Belize                    1\n",
       "Philippines               1\n",
       "Mexico                    1\n",
       "Spain                     1\n",
       "Israel                    1\n",
       "China                     1\n",
       "Algeria                   1\n",
       "Zimbabwe                  1\n",
       "Turkey                    1\n",
       "Name: country, dtype: int64"
      ]
     },
     "execution_count": 90,
     "metadata": {},
     "output_type": "execute_result"
    }
   ],
   "source": [
    "eventsData[\"country\"].value_counts()"
   ]
  },
  {
   "cell_type": "code",
   "execution_count": 91,
   "metadata": {},
   "outputs": [
    {
     "data": {
      "text/plain": [
       "Sao Paulo                           24996\n",
       "Unknown                             14772\n",
       "Minas Gerais                         7755\n",
       "Rio de Janeiro                       6913\n",
       "Bahia                                5737\n",
       "Pernambuco                           2962\n",
       "Ceara                                2829\n",
       "Parana                               2602\n",
       "Rio Grande do Sul                    2576\n",
       "Federal District                     1739\n",
       "Goias                                1564\n",
       "Santa Catarina                       1511\n",
       "Para                                 1382\n",
       "Maranhao                             1303\n",
       "Espirito Santo                       1257\n",
       "Rio Grande do Norte                  1064\n",
       "Paraíba                               875\n",
       "Piaui                                 824\n",
       "Alagoas                               751\n",
       "Mato Grosso do Sul                    618\n",
       "Amazonas                              600\n",
       "Tocantins                             596\n",
       "Mato Grosso                           487\n",
       "Sergipe                               405\n",
       "Rondonia                              273\n",
       "California                            199\n",
       "Amapa                                 148\n",
       "New York                              105\n",
       "Acre                                   96\n",
       "Buenos Aires F.D.                      76\n",
       "                                    ...  \n",
       "Maharashtra                             2\n",
       "Mendoza                                 1\n",
       "Monagas                                 1\n",
       "Judetul Bacau                           1\n",
       "Santarém                                1\n",
       "Neuquen                                 1\n",
       "Georgia                                 1\n",
       "Milan                                   1\n",
       "Departamento de Montevideo              1\n",
       "Louisiana                               1\n",
       "Vila Real                               1\n",
       "Inner Mongolia Autonomous Region        1\n",
       "Istanbul                                1\n",
       "Iowa                                    1\n",
       "Vologodskaya Oblast'                    1\n",
       "Kenitra Province                        1\n",
       "Gauteng                                 1\n",
       "Loiret                                  1\n",
       "Dhaka                                   1\n",
       "Western Province                        1\n",
       "Setúbal                                 1\n",
       "Arkansas                                1\n",
       "Essonne                                 1\n",
       "Indiana                                 1\n",
       "Santa Fe                                1\n",
       "Moscow                                  1\n",
       "Delaware                                1\n",
       "Castelo Branco                          1\n",
       "Mexico City                             1\n",
       "Paris                                   1\n",
       "Name: region, dtype: int64"
      ]
     },
     "execution_count": 91,
     "metadata": {},
     "output_type": "execute_result"
    }
   ],
   "source": [
    "eventsData[\"region\"].value_counts()"
   ]
  },
  {
   "cell_type": "code",
   "execution_count": 92,
   "metadata": {},
   "outputs": [
    {
     "data": {
      "text/plain": [
       "Unknown                   15819\n",
       "São Paulo                 11711\n",
       "Rio de Janeiro             3538\n",
       "Belo Horizonte             2568\n",
       "Salvador                   2314\n",
       "Brasília                   1530\n",
       "Osasco                     1148\n",
       "Curitiba                   1132\n",
       "Fortaleza                  1084\n",
       "Recife                      913\n",
       "Goiânia                     853\n",
       "Porto Alegre                799\n",
       "Guarulhos                   776\n",
       "São Bernardo do Campo       716\n",
       "Belém                       640\n",
       "São Luís                    597\n",
       "Manaus                      507\n",
       "Natal                       487\n",
       "Montes Claros               482\n",
       "Campinas                    471\n",
       "Barueri                     466\n",
       "Santo André                 434\n",
       "Duque de Caxias             429\n",
       "Petrolina                   424\n",
       "Teresina                    388\n",
       "Sorocaba                    376\n",
       "Campo Grande                373\n",
       "Maceió                      370\n",
       "Contagem                    348\n",
       "Nova Iguaçu                 311\n",
       "                          ...  \n",
       "Itapecerica                   1\n",
       "Arroio Grande                 1\n",
       "Valparaiso                    1\n",
       "Borborema                     1\n",
       "Bom Jesus do Tocantins        1\n",
       "Eduardo                       1\n",
       "Durande                       1\n",
       "Chorozinho                    1\n",
       "Rafael Fernandes              1\n",
       "Moscow                        1\n",
       "Chattanooga                   1\n",
       "Santana da Vargem             1\n",
       "Quata                         1\n",
       "Anajatuba                     1\n",
       "Jandaia do Sul                1\n",
       "Lake Orion                    1\n",
       "Jaci                          1\n",
       "Caceres                       1\n",
       "Monte Santo de Minas          1\n",
       "Cornelio Procopio             1\n",
       "Baixa Grande                  1\n",
       "Rosario da Limeira            1\n",
       "Luiziania                     1\n",
       "Junqueiropolis                1\n",
       "Palmeira d'Oeste              1\n",
       "Ubajara                       1\n",
       "Heliodora                     1\n",
       "Vila Real                     1\n",
       "Barra Alegre                  1\n",
       "Guarda Mor                    1\n",
       "Name: city, dtype: int64"
      ]
     },
     "execution_count": 92,
     "metadata": {},
     "output_type": "execute_result"
    }
   ],
   "source": [
    "eventsData[\"city\"].value_counts()"
   ]
  },
  {
   "cell_type": "markdown",
   "metadata": {},
   "source": [
    "Analisis con modelo y viewed"
   ]
  },
  {
   "cell_type": "code",
   "execution_count": 93,
   "metadata": {},
   "outputs": [],
   "source": [
    "viewedmodel = eventsData[eventsData[\"event\"] == \"viewed product\"]"
   ]
  },
  {
   "cell_type": "code",
   "execution_count": 94,
   "metadata": {},
   "outputs": [
    {
     "data": {
      "text/plain": [
       "iPhone 6                                     47538\n",
       "iPhone 5s                                    42045\n",
       "iPhone 6S                                    36930\n",
       "iPhone 7                                     26330\n",
       "Samsung Galaxy S7 Edge                       23062\n",
       "Samsung Galaxy S7                            18085\n",
       "iPhone 7 Plus                                17853\n",
       "iPhone SE                                    15874\n",
       "Samsung Galaxy S8                            15868\n",
       "iPhone 6S Plus                               12250\n",
       "iPhone 6 Plus                                12098\n",
       "iPhone 5c                                    12049\n",
       "Samsung Galaxy J5                            11036\n",
       "Samsung Galaxy S6 Flat                       10724\n",
       "Samsung Galaxy S6 Edge                       10580\n",
       "Samsung Galaxy S8 Plus                       10006\n",
       "iPhone 5                                      8846\n",
       "Samsung Galaxy J7 Prime                       8400\n",
       "Motorola Moto G4 Plus                         7522\n",
       "Motorola Moto X Play 4G Dual                  6529\n",
       "Samsung Galaxy J7                             6376\n",
       "Samsung Galaxy A7 2017                        5530\n",
       "Samsung Galaxy A5 2017                        5524\n",
       "Samsung Galaxy S5                             5276\n",
       "Motorola Moto X2                              4928\n",
       "iPhone 4S                                     4817\n",
       "Motorola Moto G3 4G                           4783\n",
       "Samsung Galaxy A5                             4707\n",
       "Samsung Galaxy Note 8                         4655\n",
       "Motorola Moto G5                              4619\n",
       "                                             ...  \n",
       "Samsung Galaxy Gran Prime Duos                  32\n",
       "iPad Mini 3 Wi-Fi + 4G                          29\n",
       "Samsung Galaxy Tab S 8.4 Wi-Fi + 4G             25\n",
       "Samsung Galaxy Tab 4  10.1 Wi-Fi + 3G           22\n",
       "Samsung Galaxy Tab Pro 10.1 Wi-Fi               19\n",
       "Samsung Gear S3 Frontier                        17\n",
       "iPad 4 Wi-Fi + 4G                               16\n",
       "Samsung Galaxy Tab S 10.5 Wi-Fi + 4G            15\n",
       "Samsung Galaxy Tab E 9.6 Wi-Fi                  14\n",
       "Asus Zenfone 2 Laser                            12\n",
       "Samsung Galaxy Tab E 7 Wi-Fi + 3G               12\n",
       "Quantum Muv Pro                                 11\n",
       "Asus Zenfone Go                                  9\n",
       "Samsung Galaxy Tab S 10.5 Wi-Fi                  8\n",
       "Motorola Moto X1                                 7\n",
       "Motorola Moto G1 4G                              7\n",
       "Motorola Moto E2 DTV                             7\n",
       "Samsung Galaxy Tab E 9.6 Wi-Fi + 3G              6\n",
       "Samsung Gear S3 Classic                          5\n",
       "iPad Mini 2 Wi-Fi + 4G                           4\n",
       "Asus Live                                        4\n",
       "Samsung Galaxy S3 Neo Duos i9300i                4\n",
       "Samsung Galaxy Tab E 7 Wi-Fi                     4\n",
       "Samsung Galaxy Tab A 2016 10.1  W-Fi + 4G        3\n",
       "iPad 2 Wi-Fi                                     3\n",
       "LG L80 Dual                                      3\n",
       "Quantum Muv Up                                   2\n",
       "Quantum GO 3G                                    1\n",
       "Motorola Moto G1 3G                              1\n",
       "Samsung Galaxy Young 2 Duos TV                   1\n",
       "Name: model, dtype: int64"
      ]
     },
     "execution_count": 94,
     "metadata": {},
     "output_type": "execute_result"
    }
   ],
   "source": [
    "viewedmodel[\"model\"].value_counts()"
   ]
  },
  {
   "cell_type": "code",
   "execution_count": 8,
   "metadata": {},
   "outputs": [],
   "source": [
    "dataCountry = eventsData[[\"timestamp\",\"city\",\"region\",\"country\"]]"
   ]
  },
  {
   "cell_type": "code",
   "execution_count": 9,
   "metadata": {},
   "outputs": [
    {
     "data": {
      "text/html": [
       "<div>\n",
       "<table border=\"1\" class=\"dataframe\">\n",
       "  <thead>\n",
       "    <tr style=\"text-align: right;\">\n",
       "      <th></th>\n",
       "      <th>timestamp</th>\n",
       "      <th>city</th>\n",
       "      <th>region</th>\n",
       "      <th>country</th>\n",
       "    </tr>\n",
       "  </thead>\n",
       "  <tbody>\n",
       "    <tr>\n",
       "      <th>0</th>\n",
       "      <td>2018-05-31 23:38:05</td>\n",
       "      <td>NaN</td>\n",
       "      <td>NaN</td>\n",
       "      <td>NaN</td>\n",
       "    </tr>\n",
       "    <tr>\n",
       "      <th>1</th>\n",
       "      <td>2018-05-31 23:38:05</td>\n",
       "      <td>Camaragibe</td>\n",
       "      <td>Pernambuco</td>\n",
       "      <td>Brazil</td>\n",
       "    </tr>\n",
       "    <tr>\n",
       "      <th>2</th>\n",
       "      <td>2018-05-31 23:38:09</td>\n",
       "      <td>NaN</td>\n",
       "      <td>NaN</td>\n",
       "      <td>NaN</td>\n",
       "    </tr>\n",
       "    <tr>\n",
       "      <th>3</th>\n",
       "      <td>2018-05-31 23:38:40</td>\n",
       "      <td>NaN</td>\n",
       "      <td>NaN</td>\n",
       "      <td>NaN</td>\n",
       "    </tr>\n",
       "    <tr>\n",
       "      <th>4</th>\n",
       "      <td>2018-05-29 13:29:25</td>\n",
       "      <td>NaN</td>\n",
       "      <td>NaN</td>\n",
       "      <td>NaN</td>\n",
       "    </tr>\n",
       "  </tbody>\n",
       "</table>\n",
       "</div>"
      ],
      "text/plain": [
       "            timestamp        city      region country\n",
       "0 2018-05-31 23:38:05         NaN         NaN     NaN\n",
       "1 2018-05-31 23:38:05  Camaragibe  Pernambuco  Brazil\n",
       "2 2018-05-31 23:38:09         NaN         NaN     NaN\n",
       "3 2018-05-31 23:38:40         NaN         NaN     NaN\n",
       "4 2018-05-29 13:29:25         NaN         NaN     NaN"
      ]
     },
     "execution_count": 9,
     "metadata": {},
     "output_type": "execute_result"
    }
   ],
   "source": [
    "dataCountry.head()"
   ]
  },
  {
   "cell_type": "code",
   "execution_count": 10,
   "metadata": {},
   "outputs": [
    {
     "name": "stderr",
     "output_type": "stream",
     "text": [
      "/anaconda/lib/python3.6/site-packages/ipykernel/__main__.py:1: SettingWithCopyWarning: \n",
      "A value is trying to be set on a copy of a slice from a DataFrame.\n",
      "Try using .loc[row_indexer,col_indexer] = value instead\n",
      "\n",
      "See the caveats in the documentation: http://pandas.pydata.org/pandas-docs/stable/indexing.html#indexing-view-versus-copy\n",
      "  if __name__ == '__main__':\n"
     ]
    }
   ],
   "source": [
    "dataCountry[\"month\"] = dataCountry[\"timestamp\"].map(lambda x: x.month)"
   ]
  },
  {
   "cell_type": "code",
   "execution_count": 23,
   "metadata": {},
   "outputs": [
    {
     "data": {
      "text/plain": [
       "5    474949\n",
       "6    281882\n",
       "4    130008\n",
       "3     77293\n",
       "2     27886\n",
       "1     19270\n",
       "Name: month, dtype: int64"
      ]
     },
     "execution_count": 23,
     "metadata": {},
     "output_type": "execute_result"
    }
   ],
   "source": [
    "dataCountry[\"month\"].value_counts()"
   ]
  },
  {
   "cell_type": "code",
   "execution_count": 26,
   "metadata": {},
   "outputs": [
    {
     "data": {
      "text/plain": [
       "5    40137\n",
       "6    22419\n",
       "4    12650\n",
       "3     7247\n",
       "2     2790\n",
       "1     2135\n",
       "Name: month, dtype: int64"
      ]
     },
     "execution_count": 26,
     "metadata": {},
     "output_type": "execute_result"
    }
   ],
   "source": [
    "dataCountry.dropna(subset = [\"country\"])[\"month\"].value_counts()"
   ]
  },
  {
   "cell_type": "code",
   "execution_count": 28,
   "metadata": {},
   "outputs": [
    {
     "data": {
      "text/plain": [
       "Brazil                84308\n",
       "Unknown                2313\n",
       "United States           465\n",
       "Argentina                94\n",
       "Canada                   35\n",
       "Netherlands              13\n",
       "France                   13\n",
       "United Kingdom           12\n",
       "Mozambique               12\n",
       "Japan                    11\n",
       "Poland                    9\n",
       "French Guiana             8\n",
       "Portugal                  7\n",
       "Romania                   7\n",
       "Italy                     7\n",
       "Dominican Republic        6\n",
       "Guadeloupe                6\n",
       "Russia                    6\n",
       "Germany                   5\n",
       "Colombia                  4\n",
       "Bangladesh                4\n",
       "Paraguay                  4\n",
       "Switzerland               3\n",
       "Morocco                   2\n",
       "Angola                    2\n",
       "India                     2\n",
       "Uruguay                   1\n",
       "Belize                    1\n",
       "Spain                     1\n",
       "Mexico                    1\n",
       "Rwanda                    1\n",
       "Israel                    1\n",
       "China                     1\n",
       "Zimbabwe                  1\n",
       "South Africa              1\n",
       "Algeria                   1\n",
       "Saudi Arabia              1\n",
       "Uzbekistan                1\n",
       "Sri Lanka                 1\n",
       "Cape Verde                1\n",
       "Denmark                   1\n",
       "Philippines               1\n",
       "Ireland                   1\n",
       "Peru                      1\n",
       "Venezuela                 1\n",
       "Turkey                    1\n",
       "Name: country, dtype: int64"
      ]
     },
     "execution_count": 28,
     "metadata": {},
     "output_type": "execute_result"
    }
   ],
   "source": [
    "dataCountry[\"country\"].value_counts()"
   ]
  },
  {
   "cell_type": "code",
   "execution_count": 37,
   "metadata": {},
   "outputs": [
    {
     "data": {
      "text/plain": [
       "Chrome 66.0               22611\n",
       "Chrome Mobile 66.0        17513\n",
       "Chrome 65.0                6635\n",
       "Chrome Mobile 65.0         5665\n",
       "Chrome Mobile 64.0         3083\n",
       "Chrome 67.0                3073\n",
       "Chrome Mobile 67.0         2683\n",
       "Chrome 64.0                2450\n",
       "Mobile Safari 11           2071\n",
       "Chrome Mobile 39           1639\n",
       "Chrome 63.0                1490\n",
       "Chrome Mobile 63.0         1413\n",
       "Samsung Internet 6.4       1056\n",
       "Firefox 60                 1049\n",
       "Firefox 59                  918\n",
       "Mobile Safari 10            703\n",
       "Edge 16.16299               658\n",
       "Chrome 49.0                 602\n",
       "Chrome Mobile 62.0          568\n",
       "Chrome Mobile 55.0          527\n",
       "Chrome Mobile 43.0          422\n",
       "Chrome Mobile 61.0          390\n",
       "IE 11                       385\n",
       "Opera 53.0                  271\n",
       "Opera 52.0                  269\n",
       "Chrome Mobile 56.0          264\n",
       "Chrome Mobile 57.0          262\n",
       "Chrome Mobile 58.0          255\n",
       "Chrome Mobile 59.0          254\n",
       "Chrome Mobile 50.0          246\n",
       "                          ...  \n",
       "UC Browser 10.7               1\n",
       "Safari 3                      1\n",
       "Firefox 22                    1\n",
       "Firefox 19                    1\n",
       "Facebook 157                  1\n",
       "Chrome 58.6                   1\n",
       "Crosswalk 22.52               1\n",
       "Chrome Mobile iOS 60.0        1\n",
       "Facebook 136                  1\n",
       "Opera 36.0                    1\n",
       "Mobile Safari 5.1             1\n",
       "Chrome 11.0                   1\n",
       "Chrome 57.9                   1\n",
       "Yandex Browser 16.9           1\n",
       "Chrome Mobile 26.0            1\n",
       "Opera Mini 35.0               1\n",
       "Facebook 114                  1\n",
       "Facebook 145                  1\n",
       "Facebook 83                   1\n",
       "Facebook 130                  1\n",
       "Opera Mini 7.6                1\n",
       "Chrome 58.3                   1\n",
       "Chrome Mobile iOS 61.0        1\n",
       "Facebook 63                   1\n",
       "Android 6                     1\n",
       "Chrome 56.14                  1\n",
       "Opera Mini 21.0               1\n",
       "Facebook 84                   1\n",
       "Facebook 106                  1\n",
       "Chromium 62.0                 1\n",
       "Name: browser_version, dtype: int64"
      ]
     },
     "execution_count": 37,
     "metadata": {},
     "output_type": "execute_result"
    }
   ],
   "source": [
    "eventsData[\"browser_version\"].value_counts()"
   ]
  },
  {
   "cell_type": "code",
   "execution_count": 46,
   "metadata": {},
   "outputs": [
    {
     "data": {
      "text/plain": [
       "Chrome       0.859908\n",
       "Mobile       0.037069\n",
       "Firefox      0.029927\n",
       "Samsung      0.019444\n",
       "Facebook     0.016194\n",
       "Edge         0.013104\n",
       "Opera        0.007885\n",
       "IE           0.007359\n",
       "Android      0.003971\n",
       "Safari       0.001865\n",
       "UC           0.001556\n",
       "Chromium     0.000458\n",
       "Vivaldi      0.000435\n",
       "Other        0.000240\n",
       "Maxthon      0.000183\n",
       "Yandex       0.000114\n",
       "Puffin       0.000114\n",
       "Dragon       0.000057\n",
       "Amazon       0.000034\n",
       "Iron         0.000034\n",
       "Pinterest    0.000023\n",
       "Crosswalk    0.000011\n",
       "Pale         0.000011\n",
       "Name: browser_version, dtype: float64"
      ]
     },
     "execution_count": 46,
     "metadata": {},
     "output_type": "execute_result"
    }
   ],
   "source": [
    "browsers = eventsData.dropna(subset = [\"browser_version\"])\n",
    "browsers[\"browser_version\"].map(lambda x: x.split(\" \")[0]).value_counts(normalize = True)"
   ]
  },
  {
   "cell_type": "code",
   "execution_count": 47,
   "metadata": {},
   "outputs": [
    {
     "data": {
      "image/png": "[encoded data removed]",
      "text/plain": [
       "<matplotlib.figure.Figure at 0x1134e2358>"
      ]
     },
     "metadata": {},
     "output_type": "display_data"
    }
   ],
   "source": [
    "#Graficamos las 10 areas de trabajo que mas postulaciones reciben\n",
    "f = plt.figure()\n",
    "\n",
    "plt.title ('Top 7 Browser ',color='black')\n",
    "\n",
    "ax = browsers[\"browser_version\"].map(lambda x: x.split(\" \")[0]).value_counts()[0:7].plot(kind='bar', figsize=(10,6) ,alpha=0.75, ax=f.gca(), color='green' )\n",
    "\n",
    "\n",
    "ax.set_xlabel('Browser')\n",
    "ax.set_ylabel(\"Cantidad de usuarios\")\n",
    "#plt.show()\n",
    "#Exportamos el plot como .png para poder ponerlo en el informe\n",
    "plt.savefig('Top5skuns.png',bbox_inches='tight')\n",
    "\n",
    "\n"
   ]
  },
  {
   "cell_type": "code",
   "execution_count": 56,
   "metadata": {},
   "outputs": [
    {
     "name": "stderr",
     "output_type": "stream",
     "text": [
      "/anaconda/lib/python3.6/site-packages/ipykernel/__main__.py:1: SettingWithCopyWarning: \n",
      "A value is trying to be set on a copy of a slice from a DataFrame.\n",
      "Try using .loc[row_indexer,col_indexer] = value instead\n",
      "\n",
      "See the caveats in the documentation: http://pandas.pydata.org/pandas-docs/stable/indexing.html#indexing-view-versus-copy\n",
      "  if __name__ == '__main__':\n"
     ]
    }
   ],
   "source": [
    "browsers[\"browser_version\"] = browsers[\"browser_version\"].map(lambda x: x.split(\" \")[0]).map(lambda x: \"Safari\" if (x == \"Mobile\") else x)"
   ]
  },
  {
   "cell_type": "code",
   "execution_count": 59,
   "metadata": {},
   "outputs": [
    {
     "data": {
      "image/png": "[encoded data removed]",
      "text/plain": [
       "<matplotlib.figure.Figure at 0x11165a7b8>"
      ]
     },
     "metadata": {},
     "output_type": "display_data"
    }
   ],
   "source": [
    "#Graficamos las 10 areas de trabajo que mas postulaciones reciben\n",
    "f = plt.figure()\n",
    "\n",
    "plt.title ('Top 7 Browser ',color='black')\n",
    "\n",
    "ax = browsers[\"browser_version\"].value_counts()[0:7].plot(kind='bar', figsize=(10,6) ,alpha=0.75, logy = True, ax=f.gca(), color='green' )\n",
    "\n",
    "\n",
    "ax.set_xlabel('Browser')\n",
    "ax.set_ylabel(\"Cantidad de eventos\")\n",
    "#plt.show()\n",
    "#Exportamos el plot como .png para poder ponerlo en el informe\n",
    "plt.savefig('Top5skuns.png',bbox_inches='tight')\n",
    "\n",
    "\n",
    "\n"
   ]
  },
  {
   "cell_type": "code",
   "execution_count": 58,
   "metadata": {},
   "outputs": [],
   "source": [
    "browsers_device = browsers[[\"browser_version\",\"device_type\"]]"
   ]
  },
  {
   "cell_type": "code",
   "execution_count": 71,
   "metadata": {},
   "outputs": [],
   "source": [
    "browsers_device = browsers_device[browsers_device[\"device_type\"] != \"Unknown\"]"
   ]
  },
  {
   "cell_type": "code",
   "execution_count": 73,
   "metadata": {},
   "outputs": [],
   "source": [
    "browsers_device[\"device_type\"] = browsers_device[\"device_type\"].map(lambda x: \"Smartphone\" if (x==\"Tablet\") else x)"
   ]
  },
  {
   "cell_type": "code",
   "execution_count": 74,
   "metadata": {},
   "outputs": [
    {
     "data": {
      "text/plain": [
       "Smartphone    45473\n",
       "Computer      41790\n",
       "Name: device_type, dtype: int64"
      ]
     },
     "execution_count": 74,
     "metadata": {},
     "output_type": "execute_result"
    }
   ],
   "source": [
    "browsers_device[\"device_type\"].value_counts()"
   ]
  },
  {
   "cell_type": "code",
   "execution_count": 79,
   "metadata": {},
   "outputs": [
    {
     "data": {
      "text/html": [
       "<div>\n",
       "<table border=\"1\" class=\"dataframe\">\n",
       "  <thead>\n",
       "    <tr style=\"text-align: right;\">\n",
       "      <th></th>\n",
       "      <th>browser_version</th>\n",
       "      <th>device_type</th>\n",
       "      <th>count</th>\n",
       "    </tr>\n",
       "  </thead>\n",
       "  <tbody>\n",
       "    <tr>\n",
       "      <th>1</th>\n",
       "      <td>Chrome</td>\n",
       "      <td>Smartphone</td>\n",
       "      <td>1</td>\n",
       "    </tr>\n",
       "    <tr>\n",
       "      <th>5</th>\n",
       "      <td>Android</td>\n",
       "      <td>Smartphone</td>\n",
       "      <td>1</td>\n",
       "    </tr>\n",
       "    <tr>\n",
       "      <th>9</th>\n",
       "      <td>Chrome</td>\n",
       "      <td>Computer</td>\n",
       "      <td>1</td>\n",
       "    </tr>\n",
       "    <tr>\n",
       "      <th>16</th>\n",
       "      <td>Chrome</td>\n",
       "      <td>Computer</td>\n",
       "      <td>1</td>\n",
       "    </tr>\n",
       "    <tr>\n",
       "      <th>45</th>\n",
       "      <td>Chrome</td>\n",
       "      <td>Computer</td>\n",
       "      <td>1</td>\n",
       "    </tr>\n",
       "  </tbody>\n",
       "</table>\n",
       "</div>"
      ],
      "text/plain": [
       "   browser_version device_type  count\n",
       "1           Chrome  Smartphone      1\n",
       "5          Android  Smartphone      1\n",
       "9           Chrome    Computer      1\n",
       "16          Chrome    Computer      1\n",
       "45          Chrome    Computer      1"
      ]
     },
     "execution_count": 79,
     "metadata": {},
     "output_type": "execute_result"
    }
   ],
   "source": [
    "browsers_device[\"count\"] = 1\n",
    "browsers_device.head()"
   ]
  },
  {
   "cell_type": "code",
   "execution_count": 87,
   "metadata": {},
   "outputs": [],
   "source": [
    "browsers_device = browsers_device[browsers_device[\"browser_version\"].isin([\"Chrome\",\"Safari\",\"Firefox\",\"Samsung\",\"Facebook\",\"Edge\",\"Opera\"])]"
   ]
  },
  {
   "cell_type": "code",
   "execution_count": 94,
   "metadata": {},
   "outputs": [],
   "source": [
    "browsers_device = browsers_device.groupby([\"browser_version\",\"device_type\"],as_index = False).count()"
   ]
  },
  {
   "cell_type": "code",
   "execution_count": 101,
   "metadata": {},
   "outputs": [
    {
     "data": {
      "image/png": "[encoded data removed]",
      "text/plain": [
       "<matplotlib.figure.Figure at 0x11860ff60>"
      ]
     },
     "metadata": {},
     "output_type": "display_data"
    }
   ],
   "source": [
    "import seaborn as sns\n",
    "\n",
    "g = sns.barplot(x='browser_version', y='count', hue='device_type', data=browsers_device)\n",
    "g.set_yscale('log')\n",
    "plt.ylabel('Cantidad de eventos')\n",
    "plt.xlabel('Browser')\n",
    "g.legend(title = \"Tipo de dispositivo\")\n",
    "plt.title('Cantidad de eventos por tipo de dispositivo y browser');\n",
    "\n"
   ]
  },
  {
   "cell_type": "code",
   "execution_count": null,
   "metadata": {},
   "outputs": [],
   "source": []
  }
 ],
 "metadata": {
  "kernelspec": {
   "display_name": "Python 3",
   "language": "python",
   "name": "python3"
  },
  "language_info": {
   "codemirror_mode": {
    "name": "ipython",
    "version": 3
   },
   "file_extension": ".py",
   "mimetype": "text/x-python",
   "name": "python",
   "nbconvert_exporter": "python",
   "pygments_lexer": "ipython3",
   "version": "3.6.0"
  }
 },
 "nbformat": 4,
 "nbformat_minor": 2
}
